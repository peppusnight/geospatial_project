{
 "cells": [
  {
   "cell_type": "code",
   "execution_count": 2,
   "id": "excessive-digest",
   "metadata": {
    "scrolled": true
   },
   "outputs": [
    {
     "name": "stderr",
     "output_type": "stream",
     "text": [
      "Linking to GEOS 3.9.0, GDAL 3.2.1, PROJ 7.2.1\n",
      "\n",
      "rgdal: version: 1.5-23, (SVN revision 1121)\n",
      "Geospatial Data Abstraction Library extensions to R successfully loaded\n",
      "Loaded GDAL runtime: GDAL 3.2.1, released 2020/12/29\n",
      "Path to GDAL shared files: C:/Users/peppu/Documents/R/win-library/4.0/rgdal/gdal\n",
      "GDAL binary built with GEOS: TRUE \n",
      "Loaded PROJ runtime: Rel. 7.2.1, January 1st, 2021, [PJ_VERSION: 721]\n",
      "Path to PROJ shared files: C:/Users/peppu/Documents/R/win-library/4.0/rgdal/proj\n",
      "PROJ CDN enabled: FALSE\n",
      "Linking to sp version:1.4-5\n",
      "To mute warnings of possible GDAL/OSR exportToProj4() degradation,\n",
      "use options(\"rgdal_show_exportToProj4_warnings\"=\"none\") before loading rgdal.\n",
      "Overwritten PROJ_LIB was C:/Users/peppu/Documents/R/win-library/4.0/rgdal/proj\n",
      "\n",
      "rgeos version: 0.5-5, (SVN revision 640)\n",
      " GEOS runtime version: 3.8.0-CAPI-1.13.1 \n",
      " Linking to sp version: 1.4-5 \n",
      " Polygon checking: TRUE \n",
      "\n",
      "\n",
      "Checking rgeos availability: TRUE\n",
      "\n",
      "Loading required package: spData\n",
      "\n",
      "To access larger datasets in this package, install the spDataLarge\n",
      "package with: `install.packages('spDataLarge',\n",
      "repos='https://nowosad.github.io/drat/', type='source')`\n",
      "\n",
      "Loading required package: spatstat.data\n",
      "\n",
      "Loading required package: spatstat.geom\n",
      "\n",
      "spatstat.geom 2.2-2\n",
      "\n",
      "Loading required package: spatstat.core\n",
      "\n",
      "Loading required package: nlme\n",
      "\n",
      "Loading required package: rpart\n",
      "\n",
      "spatstat.core 2.2-0\n",
      "\n",
      "Loading required package: spatstat.linnet\n",
      "\n",
      "spatstat.linnet 2.2-1\n",
      "\n",
      "\n",
      "spatstat 2.2-0       (nickname: 'That's not important right now') \n",
      "For an introduction to spatstat, type 'beginner' \n",
      "\n",
      "\n",
      "\n",
      "Spatial Point Pattern Analysis Code in S-Plus\n",
      " \n",
      " Version 2 - Spatial and Space-Time analysis\n",
      "\n",
      "\n",
      "\n",
      "Attaching package: 'raster'\n",
      "\n",
      "\n",
      "The following object is masked from 'package:splancs':\n",
      "\n",
      "    zoom\n",
      "\n",
      "\n",
      "The following object is masked from 'package:nlme':\n",
      "\n",
      "    getData\n",
      "\n",
      "\n",
      "The following objects are masked from 'package:spatstat.geom':\n",
      "\n",
      "    area, rotate, shift\n",
      "\n",
      "\n",
      "\n",
      "Attaching package: 'data.table'\n",
      "\n",
      "\n",
      "The following object is masked from 'package:raster':\n",
      "\n",
      "    shift\n",
      "\n",
      "\n",
      "The following object is masked from 'package:spatstat.geom':\n",
      "\n",
      "    shift\n",
      "\n",
      "\n"
     ]
    }
   ],
   "source": [
    "defaultW <- getOption(\"warn\")\n",
    "options(warn = -1)\n",
    "library(sp)\n",
    "library(sf)\n",
    "library(rgdal)\n",
    "library(rgeos)\n",
    "library(maptools)\n",
    "library(spdep)\n",
    "library(spatstat)\n",
    "library(splancs)\n",
    "#gpclibPermit()\n",
    "library(raster)\n",
    "library(data.table)\n",
    "require(spatialreg)\n",
    "options(warn = defaultW)"
   ]
  },
  {
   "cell_type": "markdown",
   "id": "removed-snake",
   "metadata": {},
   "source": [
    "# 0 - Problem Statement \n",
    "da scrivere"
   ]
  },
  {
   "cell_type": "markdown",
   "id": "suburban-mercy",
   "metadata": {},
   "source": [
    "# 1 - Load shape file for regions and districts"
   ]
  },
  {
   "cell_type": "code",
   "execution_count": 3,
   "id": "cutting-clause",
   "metadata": {},
   "outputs": [
    {
     "name": "stdout",
     "output_type": "stream",
     "text": [
      "OGR data source with driver: ESRI Shapefile \n",
      "Source: \"C:\\Users\\peppu\\Documents\\MyPythonProject\\geospatial_project\\external_shp\\ProvCM01012018_g\\ProvCM01012018_g_WGS84.shp\", layer: \"ProvCM01012018_g_WGS84\"\n",
      "with 107 features\n",
      "It has 12 fields\n",
      "Integer64 fields read as strings:  COD_RIP COD_REG COD_PROV COD_CM COD_PCM \n",
      "OGR data source with driver: ESRI Shapefile \n",
      "Source: \"C:\\Users\\peppu\\Documents\\MyPythonProject\\geospatial_project\\external_shp\\Reg01012018_g\\Reg01012018_g_WGS84.shp\", layer: \"Reg01012018_g_WGS84\"\n",
      "with 20 features\n",
      "It has 6 fields\n",
      "Integer64 fields read as strings:  COD_RIP COD_REG \n"
     ]
    },
    {
     "data": {
      "text/html": [
       "<table class=\"dataframe\">\n",
       "<caption>A data.frame: 6 × 12</caption>\n",
       "<thead>\n",
       "\t<tr><th></th><th scope=col>COD_RIP</th><th scope=col>COD_REG</th><th scope=col>COD_PROV</th><th scope=col>COD_CM</th><th scope=col>COD_PCM</th><th scope=col>DEN_PROV</th><th scope=col>DEN_CM</th><th scope=col>DEN_PCM</th><th scope=col>SIGLA</th><th scope=col>SHAPE_LENG</th><th scope=col>SHAPE_AREA</th><th scope=col>SHAPE_LEN</th></tr>\n",
       "\t<tr><th></th><th scope=col>&lt;chr&gt;</th><th scope=col>&lt;chr&gt;</th><th scope=col>&lt;chr&gt;</th><th scope=col>&lt;chr&gt;</th><th scope=col>&lt;chr&gt;</th><th scope=col>&lt;chr&gt;</th><th scope=col>&lt;chr&gt;</th><th scope=col>&lt;chr&gt;</th><th scope=col>&lt;chr&gt;</th><th scope=col>&lt;dbl&gt;</th><th scope=col>&lt;dbl&gt;</th><th scope=col>&lt;dbl&gt;</th></tr>\n",
       "</thead>\n",
       "<tbody>\n",
       "\t<tr><th scope=row>0</th><td>1</td><td>1</td><td>1</td><td>201</td><td>201</td><td>-          </td><td>Torino</td><td>Torino     </td><td>TO</td><td>539249.8</td><td>6828137329</td><td>539249.8</td></tr>\n",
       "\t<tr><th scope=row>1</th><td>1</td><td>1</td><td>2</td><td>0  </td><td>2  </td><td>Vercelli   </td><td>-     </td><td>Vercelli   </td><td>VC</td><td>418249.3</td><td>2082027827</td><td>418249.3</td></tr>\n",
       "\t<tr><th scope=row>2</th><td>1</td><td>1</td><td>3</td><td>0  </td><td>3  </td><td>Novara     </td><td>-     </td><td>Novara     </td><td>NO</td><td>250242.4</td><td>1341319564</td><td>250242.4</td></tr>\n",
       "\t<tr><th scope=row>3</th><td>1</td><td>1</td><td>4</td><td>0  </td><td>4  </td><td>Cuneo      </td><td>-     </td><td>Cuneo      </td><td>CN</td><td>490111.9</td><td>6898443198</td><td>490111.9</td></tr>\n",
       "\t<tr><th scope=row>4</th><td>1</td><td>1</td><td>5</td><td>0  </td><td>5  </td><td>Asti       </td><td>-     </td><td>Asti       </td><td>AT</td><td>315561.4</td><td>1508948105</td><td>315561.4</td></tr>\n",
       "\t<tr><th scope=row>5</th><td>1</td><td>1</td><td>6</td><td>0  </td><td>6  </td><td>Alessandria</td><td>-     </td><td>Alessandria</td><td>AL</td><td>474880.9</td><td>3560304556</td><td>474880.9</td></tr>\n",
       "</tbody>\n",
       "</table>\n"
      ],
      "text/latex": [
       "A data.frame: 6 × 12\n",
       "\\begin{tabular}{r|llllllllllll}\n",
       "  & COD\\_RIP & COD\\_REG & COD\\_PROV & COD\\_CM & COD\\_PCM & DEN\\_PROV & DEN\\_CM & DEN\\_PCM & SIGLA & SHAPE\\_LENG & SHAPE\\_AREA & SHAPE\\_LEN\\\\\n",
       "  & <chr> & <chr> & <chr> & <chr> & <chr> & <chr> & <chr> & <chr> & <chr> & <dbl> & <dbl> & <dbl>\\\\\n",
       "\\hline\n",
       "\t0 & 1 & 1 & 1 & 201 & 201 & -           & Torino & Torino      & TO & 539249.8 & 6828137329 & 539249.8\\\\\n",
       "\t1 & 1 & 1 & 2 & 0   & 2   & Vercelli    & -      & Vercelli    & VC & 418249.3 & 2082027827 & 418249.3\\\\\n",
       "\t2 & 1 & 1 & 3 & 0   & 3   & Novara      & -      & Novara      & NO & 250242.4 & 1341319564 & 250242.4\\\\\n",
       "\t3 & 1 & 1 & 4 & 0   & 4   & Cuneo       & -      & Cuneo       & CN & 490111.9 & 6898443198 & 490111.9\\\\\n",
       "\t4 & 1 & 1 & 5 & 0   & 5   & Asti        & -      & Asti        & AT & 315561.4 & 1508948105 & 315561.4\\\\\n",
       "\t5 & 1 & 1 & 6 & 0   & 6   & Alessandria & -      & Alessandria & AL & 474880.9 & 3560304556 & 474880.9\\\\\n",
       "\\end{tabular}\n"
      ],
      "text/markdown": [
       "\n",
       "A data.frame: 6 × 12\n",
       "\n",
       "| <!--/--> | COD_RIP &lt;chr&gt; | COD_REG &lt;chr&gt; | COD_PROV &lt;chr&gt; | COD_CM &lt;chr&gt; | COD_PCM &lt;chr&gt; | DEN_PROV &lt;chr&gt; | DEN_CM &lt;chr&gt; | DEN_PCM &lt;chr&gt; | SIGLA &lt;chr&gt; | SHAPE_LENG &lt;dbl&gt; | SHAPE_AREA &lt;dbl&gt; | SHAPE_LEN &lt;dbl&gt; |\n",
       "|---|---|---|---|---|---|---|---|---|---|---|---|---|\n",
       "| 0 | 1 | 1 | 1 | 201 | 201 | -           | Torino | Torino      | TO | 539249.8 | 6828137329 | 539249.8 |\n",
       "| 1 | 1 | 1 | 2 | 0   | 2   | Vercelli    | -      | Vercelli    | VC | 418249.3 | 2082027827 | 418249.3 |\n",
       "| 2 | 1 | 1 | 3 | 0   | 3   | Novara      | -      | Novara      | NO | 250242.4 | 1341319564 | 250242.4 |\n",
       "| 3 | 1 | 1 | 4 | 0   | 4   | Cuneo       | -      | Cuneo       | CN | 490111.9 | 6898443198 | 490111.9 |\n",
       "| 4 | 1 | 1 | 5 | 0   | 5   | Asti        | -      | Asti        | AT | 315561.4 | 1508948105 | 315561.4 |\n",
       "| 5 | 1 | 1 | 6 | 0   | 6   | Alessandria | -      | Alessandria | AL | 474880.9 | 3560304556 | 474880.9 |\n",
       "\n"
      ],
      "text/plain": [
       "  COD_RIP COD_REG COD_PROV COD_CM COD_PCM DEN_PROV    DEN_CM DEN_PCM     SIGLA\n",
       "0 1       1       1        201    201     -           Torino Torino      TO   \n",
       "1 1       1       2        0      2       Vercelli    -      Vercelli    VC   \n",
       "2 1       1       3        0      3       Novara      -      Novara      NO   \n",
       "3 1       1       4        0      4       Cuneo       -      Cuneo       CN   \n",
       "4 1       1       5        0      5       Asti        -      Asti        AT   \n",
       "5 1       1       6        0      6       Alessandria -      Alessandria AL   \n",
       "  SHAPE_LENG SHAPE_AREA SHAPE_LEN\n",
       "0 539249.8   6828137329 539249.8 \n",
       "1 418249.3   2082027827 418249.3 \n",
       "2 250242.4   1341319564 250242.4 \n",
       "3 490111.9   6898443198 490111.9 \n",
       "4 315561.4   1508948105 315561.4 \n",
       "5 474880.9   3560304556 474880.9 "
      ]
     },
     "metadata": {},
     "output_type": "display_data"
    }
   ],
   "source": [
    "ita_prov = readOGR(\"external_shp/ProvCM01012018_g/ProvCM01012018_g_WGS84.shp\")\n",
    "ita_reg = readOGR(\"external_shp/Reg01012018_g/Reg01012018_g_WGS84.shp\")\n",
    "head(as.data.frame(ita_prov))"
   ]
  },
  {
   "cell_type": "code",
   "execution_count": 4,
   "id": "indirect-rescue",
   "metadata": {},
   "outputs": [],
   "source": [
    "ita_prov$COD_REG = as.numeric(ita_prov$COD_REG) # convert region code into numeric"
   ]
  },
  {
   "cell_type": "markdown",
   "id": "exotic-perfume",
   "metadata": {},
   "source": [
    "## 1.1 COVID cases calculation\n",
    "Read COVID data for all the districts"
   ]
  },
  {
   "cell_type": "code",
   "execution_count": 5,
   "id": "accurate-chinese",
   "metadata": {
    "scrolled": true
   },
   "outputs": [],
   "source": [
    "dati_prov_covid = read.csv(\"C:/Users/peppu/Documents/MyPythonProject/COVID-19/dati-province/dpc-covid19-ita-province.csv\")\n",
    "dati_prov_covid_jan21 = dati_prov_covid[(dati_prov_covid$data %like% \"2021-01\") | (dati_prov_covid$data %like% \"2020-12\"), ]\n",
    "dati_prov_covid_jan21$COD_PROV = dati_prov_covid_jan21$codice_provincia\n",
    "dati_prov_covid_jan21$COD_REG = dati_prov_covid_jan21$codice_regione"
   ]
  },
  {
   "cell_type": "markdown",
   "id": "fantastic-restriction",
   "metadata": {},
   "source": [
    "Calculate for each district the new number of cases in DEC-2020 to JAN-2021."
   ]
  },
  {
   "cell_type": "code",
   "execution_count": 6,
   "id": "prescription-tract",
   "metadata": {},
   "outputs": [],
   "source": [
    "unique_prov = unique(dati_prov_covid_jan21$COD_PROV)\n",
    "prov_arr = c()\n",
    "tot_casi_prov = c()\n",
    "for(i in unique_prov) {\n",
    "    tot_casi=0\n",
    "    df = subset(dati_prov_covid_jan21, COD_PROV==i)\n",
    "    tot_casi = max(df$totale_casi)-min(df$totale_casi)\n",
    "    prov_arr = c(prov_arr,i)\n",
    "    tot_casi_prov = c(tot_casi_prov,tot_casi)\n",
    "}\n",
    "sum_cases = data.frame(prov_arr, tot_casi_prov)\n",
    "colnames(sum_cases) = c('COD_PROV','case_sum')"
   ]
  },
  {
   "cell_type": "markdown",
   "id": "valued-librarian",
   "metadata": {},
   "source": [
    "Merge the spatial dataframe with the districts information"
   ]
  },
  {
   "cell_type": "code",
   "execution_count": 7,
   "id": "induced-inventory",
   "metadata": {},
   "outputs": [],
   "source": [
    "# ita_prov_new = merge(ita_prov,dati_prov_covid_jan21,by=\"COD_PROV\")\n",
    "ita_prov = merge(ita_prov,sum_cases,by=\"COD_PROV\")"
   ]
  },
  {
   "cell_type": "markdown",
   "id": "studied-zealand",
   "metadata": {},
   "source": [
    "## 1.2 ISTAT region features\n",
    "Get from COVID dataset the features for each region; since the dataset is in region and not in district I divide by the area of the region to get the density and then multiply by the area of the district."
   ]
  },
  {
   "cell_type": "code",
   "execution_count": 8,
   "id": "agreed-institution",
   "metadata": {},
   "outputs": [
    {
     "data": {
      "text/html": [
       "<table class=\"dataframe\">\n",
       "<caption>A data.frame: 6 × 13</caption>\n",
       "<thead>\n",
       "\t<tr><th></th><th scope=col>codice_regione</th><th scope=col>codice_nuts_1</th><th scope=col>descrizione_nuts_1</th><th scope=col>codice_nuts_2</th><th scope=col>denominazione_regione</th><th scope=col>sigla_regione</th><th scope=col>latitudine_regione</th><th scope=col>longitudine_regione</th><th scope=col>range_eta</th><th scope=col>totale_genere_maschile</th><th scope=col>totale_genere_femminile</th><th scope=col>totale_generale</th><th scope=col>COD_REG</th></tr>\n",
       "\t<tr><th></th><th scope=col>&lt;int&gt;</th><th scope=col>&lt;chr&gt;</th><th scope=col>&lt;chr&gt;</th><th scope=col>&lt;chr&gt;</th><th scope=col>&lt;chr&gt;</th><th scope=col>&lt;chr&gt;</th><th scope=col>&lt;dbl&gt;</th><th scope=col>&lt;dbl&gt;</th><th scope=col>&lt;chr&gt;</th><th scope=col>&lt;int&gt;</th><th scope=col>&lt;int&gt;</th><th scope=col>&lt;int&gt;</th><th scope=col>&lt;dbl&gt;</th></tr>\n",
       "</thead>\n",
       "<tbody>\n",
       "\t<tr><th scope=row>1</th><td>13</td><td>ITF</td><td>Sud</td><td>ITF1</td><td>Abruzzo</td><td>ABR</td><td>42.35122</td><td>13.39844</td><td>0-15 </td><td> 87423</td><td> 82474</td><td>169897</td><td>13</td></tr>\n",
       "\t<tr><th scope=row>2</th><td>13</td><td>ITF</td><td>Sud</td><td>ITF1</td><td>Abruzzo</td><td>ABR</td><td>42.35122</td><td>13.39844</td><td>16-19</td><td> 24402</td><td> 22349</td><td> 46751</td><td>13</td></tr>\n",
       "\t<tr><th scope=row>3</th><td>13</td><td>ITF</td><td>Sud</td><td>ITF1</td><td>Abruzzo</td><td>ABR</td><td>42.35122</td><td>13.39844</td><td>20-29</td><td> 67472</td><td> 62611</td><td>130083</td><td>13</td></tr>\n",
       "\t<tr><th scope=row>4</th><td>13</td><td>ITF</td><td>Sud</td><td>ITF1</td><td>Abruzzo</td><td>ABR</td><td>42.35122</td><td>13.39844</td><td>30-39</td><td> 76472</td><td> 74241</td><td>150713</td><td>13</td></tr>\n",
       "\t<tr><th scope=row>5</th><td>13</td><td>ITF</td><td>Sud</td><td>ITF1</td><td>Abruzzo</td><td>ABR</td><td>42.35122</td><td>13.39844</td><td>40-49</td><td> 94745</td><td> 95315</td><td>190060</td><td>13</td></tr>\n",
       "\t<tr><th scope=row>6</th><td>13</td><td>ITF</td><td>Sud</td><td>ITF1</td><td>Abruzzo</td><td>ABR</td><td>42.35122</td><td>13.39844</td><td>50-59</td><td>100048</td><td>104109</td><td>204157</td><td>13</td></tr>\n",
       "</tbody>\n",
       "</table>\n"
      ],
      "text/latex": [
       "A data.frame: 6 × 13\n",
       "\\begin{tabular}{r|lllllllllllll}\n",
       "  & codice\\_regione & codice\\_nuts\\_1 & descrizione\\_nuts\\_1 & codice\\_nuts\\_2 & denominazione\\_regione & sigla\\_regione & latitudine\\_regione & longitudine\\_regione & range\\_eta & totale\\_genere\\_maschile & totale\\_genere\\_femminile & totale\\_generale & COD\\_REG\\\\\n",
       "  & <int> & <chr> & <chr> & <chr> & <chr> & <chr> & <dbl> & <dbl> & <chr> & <int> & <int> & <int> & <dbl>\\\\\n",
       "\\hline\n",
       "\t1 & 13 & ITF & Sud & ITF1 & Abruzzo & ABR & 42.35122 & 13.39844 & 0-15  &  87423 &  82474 & 169897 & 13\\\\\n",
       "\t2 & 13 & ITF & Sud & ITF1 & Abruzzo & ABR & 42.35122 & 13.39844 & 16-19 &  24402 &  22349 &  46751 & 13\\\\\n",
       "\t3 & 13 & ITF & Sud & ITF1 & Abruzzo & ABR & 42.35122 & 13.39844 & 20-29 &  67472 &  62611 & 130083 & 13\\\\\n",
       "\t4 & 13 & ITF & Sud & ITF1 & Abruzzo & ABR & 42.35122 & 13.39844 & 30-39 &  76472 &  74241 & 150713 & 13\\\\\n",
       "\t5 & 13 & ITF & Sud & ITF1 & Abruzzo & ABR & 42.35122 & 13.39844 & 40-49 &  94745 &  95315 & 190060 & 13\\\\\n",
       "\t6 & 13 & ITF & Sud & ITF1 & Abruzzo & ABR & 42.35122 & 13.39844 & 50-59 & 100048 & 104109 & 204157 & 13\\\\\n",
       "\\end{tabular}\n"
      ],
      "text/markdown": [
       "\n",
       "A data.frame: 6 × 13\n",
       "\n",
       "| <!--/--> | codice_regione &lt;int&gt; | codice_nuts_1 &lt;chr&gt; | descrizione_nuts_1 &lt;chr&gt; | codice_nuts_2 &lt;chr&gt; | denominazione_regione &lt;chr&gt; | sigla_regione &lt;chr&gt; | latitudine_regione &lt;dbl&gt; | longitudine_regione &lt;dbl&gt; | range_eta &lt;chr&gt; | totale_genere_maschile &lt;int&gt; | totale_genere_femminile &lt;int&gt; | totale_generale &lt;int&gt; | COD_REG &lt;dbl&gt; |\n",
       "|---|---|---|---|---|---|---|---|---|---|---|---|---|---|\n",
       "| 1 | 13 | ITF | Sud | ITF1 | Abruzzo | ABR | 42.35122 | 13.39844 | 0-15  |  87423 |  82474 | 169897 | 13 |\n",
       "| 2 | 13 | ITF | Sud | ITF1 | Abruzzo | ABR | 42.35122 | 13.39844 | 16-19 |  24402 |  22349 |  46751 | 13 |\n",
       "| 3 | 13 | ITF | Sud | ITF1 | Abruzzo | ABR | 42.35122 | 13.39844 | 20-29 |  67472 |  62611 | 130083 | 13 |\n",
       "| 4 | 13 | ITF | Sud | ITF1 | Abruzzo | ABR | 42.35122 | 13.39844 | 30-39 |  76472 |  74241 | 150713 | 13 |\n",
       "| 5 | 13 | ITF | Sud | ITF1 | Abruzzo | ABR | 42.35122 | 13.39844 | 40-49 |  94745 |  95315 | 190060 | 13 |\n",
       "| 6 | 13 | ITF | Sud | ITF1 | Abruzzo | ABR | 42.35122 | 13.39844 | 50-59 | 100048 | 104109 | 204157 | 13 |\n",
       "\n"
      ],
      "text/plain": [
       "  codice_regione codice_nuts_1 descrizione_nuts_1 codice_nuts_2\n",
       "1 13             ITF           Sud                ITF1         \n",
       "2 13             ITF           Sud                ITF1         \n",
       "3 13             ITF           Sud                ITF1         \n",
       "4 13             ITF           Sud                ITF1         \n",
       "5 13             ITF           Sud                ITF1         \n",
       "6 13             ITF           Sud                ITF1         \n",
       "  denominazione_regione sigla_regione latitudine_regione longitudine_regione\n",
       "1 Abruzzo               ABR           42.35122           13.39844           \n",
       "2 Abruzzo               ABR           42.35122           13.39844           \n",
       "3 Abruzzo               ABR           42.35122           13.39844           \n",
       "4 Abruzzo               ABR           42.35122           13.39844           \n",
       "5 Abruzzo               ABR           42.35122           13.39844           \n",
       "6 Abruzzo               ABR           42.35122           13.39844           \n",
       "  range_eta totale_genere_maschile totale_genere_femminile totale_generale\n",
       "1 0-15       87423                  82474                  169897         \n",
       "2 16-19      24402                  22349                   46751         \n",
       "3 20-29      67472                  62611                  130083         \n",
       "4 30-39      76472                  74241                  150713         \n",
       "5 40-49      94745                  95315                  190060         \n",
       "6 50-59     100048                 104109                  204157         \n",
       "  COD_REG\n",
       "1 13     \n",
       "2 13     \n",
       "3 13     \n",
       "4 13     \n",
       "5 13     \n",
       "6 13     "
      ]
     },
     "metadata": {},
     "output_type": "display_data"
    }
   ],
   "source": [
    "# Calculate the area of each region\n",
    "reg_area_df = data.frame(ita_reg$COD_REG,area(ita_reg))\n",
    "colnames(reg_area_df) = c('COD_REG','area')\n",
    "dati_stat = read.csv(\"C:/Users/peppu/Documents/MyPythonProject/COVID-19/dati-statistici-riferimento/popolazione-istat-regione-range.csv\")\n",
    "dati_stat$COD_REG = as.numeric(dati_stat$codice_regione)\n",
    "head(dati_stat)"
   ]
  },
  {
   "cell_type": "code",
   "execution_count": 9,
   "id": "horizontal-output",
   "metadata": {},
   "outputs": [],
   "source": [
    "# Initialize dataframe with age range and sex\n",
    "unique_range_eta = unique(dati_stat$range_eta)\n",
    "for(r_eta in unique_range_eta){\n",
    "    ita_prov[[paste(r_eta, \"_tot\", sep=\"\")]] = 0\n",
    "    ita_prov[[paste(r_eta, \"_tot_male\", sep=\"\")]] = 0\n",
    "    ita_prov[[paste(r_eta, \"_tot_female\", sep=\"\")]]= 0\n",
    "}\n",
    "# Iterate over each district to calculate the number of people in each age range and sex\n",
    "unique_prov = unique(ita_prov$COD_PROV)\n",
    "for(current_prov_cod in unique_prov) {\n",
    "    current_prov = subset(ita_prov,COD_PROV==current_prov_cod) # Current district spatial DF\n",
    "    area_prov = area(current_prov) # get area of current district\n",
    "    \n",
    "    current_region_cod = current_prov$COD_REG # Current region ID    \n",
    "    area_reg = subset(reg_area_df,COD_REG==current_region_cod)$area # get area of current district\n",
    "    \n",
    "    if (area_prov/area_reg>1){\n",
    "        message(current_prov$DEN_PROV)\n",
    "        raise_error\n",
    "    }\n",
    "    \n",
    "    # Iterate over each age range\n",
    "    for(r_eta in unique_range_eta) {\n",
    "        \n",
    "        if (current_prov_cod==21){ # mange BOLZANO\n",
    "            current_region_cod = 21\n",
    "        }\n",
    "        if (current_prov_cod==22){ # manage TRENTO\n",
    "            current_region_cod = 22\n",
    "        }\n",
    "        current_reg_range = subset(dati_stat, (COD_REG==current_region_cod) & (range_eta==r_eta))\n",
    "        tot_generale = as.integer(current_reg_range$totale_generale)\n",
    "        tot_male = as.integer(current_reg_range$totale_genere_maschile)\n",
    "        tot_female = as.integer(current_reg_range$totale_genere_femminile)\n",
    "        \n",
    "        tot_generale_prov = as.integer(tot_generale*area_prov/area_reg)\n",
    "        tot_male_prov = as.integer(tot_male*area_prov/area_reg)\n",
    "        tot_female_prov = as.integer(tot_female*area_prov/area_reg)\n",
    "        \n",
    "        ita_prov[[paste(r_eta, \"_tot\", sep=\"\")]][ita_prov$COD_PROV==current_prov_cod] = tot_generale_prov\n",
    "        ita_prov[[paste(r_eta, \"_tot_male\", sep=\"\")]][ita_prov$COD_PROV==current_prov_cod] = tot_male_prov\n",
    "        ita_prov[[paste(r_eta, \"_tot_female\", sep=\"\")]][ita_prov$COD_PROV==current_prov_cod] = tot_female_prov\n",
    "    \n",
    "    }\n",
    "}"
   ]
  },
  {
   "cell_type": "markdown",
   "id": "piano-warning",
   "metadata": {},
   "source": [
    "Calculate the number of inhabintants and the relative increase of cases."
   ]
  },
  {
   "cell_type": "code",
   "execution_count": 10,
   "id": "excessive-canberra",
   "metadata": {},
   "outputs": [
    {
     "data": {
      "text/html": [
       "<table class=\"dataframe\">\n",
       "<caption>A data.frame: 6 × 14</caption>\n",
       "<thead>\n",
       "\t<tr><th></th><th scope=col>DEN_PROV</th><th scope=col>0-15_tot</th><th scope=col>16-19_tot</th><th scope=col>20-29_tot</th><th scope=col>30-39_tot</th><th scope=col>40-49_tot</th><th scope=col>50-59_tot</th><th scope=col>60-69_tot</th><th scope=col>70-79_tot</th><th scope=col>80-89_tot</th><th scope=col>90+_tot</th><th scope=col>inhabitants</th><th scope=col>case_sum</th><th scope=col>case_sum_rel</th></tr>\n",
       "\t<tr><th></th><th scope=col>&lt;chr&gt;</th><th scope=col>&lt;dbl&gt;</th><th scope=col>&lt;dbl&gt;</th><th scope=col>&lt;dbl&gt;</th><th scope=col>&lt;dbl&gt;</th><th scope=col>&lt;dbl&gt;</th><th scope=col>&lt;dbl&gt;</th><th scope=col>&lt;dbl&gt;</th><th scope=col>&lt;dbl&gt;</th><th scope=col>&lt;dbl&gt;</th><th scope=col>&lt;dbl&gt;</th><th scope=col>&lt;dbl&gt;</th><th scope=col>&lt;int&gt;</th><th scope=col>&lt;dbl&gt;</th></tr>\n",
       "</thead>\n",
       "<tbody>\n",
       "\t<tr><th scope=row>1</th><td>-          </td><td>151532</td><td>41306</td><td>109220</td><td>123518</td><td>170138</td><td>185183</td><td>150102</td><td>128371</td><td>82471</td><td>17393</td><td>1159234</td><td>26628</td><td>0.022970341</td></tr>\n",
       "\t<tr><th scope=row>20</th><td>Vercelli   </td><td> 46205</td><td>12595</td><td> 33303</td><td> 37663</td><td> 51878</td><td> 56465</td><td> 45769</td><td> 39143</td><td>25147</td><td> 5303</td><td> 353471</td><td> 1914</td><td>0.005414871</td></tr>\n",
       "\t<tr><th scope=row>31</th><td>Novara     </td><td> 29767</td><td> 8114</td><td> 21455</td><td> 24264</td><td> 33421</td><td> 36377</td><td> 29486</td><td> 25217</td><td>16200</td><td> 3416</td><td> 227717</td><td> 4551</td><td>0.019985333</td></tr>\n",
       "\t<tr><th scope=row>42</th><td>Cuneo      </td><td>153092</td><td>41731</td><td>110344</td><td>124790</td><td>171890</td><td>187090</td><td>151647</td><td>129693</td><td>83320</td><td>17572</td><td>1171169</td><td> 7345</td><td>0.006271512</td></tr>\n",
       "\t<tr><th scope=row>53</th><td>Asti       </td><td> 33487</td><td> 9128</td><td> 24136</td><td> 27296</td><td> 37598</td><td> 40923</td><td> 33171</td><td> 28368</td><td>18225</td><td> 3843</td><td> 256175</td><td> 3712</td><td>0.014490095</td></tr>\n",
       "\t<tr><th scope=row>64</th><td>Alessandria</td><td> 79011</td><td>21537</td><td> 56949</td><td> 64404</td><td> 88712</td><td> 96557</td><td> 78265</td><td> 66935</td><td>43002</td><td> 9069</td><td> 604441</td><td> 5214</td><td>0.008626152</td></tr>\n",
       "</tbody>\n",
       "</table>\n"
      ],
      "text/latex": [
       "A data.frame: 6 × 14\n",
       "\\begin{tabular}{r|llllllllllllll}\n",
       "  & DEN\\_PROV & 0-15\\_tot & 16-19\\_tot & 20-29\\_tot & 30-39\\_tot & 40-49\\_tot & 50-59\\_tot & 60-69\\_tot & 70-79\\_tot & 80-89\\_tot & 90+\\_tot & inhabitants & case\\_sum & case\\_sum\\_rel\\\\\n",
       "  & <chr> & <dbl> & <dbl> & <dbl> & <dbl> & <dbl> & <dbl> & <dbl> & <dbl> & <dbl> & <dbl> & <dbl> & <int> & <dbl>\\\\\n",
       "\\hline\n",
       "\t1 & -           & 151532 & 41306 & 109220 & 123518 & 170138 & 185183 & 150102 & 128371 & 82471 & 17393 & 1159234 & 26628 & 0.022970341\\\\\n",
       "\t20 & Vercelli    &  46205 & 12595 &  33303 &  37663 &  51878 &  56465 &  45769 &  39143 & 25147 &  5303 &  353471 &  1914 & 0.005414871\\\\\n",
       "\t31 & Novara      &  29767 &  8114 &  21455 &  24264 &  33421 &  36377 &  29486 &  25217 & 16200 &  3416 &  227717 &  4551 & 0.019985333\\\\\n",
       "\t42 & Cuneo       & 153092 & 41731 & 110344 & 124790 & 171890 & 187090 & 151647 & 129693 & 83320 & 17572 & 1171169 &  7345 & 0.006271512\\\\\n",
       "\t53 & Asti        &  33487 &  9128 &  24136 &  27296 &  37598 &  40923 &  33171 &  28368 & 18225 &  3843 &  256175 &  3712 & 0.014490095\\\\\n",
       "\t64 & Alessandria &  79011 & 21537 &  56949 &  64404 &  88712 &  96557 &  78265 &  66935 & 43002 &  9069 &  604441 &  5214 & 0.008626152\\\\\n",
       "\\end{tabular}\n"
      ],
      "text/markdown": [
       "\n",
       "A data.frame: 6 × 14\n",
       "\n",
       "| <!--/--> | DEN_PROV &lt;chr&gt; | 0-15_tot &lt;dbl&gt; | 16-19_tot &lt;dbl&gt; | 20-29_tot &lt;dbl&gt; | 30-39_tot &lt;dbl&gt; | 40-49_tot &lt;dbl&gt; | 50-59_tot &lt;dbl&gt; | 60-69_tot &lt;dbl&gt; | 70-79_tot &lt;dbl&gt; | 80-89_tot &lt;dbl&gt; | 90+_tot &lt;dbl&gt; | inhabitants &lt;dbl&gt; | case_sum &lt;int&gt; | case_sum_rel &lt;dbl&gt; |\n",
       "|---|---|---|---|---|---|---|---|---|---|---|---|---|---|---|\n",
       "| 1 | -           | 151532 | 41306 | 109220 | 123518 | 170138 | 185183 | 150102 | 128371 | 82471 | 17393 | 1159234 | 26628 | 0.022970341 |\n",
       "| 20 | Vercelli    |  46205 | 12595 |  33303 |  37663 |  51878 |  56465 |  45769 |  39143 | 25147 |  5303 |  353471 |  1914 | 0.005414871 |\n",
       "| 31 | Novara      |  29767 |  8114 |  21455 |  24264 |  33421 |  36377 |  29486 |  25217 | 16200 |  3416 |  227717 |  4551 | 0.019985333 |\n",
       "| 42 | Cuneo       | 153092 | 41731 | 110344 | 124790 | 171890 | 187090 | 151647 | 129693 | 83320 | 17572 | 1171169 |  7345 | 0.006271512 |\n",
       "| 53 | Asti        |  33487 |  9128 |  24136 |  27296 |  37598 |  40923 |  33171 |  28368 | 18225 |  3843 |  256175 |  3712 | 0.014490095 |\n",
       "| 64 | Alessandria |  79011 | 21537 |  56949 |  64404 |  88712 |  96557 |  78265 |  66935 | 43002 |  9069 |  604441 |  5214 | 0.008626152 |\n",
       "\n"
      ],
      "text/plain": [
       "   DEN_PROV    0-15_tot 16-19_tot 20-29_tot 30-39_tot 40-49_tot 50-59_tot\n",
       "1  -           151532   41306     109220    123518    170138    185183   \n",
       "20 Vercelli     46205   12595      33303     37663     51878     56465   \n",
       "31 Novara       29767    8114      21455     24264     33421     36377   \n",
       "42 Cuneo       153092   41731     110344    124790    171890    187090   \n",
       "53 Asti         33487    9128      24136     27296     37598     40923   \n",
       "64 Alessandria  79011   21537      56949     64404     88712     96557   \n",
       "   60-69_tot 70-79_tot 80-89_tot 90+_tot inhabitants case_sum case_sum_rel\n",
       "1  150102    128371    82471     17393   1159234     26628    0.022970341 \n",
       "20  45769     39143    25147      5303    353471      1914    0.005414871 \n",
       "31  29486     25217    16200      3416    227717      4551    0.019985333 \n",
       "42 151647    129693    83320     17572   1171169      7345    0.006271512 \n",
       "53  33171     28368    18225      3843    256175      3712    0.014490095 \n",
       "64  78265     66935    43002      9069    604441      5214    0.008626152 "
      ]
     },
     "metadata": {},
     "output_type": "display_data"
    }
   ],
   "source": [
    "all_eta = c()\n",
    "for(r_eta in unique_range_eta){\n",
    "    all_eta=c(all_eta,paste(r_eta, \"_tot\", sep=\"\"))\n",
    "}\n",
    "ita_prov$inhabitants = rowSums(as.data.frame(ita_prov[all_eta]))\n",
    "ita_prov$case_sum_rel = ita_prov$case_sum/ita_prov$inhabitants\n",
    "head(as.data.frame(ita_prov[c('DEN_PROV',all_eta,'inhabitants','case_sum','case_sum_rel')]))"
   ]
  },
  {
   "cell_type": "markdown",
   "id": "viral-lemon",
   "metadata": {},
   "source": [
    "## 1.3 Write SHAPE file into local folder for GeoDa analysis"
   ]
  },
  {
   "cell_type": "code",
   "execution_count": 11,
   "id": "unusual-moisture",
   "metadata": {},
   "outputs": [
    {
     "name": "stderr",
     "output_type": "stream",
     "text": [
      "Warning message in writeOGR(ita_prov, \"output/province_sum_cases.shp\", \"\", driver = \"ESRI Shapefile\"):\n",
      "\"Field names abbreviated for ESRI Shapefile driver\"\n"
     ]
    },
    {
     "ename": "ERROR",
     "evalue": "Error in writeOGR(ita_prov, \"output/province_sum_cases.shp\", \"\", driver = \"ESRI Shapefile\"): Creation of output file failed\n",
     "output_type": "error",
     "traceback": [
      "Error in writeOGR(ita_prov, \"output/province_sum_cases.shp\", \"\", driver = \"ESRI Shapefile\"): Creation of output file failed\nTraceback:\n",
      "1. writeOGR(ita_prov, \"output/province_sum_cases.shp\", \"\", driver = \"ESRI Shapefile\")"
     ]
    }
   ],
   "source": [
    "writeOGR(ita_prov, \"output/province_sum_cases.shp\", \"\", driver=\"ESRI Shapefile\")"
   ]
  },
  {
   "cell_type": "markdown",
   "id": "comprehensive-tourist",
   "metadata": {},
   "source": [
    "# 2 - Spatial Analysis"
   ]
  },
  {
   "cell_type": "markdown",
   "id": "electric-administrator",
   "metadata": {},
   "source": [
    "Plot Italy and its districts with centroids (this step is just to check the validity of the shapefile)"
   ]
  },
  {
   "cell_type": "code",
   "execution_count": 12,
   "id": "hindu-delight",
   "metadata": {},
   "outputs": [
    {
     "data": {
      "image/png": "[encoded data removed]",
      "text/plain": [
       "plot without title"
      ]
     },
     "metadata": {
      "image/png": {
       "height": 763.6364,
       "width": 763.6364
      }
     },
     "output_type": "display_data"
    }
   ],
   "source": [
    "options(jupyter.plot_scale=1.1)\n",
    "prov_center <- coordinates(ita_prov)\n",
    "ita_bbox <- bbox(ita_prov)\n",
    "plot(ita_prov)\n",
    "plot(extent(ita_bbox),add=T,col='red')  #bounding box\n",
    "points(prov_center, col='red',pch=20)  #centroidi"
   ]
  },
  {
   "cell_type": "markdown",
   "id": "amended-cyprus",
   "metadata": {},
   "source": [
    "## 2.1 Global Moran Index Calculation (check GeoDa)\n",
    "Calculate the Global Moran Index on the number of new cases (case_sum column) and relative number of new cases (case_sum_rel)"
   ]
  },
  {
   "cell_type": "markdown",
   "id": "thick-animation",
   "metadata": {},
   "source": [
    "Here I used the queen first order distance; it is exactly the same of the rook in this case (checked with GeoDa).\n",
    "#### Aggiungere commento al Moran qui sotto"
   ]
  },
  {
   "cell_type": "code",
   "execution_count": 13,
   "id": "angry-sheep",
   "metadata": {},
   "outputs": [
    {
     "data": {
      "text/plain": [
       "\n",
       "\tMoran I test under randomisation\n",
       "\n",
       "data:  ita_prov$case_sum  \n",
       "weights: adj_matrix_norm    \n",
       "\n",
       "Moran I statistic standard deviate = 2.1475, p-value = 0.01588\n",
       "alternative hypothesis: greater\n",
       "sample estimates:\n",
       "Moran I statistic       Expectation          Variance \n",
       "      0.130293362      -0.009433962       0.004233329 \n"
      ]
     },
     "metadata": {},
     "output_type": "display_data"
    },
    {
     "data": {
      "text/plain": [
       "\n",
       "\tMonte-Carlo simulation of Moran I\n",
       "\n",
       "data:  ita_prov$case_sum \n",
       "weights: adj_matrix_norm  \n",
       "number of simulations + 1: 201 \n",
       "\n",
       "statistic = 0.13029, observed rank = 195, p-value = 0.02985\n",
       "alternative hypothesis: greater\n"
      ]
     },
     "metadata": {},
     "output_type": "display_data"
    },
    {
     "data": {
      "text/plain": [
       "\n",
       "\tGeary C test under randomisation\n",
       "\n",
       "data:  ita_prov$case_sum \n",
       "weights: adj_matrix_norm \n",
       "\n",
       "Geary C statistic standard deviate = 1.3264, p-value = 0.09236\n",
       "alternative hypothesis: Expectation greater than statistic\n",
       "sample estimates:\n",
       "Geary C statistic       Expectation          Variance \n",
       "       0.89192842        1.00000000        0.00663891 \n"
      ]
     },
     "metadata": {},
     "output_type": "display_data"
    },
    {
     "data": {
      "image/png": "[encoded data removed]",
      "text/plain": [
       "plot without title"
      ]
     },
     "metadata": {
      "image/png": {
       "height": 646.1538,
       "width": 646.1538
      }
     },
     "output_type": "display_data"
    }
   ],
   "source": [
    "options(jupyter.plot_scale=1.3)\n",
    "adj_matrix = poly2nb(ita_prov, queen=T)\n",
    "adj_matrix_norm <- nb2listw(adj_matrix, style = \"W\")\n",
    "moran.test(ita_prov$case_sum, adj_matrix_norm)\n",
    "moran.mc(ita_prov$case_sum, adj_matrix_norm, nsim=200)\n",
    "geary.test(ita_prov$case_sum, adj_matrix_norm)\n",
    "moran.plot((ita_prov$case_sum-mean(ita_prov$case_sum))/mean(ita_prov$case_sum), adj_matrix_norm)"
   ]
  },
  {
   "cell_type": "code",
   "execution_count": 14,
   "id": "stainless-assurance",
   "metadata": {},
   "outputs": [
    {
     "data": {
      "text/plain": [
       "\n",
       "\tMoran I test under randomisation\n",
       "\n",
       "data:  ita_prov$case_sum_rel  \n",
       "weights: adj_matrix_norm    \n",
       "\n",
       "Moran I statistic standard deviate = 4.6702, p-value = 1.505e-06\n",
       "alternative hypothesis: greater\n",
       "sample estimates:\n",
       "Moran I statistic       Expectation          Variance \n",
       "      0.257756258      -0.009433962       0.003273207 \n"
      ]
     },
     "metadata": {},
     "output_type": "display_data"
    },
    {
     "data": {
      "text/plain": [
       "\n",
       "\tMonte-Carlo simulation of Moran I\n",
       "\n",
       "data:  ita_prov$case_sum_rel \n",
       "weights: adj_matrix_norm  \n",
       "number of simulations + 1: 201 \n",
       "\n",
       "statistic = 0.25776, observed rank = 201, p-value = 0.004975\n",
       "alternative hypothesis: greater\n"
      ]
     },
     "metadata": {},
     "output_type": "display_data"
    },
    {
     "data": {
      "text/plain": [
       "\n",
       "\tGeary C test under randomisation\n",
       "\n",
       "data:  ita_prov$case_sum_rel \n",
       "weights: adj_matrix_norm \n",
       "\n",
       "Geary C statistic standard deviate = 3.7124, p-value = 0.0001026\n",
       "alternative hypothesis: Expectation greater than statistic\n",
       "sample estimates:\n",
       "Geary C statistic       Expectation          Variance \n",
       "       0.59776291        1.00000000        0.01173946 \n"
      ]
     },
     "metadata": {},
     "output_type": "display_data"
    },
    {
     "data": {
      "image/png": "[encoded data removed]",
      "text/plain": [
       "plot without title"
      ]
     },
     "metadata": {
      "image/png": {
       "height": 646.1538,
       "width": 646.1538
      }
     },
     "output_type": "display_data"
    }
   ],
   "source": [
    "moran.test(ita_prov$case_sum_rel, adj_matrix_norm)\n",
    "moran.mc(ita_prov$case_sum_rel, adj_matrix_norm, nsim=200)\n",
    "geary.test(ita_prov$case_sum_rel, adj_matrix_norm)\n",
    "moran.plot((ita_prov$case_sum_rel-mean(ita_prov$case_sum_rel))/mean(ita_prov$case_sum_rel), adj_matrix_norm)"
   ]
  },
  {
   "cell_type": "markdown",
   "id": "offshore-gauge",
   "metadata": {},
   "source": [
    "Since I want to find if there is a spatial correlation between the new cases it is probably more important the distance in terms of k-nn based on centroids (k=4).\n",
    "#### Aggiungere commento al Moran qui sotto"
   ]
  },
  {
   "cell_type": "code",
   "execution_count": 15,
   "id": "loose-insertion",
   "metadata": {},
   "outputs": [
    {
     "data": {
      "text/plain": [
       "\n",
       "\tMoran I test under randomisation\n",
       "\n",
       "data:  ita_prov$case_sum  \n",
       "weights: knn_adj_matrix_norm    \n",
       "\n",
       "Moran I statistic standard deviate = 2.4856, p-value = 0.006467\n",
       "alternative hypothesis: greater\n",
       "sample estimates:\n",
       "Moran I statistic       Expectation          Variance \n",
       "      0.144540698      -0.009433962       0.003837437 \n"
      ]
     },
     "metadata": {},
     "output_type": "display_data"
    },
    {
     "data": {
      "text/plain": [
       "\n",
       "\tMonte-Carlo simulation of Moran I\n",
       "\n",
       "data:  ita_prov$case_sum \n",
       "weights: knn_adj_matrix_norm  \n",
       "number of simulations + 1: 201 \n",
       "\n",
       "statistic = 0.14454, observed rank = 198, p-value = 0.01493\n",
       "alternative hypothesis: greater\n"
      ]
     },
     "metadata": {},
     "output_type": "display_data"
    },
    {
     "data": {
      "text/plain": [
       "\n",
       "\tGeary C test under randomisation\n",
       "\n",
       "data:  ita_prov$case_sum \n",
       "weights: knn_adj_matrix_norm \n",
       "\n",
       "Geary C statistic standard deviate = 1.6768, p-value = 0.0468\n",
       "alternative hypothesis: Expectation greater than statistic\n",
       "sample estimates:\n",
       "Geary C statistic       Expectation          Variance \n",
       "       0.87134423        1.00000000        0.00588736 \n"
      ]
     },
     "metadata": {},
     "output_type": "display_data"
    },
    {
     "data": {
      "image/png": "[encoded data removed]",
      "text/plain": [
       "plot without title"
      ]
     },
     "metadata": {
      "image/png": {
       "height": 646.1538,
       "width": 646.1538
      }
     },
     "output_type": "display_data"
    }
   ],
   "source": [
    "options(jupyter.plot_scale=1.3)\n",
    "knn_adj = knearneigh(prov_center, k=4)\n",
    "knn_adj = knn2nb(knn_adj)\n",
    "knn_adj_matrix_norm <- nb2listw(knn_adj, style = \"W\")\n",
    "moran.test(ita_prov$case_sum, knn_adj_matrix_norm)\n",
    "moran.mc(ita_prov$case_sum, knn_adj_matrix_norm, nsim=200)\n",
    "geary.test(ita_prov$case_sum, knn_adj_matrix_norm)\n",
    "moran.plot((ita_prov$case_sum-mean(ita_prov$case_sum))/mean(ita_prov$case_sum), knn_adj_matrix_norm)"
   ]
  },
  {
   "cell_type": "code",
   "execution_count": 16,
   "id": "remarkable-fishing",
   "metadata": {},
   "outputs": [
    {
     "data": {
      "text/plain": [
       "\n",
       "\tMoran I test under randomisation\n",
       "\n",
       "data:  ita_prov$case_sum_rel  \n",
       "weights: knn_adj_matrix_norm    \n",
       "\n",
       "Moran I statistic standard deviate = 3.3724, p-value = 0.0003726\n",
       "alternative hypothesis: greater\n",
       "sample estimates:\n",
       "Moran I statistic       Expectation          Variance \n",
       "      0.174259669      -0.009433962       0.002966979 \n"
      ]
     },
     "metadata": {},
     "output_type": "display_data"
    },
    {
     "data": {
      "text/plain": [
       "\n",
       "\tMonte-Carlo simulation of Moran I\n",
       "\n",
       "data:  ita_prov$case_sum_rel \n",
       "weights: knn_adj_matrix_norm  \n",
       "number of simulations + 1: 201 \n",
       "\n",
       "statistic = 0.17426, observed rank = 201, p-value = 0.004975\n",
       "alternative hypothesis: greater\n"
      ]
     },
     "metadata": {},
     "output_type": "display_data"
    },
    {
     "data": {
      "text/plain": [
       "\n",
       "\tGeary C test under randomisation\n",
       "\n",
       "data:  ita_prov$case_sum_rel \n",
       "weights: knn_adj_matrix_norm \n",
       "\n",
       "Geary C statistic standard deviate = 3.1391, p-value = 0.0008475\n",
       "alternative hypothesis: Expectation greater than statistic\n",
       "sample estimates:\n",
       "Geary C statistic       Expectation          Variance \n",
       "       0.68308153        1.00000000        0.01019291 \n"
      ]
     },
     "metadata": {},
     "output_type": "display_data"
    },
    {
     "data": {
      "image/png": "[encoded data removed]",
      "text/plain": [
       "plot without title"
      ]
     },
     "metadata": {
      "image/png": {
       "height": 646.1538,
       "width": 646.1538
      }
     },
     "output_type": "display_data"
    }
   ],
   "source": [
    "moran.test(ita_prov$case_sum_rel, knn_adj_matrix_norm)\n",
    "moran.mc(ita_prov$case_sum_rel, knn_adj_matrix_norm, nsim=200)\n",
    "geary.test(ita_prov$case_sum_rel, knn_adj_matrix_norm)\n",
    "moran.plot((ita_prov$case_sum_rel-mean(ita_prov$case_sum_rel))/mean(ita_prov$case_sum_rel), knn_adj_matrix_norm)"
   ]
  },
  {
   "cell_type": "markdown",
   "id": "frequent-birth",
   "metadata": {},
   "source": [
    "# 3 - Regression"
   ]
  },
  {
   "cell_type": "markdown",
   "id": "usual-graphics",
   "metadata": {},
   "source": [
    "# 3.1 Regression on age range\n",
    "## 3.1.1 Regress on total cases (case_sum column)"
   ]
  },
  {
   "cell_type": "markdown",
   "id": "frozen-clinic",
   "metadata": {},
   "source": [
    "Before fitting any model with spatial dependence I fit a simple linear regression model. <br>\n",
    "##### Aggiungere commento"
   ]
  },
  {
   "cell_type": "code",
   "execution_count": 17,
   "id": "accurate-corporation",
   "metadata": {
    "scrolled": false
   },
   "outputs": [
    {
     "data": {
      "text/plain": [
       "\n",
       "Call:\n",
       "lm(formula = case_sum ~ ., data = data)\n",
       "\n",
       "Residuals:\n",
       "   Min     1Q Median     3Q    Max \n",
       "-18236  -3762  -1099   2538  31846 \n",
       "\n",
       "Coefficients:\n",
       "             Estimate Std. Error t value Pr(>|t|)   \n",
       "(Intercept) 2879.9377  1671.9316   1.723  0.08820 . \n",
       "`0-15_tot`     1.6909     0.6764   2.500  0.01411 * \n",
       "`16-19_tot`  -13.5804     7.8955  -1.720  0.08865 . \n",
       "`20-29_tot`    5.2984     3.4021   1.557  0.12268   \n",
       "`30-39_tot`   -3.9399     1.2584  -3.131  0.00231 **\n",
       "`40-49_tot`    1.6630     0.8889   1.871  0.06440 . \n",
       "`50-59_tot`   -0.3680     0.6765  -0.544  0.58775   \n",
       "`60-69_tot`    0.6214     1.0898   0.570  0.56984   \n",
       "`70-79_tot`    0.4092     1.0902   0.375  0.70826   \n",
       "`80-89_tot`   -2.0293     1.1280  -1.799  0.07515 . \n",
       "`90+_tot`      1.9281     2.3418   0.823  0.41235   \n",
       "---\n",
       "Signif. codes:  0 '***' 0.001 '**' 0.01 '*' 0.05 '.' 0.1 ' ' 1\n",
       "\n",
       "Residual standard error: 8029 on 96 degrees of freedom\n",
       "Multiple R-squared:  0.3465,\tAdjusted R-squared:  0.2784 \n",
       "F-statistic: 5.089 on 10 and 96 DF,  p-value: 6.214e-06\n"
      ]
     },
     "metadata": {},
     "output_type": "display_data"
    },
    {
     "data": {
      "image/png": "[encoded data removed]",
      "text/plain": [
       "Plot with title \"\""
      ]
     },
     "metadata": {
      "image/png": {
       "height": 646.1538,
       "width": 646.1538
      }
     },
     "output_type": "display_data"
    },
    {
     "data": {
      "image/png": "[encoded data removed]",
      "text/plain": [
       "Plot with title \"\""
      ]
     },
     "metadata": {
      "image/png": {
       "height": 646.1538,
       "width": 646.1538
      }
     },
     "output_type": "display_data"
    },
    {
     "data": {
      "image/png": "[encoded data removed]",
      "text/plain": [
       "Plot with title \"\""
      ]
     },
     "metadata": {
      "image/png": {
       "height": 646.1538,
       "width": 646.1538
      }
     },
     "output_type": "display_data"
    },
    {
     "data": {
      "image/png": "[encoded data removed]",
      "text/plain": [
       "Plot with title \"\""
      ]
     },
     "metadata": {
      "image/png": {
       "height": 646.1538,
       "width": 646.1538
      }
     },
     "output_type": "display_data"
    }
   ],
   "source": [
    "all_columns = c('case_sum') # c('inhabitants','case_sum')\n",
    "for(r_eta in unique_range_eta){\n",
    "    all_columns=c(all_columns,paste(r_eta, \"_tot\", sep=\"\"))\n",
    "}\n",
    "data = as.data.frame(ita_prov[all_columns])\n",
    "no_spatial_model = lm(case_sum ~ ., data = data)\n",
    "summary(no_spatial_model)\n",
    "res =  resid(no_spatial_model)\n",
    "# plot(fitted(no_spatial_model), res)\n",
    "plot(lm(case_sum ~ ., data = data)) "
   ]
  },
  {
   "cell_type": "markdown",
   "id": "excited-short",
   "metadata": {},
   "source": [
    "Fit a model with spatial error model. <br>\n",
    "##### Aggiungere commento"
   ]
  },
  {
   "cell_type": "code",
   "execution_count": 22,
   "id": "forced-sacramento",
   "metadata": {
    "scrolled": false
   },
   "outputs": [
    {
     "name": "stderr",
     "output_type": "stream",
     "text": [
      "Warning message in errorsarlm(case_sum ~ ., data = data, listw = adj_matrix_norm):\n",
      "\"inversion of asymptotic covariance matrix failed for tol.solve = 2.22044604925031e-16 \n",
      "  reciprocal condition number = 7.54123e-20 - using numerical Hessian.\"\n"
     ]
    },
    {
     "data": {
      "text/plain": [
       "\n",
       "Call:errorsarlm(formula = case_sum ~ ., data = data, listw = adj_matrix_norm)\n",
       "\n",
       "Residuals:\n",
       "     Min       1Q   Median       3Q      Max \n",
       "-17876.4  -4360.0  -1136.3   2956.3  29873.2 \n",
       "\n",
       "Type: error \n",
       "Coefficients: (asymptotic standard errors) \n",
       "              Estimate Std. Error z value  Pr(>|z|)\n",
       "(Intercept) 3526.66442 1469.18563  2.4004 0.0163762\n",
       "`0-15_tot`     1.67844    0.51359  3.2681 0.0010828\n",
       "`16-19_tot`   -9.97032    6.19929 -1.6083 0.1077695\n",
       "`20-29_tot`    3.87592    2.68390  1.4441 0.1486999\n",
       "`30-39_tot`   -3.88051    1.00836 -3.8484 0.0001189\n",
       "`40-49_tot`    1.61713    0.72557  2.2288 0.0258287\n",
       "`50-59_tot`   -0.38489    0.55389 -0.6949 0.4871301\n",
       "`60-69_tot`    1.06548    0.87764  1.2140 0.2247374\n",
       "`70-79_tot`   -0.21723    0.88361 -0.2458 0.8058032\n",
       "`80-89_tot`   -1.58182    0.89960 -1.7584 0.0786866\n",
       "`90+_tot`      1.17506    1.88526  0.6233 0.5330962\n",
       "\n",
       "Lambda: -0.35043, LR test value: 3.8447, p-value: 0.049902\n",
       "Approximate (numerical Hessian) standard error: 0.17053\n",
       "    z-value: -2.0549, p-value: 0.039886\n",
       "Wald statistic: 4.2227, p-value: 0.039886\n",
       "\n",
       "Log likelihood: -1106.12 for error model\n",
       "ML residual variance (sigma squared): 54266000, (sigma: 7366.5)\n",
       "Number of observations: 107 \n",
       "Number of parameters estimated: 13 \n",
       "AIC: 2238.2, (AIC for lm: 2240.1)\n"
      ]
     },
     "metadata": {},
     "output_type": "display_data"
    },
    {
     "name": "stderr",
     "output_type": "stream",
     "text": [
      "This method assumes the response is known - see manual page\n",
      "\n"
     ]
    },
    {
     "data": {
      "image/png": "[encoded data removed]",
      "text/plain": [
       "plot without title"
      ]
     },
     "metadata": {
      "image/png": {
       "height": 646.1538,
       "width": 646.1538
      }
     },
     "output_type": "display_data"
    }
   ],
   "source": [
    "ser_model <- errorsarlm(case_sum ~ ., data = data, listw = adj_matrix_norm)\n",
    "summary(ser_model)\n",
    "res =  resid(ser_model)\n",
    "plot(fitted(ser_model), res)\n",
    "# plot(ser_model) "
   ]
  },
  {
   "cell_type": "markdown",
   "id": "growing-handbook",
   "metadata": {},
   "source": [
    "Fit a spatial lag model.\n",
    "##### Aggiungere commento"
   ]
  },
  {
   "cell_type": "code",
   "execution_count": 23,
   "id": "extraordinary-model",
   "metadata": {},
   "outputs": [
    {
     "name": "stderr",
     "output_type": "stream",
     "text": [
      "Warning message in lagsarlm(case_sum ~ ., data = data, listw = adj_matrix_norm):\n",
      "\"inversion of asymptotic covariance matrix failed for tol.solve = 2.22044604925031e-16 \n",
      "  reciprocal condition number = 1.1881e-19 - using numerical Hessian.\"\n"
     ]
    },
    {
     "data": {
      "text/plain": [
       "\n",
       "Call:lagsarlm(formula = case_sum ~ ., data = data, listw = adj_matrix_norm)\n",
       "\n",
       "Residuals:\n",
       "     Min       1Q   Median       3Q      Max \n",
       "-18651.7  -4267.2  -1254.0   3028.5  30996.3 \n",
       "\n",
       "Type: lag \n",
       "Coefficients: (numerical Hessian approximate standard errors) \n",
       "              Estimate Std. Error z value  Pr(>|z|)\n",
       "(Intercept) 4001.71840 2045.65800  1.9562 0.0504415\n",
       "`0-15_tot`     1.81185    0.65448  2.7684 0.0056333\n",
       "`16-19_tot`  -13.65225    7.27632 -1.8763 0.0606197\n",
       "`20-29_tot`    5.28779    3.14289  1.6825 0.0924797\n",
       "`30-39_tot`   -4.13192    1.18532 -3.4859 0.0004905\n",
       "`40-49_tot`    1.67196    0.82946  2.0157 0.0438301\n",
       "`50-59_tot`   -0.31041    0.65858 -0.4713 0.6374078\n",
       "`60-69_tot`    0.69104    1.04721  0.6599 0.5093271\n",
       "`70-79_tot`    0.37273    1.01684  0.3666 0.7139500\n",
       "`80-89_tot`   -2.13252    1.06204 -2.0079 0.0446496\n",
       "`90+_tot`      1.92714    2.21824  0.8688 0.3849730\n",
       "\n",
       "Rho: -0.12205, LR test value: 0.74393, p-value: 0.3884\n",
       "Approximate (numerical Hessian) standard error: 0.14228\n",
       "    z-value: -0.85783, p-value: 0.39099\n",
       "Wald statistic: 0.73586, p-value: 0.39099\n",
       "\n",
       "Log likelihood: -1107.67 for lag model\n",
       "ML residual variance (sigma squared): 57241000, (sigma: 7565.8)\n",
       "Number of observations: 107 \n",
       "Number of parameters estimated: 13 \n",
       "AIC: 2241.3, (AIC for lm: 2240.1)\n"
      ]
     },
     "metadata": {},
     "output_type": "display_data"
    },
    {
     "name": "stderr",
     "output_type": "stream",
     "text": [
      "This method assumes the response is known - see manual page\n",
      "\n"
     ]
    },
    {
     "data": {
      "image/png": "[encoded data removed]",
      "text/plain": [
       "plot without title"
      ]
     },
     "metadata": {
      "image/png": {
       "height": 646.1538,
       "width": 646.1538
      }
     },
     "output_type": "display_data"
    }
   ],
   "source": [
    "slm_model <- lagsarlm(case_sum ~ ., data = data, listw = adj_matrix_norm)\n",
    "summary(slm_model)\n",
    "res =  resid(slm_model)\n",
    "plot(fitted(slm_model), res)\n",
    "# plot(ser_model) "
   ]
  },
  {
   "cell_type": "code",
   "execution_count": 24,
   "id": "boxed-picture",
   "metadata": {},
   "outputs": [
    {
     "name": "stderr",
     "output_type": "stream",
     "text": [
      "Warning message in lagsarlm(case_sum ~ ., data = data, listw = adj_matrix_norm, :\n",
      "\"inversion of asymptotic covariance matrix failed for tol.solve = 2.22044604925031e-16 \n",
      "  reciprocal condition number = 8.3495e-20 - using numerical Hessian.\"\n"
     ]
    },
    {
     "data": {
      "text/plain": [
       "\n",
       "Call:lagsarlm(formula = case_sum ~ ., data = data, listw = adj_matrix_norm, \n",
       "    type = \"mixed\")\n",
       "\n",
       "Residuals:\n",
       "      Min        1Q    Median        3Q       Max \n",
       "-14266.56  -3832.73   -404.75   3039.15  31763.04 \n",
       "\n",
       "Type: mixed \n",
       "Coefficients: (numerical Hessian approximate standard errors) \n",
       "                   Estimate  Std. Error z value Pr(>|z|)\n",
       "(Intercept)      1.0661e+04  3.4712e+03  3.0713 0.002131\n",
       "`0-15_tot`       1.4371e+00  7.4850e-01  1.9199 0.054869\n",
       "`16-19_tot`     -1.6551e+01  6.4182e+00 -2.5787 0.009917\n",
       "`20-29_tot`      6.4881e+00  2.4622e+00  2.6351 0.008411\n",
       "`30-39_tot`     -3.7854e+00  1.1808e+00 -3.2058 0.001347\n",
       "`40-49_tot`      2.0276e+00  7.7721e-01  2.6088 0.009085\n",
       "`50-59_tot`     -4.9305e-01  6.3928e-01 -0.7713 0.440553\n",
       "`60-69_tot`      3.2805e-02  2.9680e-01  0.1105 0.911990\n",
       "`70-79_tot`      6.3860e-01  8.6322e-01  0.7398 0.459427\n",
       "`80-89_tot`     -1.2997e+00  1.1628e+00 -1.1177 0.263689\n",
       "`90+_tot`        3.3857e-01  2.0323e+00  0.1666 0.867688\n",
       "lag.`0-15_tot`   5.9369e-01  9.5763e-01  0.6200 0.535282\n",
       "lag.`16-19_tot`  1.6184e+01  9.9989e+00  1.6185 0.105545\n",
       "lag.`20-29_tot` -6.3879e+00  4.2741e+00 -1.4946 0.135025\n",
       "lag.`30-39_tot` -9.0959e-01  1.8104e+00 -0.5024 0.615364\n",
       "lag.`40-49_tot` -5.1907e-01  1.3161e+00 -0.3944 0.693279\n",
       "lag.`50-59_tot`  6.9762e-01  1.1240e+00  0.6207 0.534823\n",
       "lag.`60-69_tot`  2.5009e+00  1.4560e+00  1.7177 0.085858\n",
       "lag.`70-79_tot` -3.4698e+00  1.4848e+00 -2.3368 0.019450\n",
       "lag.`80-89_tot`  1.2460e+00  1.5598e+00  0.7989 0.424367\n",
       "lag.`90+_tot`   -1.9540e+00  3.2583e+00 -0.5997 0.548715\n",
       "\n",
       "Rho: -0.29932, LR test value: 3.7742, p-value: 0.05205\n",
       "Approximate (numerical Hessian) standard error: 0.14873\n",
       "    z-value: -2.0125, p-value: 0.044169\n",
       "Wald statistic: 4.0501, p-value: 0.044169\n",
       "\n",
       "Log likelihood: -1096.476 for mixed model\n",
       "ML residual variance (sigma squared): 45654000, (sigma: 6756.8)\n",
       "Number of observations: 107 \n",
       "Number of parameters estimated: 23 \n",
       "AIC: 2239, (AIC for lm: 2240.7)\n"
      ]
     },
     "metadata": {},
     "output_type": "display_data"
    },
    {
     "name": "stderr",
     "output_type": "stream",
     "text": [
      "This method assumes the response is known - see manual page\n",
      "\n"
     ]
    },
    {
     "data": {
      "image/png": "[encoded data removed]",
      "text/plain": [
       "plot without title"
      ]
     },
     "metadata": {
      "image/png": {
       "height": 646.1538,
       "width": 646.1538
      }
     },
     "output_type": "display_data"
    }
   ],
   "source": [
    "durbin_model <- lagsarlm(case_sum ~ ., data = data, listw = adj_matrix_norm, type='mixed')\n",
    "summary(durbin_model)\n",
    "res =  resid(durbin_model)\n",
    "plot(fitted(durbin_model), res)\n",
    "# plot(ser_model) "
   ]
  },
  {
   "cell_type": "code",
   "execution_count": 26,
   "id": "pressing-alloy",
   "metadata": {},
   "outputs": [
    {
     "data": {
      "text/plain": [
       "\n",
       "Call: spautolm(formula = case_sum ~ ., data = data, listw = adj_matrix_norm, \n",
       "    family = \"SAR\")\n",
       "\n",
       "Residuals:\n",
       "     Min       1Q   Median       3Q      Max \n",
       "-17876.4  -4360.0  -1136.3   2956.3  29873.2 \n",
       "\n",
       "Coefficients: \n",
       "              Estimate Std. Error z value  Pr(>|z|)\n",
       "(Intercept) 3526.66462 1469.18561  2.4004 0.0163762\n",
       "`0-15_tot`     1.67844    0.51359  3.2681 0.0010828\n",
       "`16-19_tot`   -9.97032    6.19929 -1.6083 0.1077695\n",
       "`20-29_tot`    3.87592    2.68390  1.4441 0.1486999\n",
       "`30-39_tot`   -3.88051    1.00836 -3.8484 0.0001189\n",
       "`40-49_tot`    1.61713    0.72557  2.2288 0.0258287\n",
       "`50-59_tot`   -0.38489    0.55389 -0.6949 0.4871301\n",
       "`60-69_tot`    1.06548    0.87764  1.2140 0.2247373\n",
       "`70-79_tot`   -0.21723    0.88361 -0.2458 0.8058031\n",
       "`80-89_tot`   -1.58182    0.89960 -1.7584 0.0786866\n",
       "`90+_tot`      1.17506    1.88526  0.6233 0.5330962\n",
       "\n",
       "Lambda: -0.35043 LR test value: 3.8447 p-value: 0.049902 \n",
       "Numerical Hessian standard error of lambda: 0.16941 \n",
       "\n",
       "Log likelihood: -1106.12 \n",
       "ML residual variance (sigma squared): 54266000, (sigma: 7366.5)\n",
       "Number of observations: 107 \n",
       "Number of parameters estimated: 13 \n",
       "AIC: 2238.2\n"
      ]
     },
     "metadata": {},
     "output_type": "display_data"
    },
    {
     "data": {
      "image/png": "[encoded data removed]",
      "text/plain": [
       "plot without title"
      ]
     },
     "metadata": {
      "image/png": {
       "height": 646.1538,
       "width": 646.1538
      }
     },
     "output_type": "display_data"
    }
   ],
   "source": [
    "SAR_model <- spautolm(case_sum ~ ., data = data, listw = adj_matrix_norm, family='SAR')\n",
    "summary(SAR_model)\n",
    "res =  resid(SAR_model)\n",
    "plot(fitted(SAR_model), res)\n",
    "# plot(ser_model) "
   ]
  },
  {
   "cell_type": "code",
   "execution_count": null,
   "id": "dramatic-diagram",
   "metadata": {},
   "outputs": [],
   "source": []
  },
  {
   "cell_type": "code",
   "execution_count": null,
   "id": "mineral-russian",
   "metadata": {
    "scrolled": true
   },
   "outputs": [],
   "source": [
    "unique_range_eta"
   ]
  },
  {
   "cell_type": "code",
   "execution_count": null,
   "id": "guided-snapshot",
   "metadata": {},
   "outputs": [],
   "source": [
    "unique_prov"
   ]
  },
  {
   "cell_type": "code",
   "execution_count": null,
   "id": "periodic-format",
   "metadata": {},
   "outputs": [],
   "source": [
    "adj_matrix"
   ]
  },
  {
   "cell_type": "code",
   "execution_count": null,
   "id": "grave-lightning",
   "metadata": {},
   "outputs": [],
   "source": [
    "moran.mc(ita_prov$case_sum, knn_adj_matrix_norm, nsim=99)"
   ]
  },
  {
   "cell_type": "code",
   "execution_count": null,
   "id": "multiple-bradford",
   "metadata": {},
   "outputs": [],
   "source": []
  },
  {
   "cell_type": "code",
   "execution_count": null,
   "id": "shaped-runner",
   "metadata": {},
   "outputs": [],
   "source": []
  },
  {
   "cell_type": "code",
   "execution_count": null,
   "id": "amber-ghana",
   "metadata": {},
   "outputs": [],
   "source": [
    "max(ita_prov$case_sum-mean(ita_prov$case_sum))"
   ]
  },
  {
   "cell_type": "code",
   "execution_count": null,
   "id": "romance-olive",
   "metadata": {},
   "outputs": [],
   "source": [
    "area(ita_prov)"
   ]
  },
  {
   "cell_type": "code",
   "execution_count": null,
   "id": "further-husband",
   "metadata": {},
   "outputs": [],
   "source": [
    "ita_prov"
   ]
  },
  {
   "cell_type": "code",
   "execution_count": null,
   "id": "fossil-chamber",
   "metadata": {},
   "outputs": [],
   "source": []
  },
  {
   "cell_type": "code",
   "execution_count": null,
   "id": "little-aquatic",
   "metadata": {},
   "outputs": [],
   "source": []
  },
  {
   "cell_type": "code",
   "execution_count": null,
   "id": "substantial-valuable",
   "metadata": {},
   "outputs": [],
   "source": []
  },
  {
   "cell_type": "code",
   "execution_count": null,
   "id": "spectacular-cooperation",
   "metadata": {},
   "outputs": [],
   "source": [
    "# aggregate(dati_covid_jan21$totale_casi, by=list(Category=x$Category), FUN=sum)\n",
    "# a = subset(dati_covid_jan21, codice_provincia==1)\n",
    "# diff(a$totale_casi)\n",
    "# dati_covid_jan21$myVar = aggregate(dati_prov_covid$totale_casi, by=list(dati_covid_jan21$\"COD_PROV\"), FUN=mean)$x\n",
    "# subset(dati_prov_covid_jan21, COD_PROV==880)"
   ]
  },
  {
   "cell_type": "code",
   "execution_count": 34,
   "id": "physical-cement",
   "metadata": {},
   "outputs": [
    {
     "data": {
      "text/html": [
       "<table class=\"dataframe\">\n",
       "<caption>A data.frame: 107 × 11</caption>\n",
       "<thead>\n",
       "\t<tr><th></th><th scope=col>case_sum</th><th scope=col>0-15_tot</th><th scope=col>16-19_tot</th><th scope=col>20-29_tot</th><th scope=col>30-39_tot</th><th scope=col>40-49_tot</th><th scope=col>50-59_tot</th><th scope=col>60-69_tot</th><th scope=col>70-79_tot</th><th scope=col>80-89_tot</th><th scope=col>90+_tot</th></tr>\n",
       "\t<tr><th></th><th scope=col>&lt;int&gt;</th><th scope=col>&lt;dbl&gt;</th><th scope=col>&lt;dbl&gt;</th><th scope=col>&lt;dbl&gt;</th><th scope=col>&lt;dbl&gt;</th><th scope=col>&lt;dbl&gt;</th><th scope=col>&lt;dbl&gt;</th><th scope=col>&lt;dbl&gt;</th><th scope=col>&lt;dbl&gt;</th><th scope=col>&lt;dbl&gt;</th><th scope=col>&lt;dbl&gt;</th></tr>\n",
       "</thead>\n",
       "<tbody>\n",
       "\t<tr><th scope=row>1</th><td>26628</td><td>151532</td><td>41306</td><td>109220</td><td>123518</td><td>170138</td><td>185183</td><td>150102</td><td>128371</td><td> 82471</td><td>17393</td></tr>\n",
       "\t<tr><th scope=row>20</th><td> 1914</td><td> 46205</td><td>12595</td><td> 33303</td><td> 37663</td><td> 51878</td><td> 56465</td><td> 45769</td><td> 39143</td><td> 25147</td><td> 5303</td></tr>\n",
       "\t<tr><th scope=row>31</th><td> 4551</td><td> 29767</td><td> 8114</td><td> 21455</td><td> 24264</td><td> 33421</td><td> 36377</td><td> 29486</td><td> 25217</td><td> 16200</td><td> 3416</td></tr>\n",
       "\t<tr><th scope=row>42</th><td> 7345</td><td>153092</td><td>41731</td><td>110344</td><td>124790</td><td>171890</td><td>187090</td><td>151647</td><td>129693</td><td> 83320</td><td>17572</td></tr>\n",
       "\t<tr><th scope=row>53</th><td> 3712</td><td> 33487</td><td> 9128</td><td> 24136</td><td> 27296</td><td> 37598</td><td> 40923</td><td> 33171</td><td> 28368</td><td> 18225</td><td> 3843</td></tr>\n",
       "\t<tr><th scope=row>64</th><td> 5214</td><td> 79011</td><td>21537</td><td> 56949</td><td> 64404</td><td> 88712</td><td> 96557</td><td> 78265</td><td> 66935</td><td> 43002</td><td> 9069</td></tr>\n",
       "\t<tr><th scope=row>75</th><td> 1072</td><td> 17259</td><td> 4706</td><td> 11870</td><td> 13174</td><td> 18555</td><td> 20757</td><td> 16060</td><td> 13089</td><td>  7800</td><td> 1764</td></tr>\n",
       "\t<tr><th scope=row>86</th><td> 2844</td><td> 38341</td><td>10965</td><td> 29089</td><td> 31496</td><td> 45316</td><td> 53919</td><td> 43269</td><td> 39696</td><td> 26845</td><td> 6435</td></tr>\n",
       "\t<tr><th scope=row>97</th><td> 4030</td><td> 51262</td><td>14661</td><td> 38893</td><td> 42111</td><td> 60589</td><td> 72091</td><td> 57851</td><td> 53075</td><td> 35893</td><td> 8604</td></tr>\n",
       "\t<tr><th scope=row>2</th><td> 7676</td><td> 60834</td><td>17398</td><td> 46154</td><td> 49973</td><td> 71902</td><td> 85551</td><td> 68653</td><td> 62985</td><td> 42595</td><td>10210</td></tr>\n",
       "\t<tr><th scope=row>9</th><td> 2756</td><td> 29241</td><td> 8363</td><td> 22185</td><td> 24021</td><td> 34561</td><td> 41122</td><td> 33000</td><td> 30275</td><td> 20474</td><td> 4908</td></tr>\n",
       "\t<tr><th scope=row>12</th><td>13856</td><td> 72341</td><td>18997</td><td> 49570</td><td> 58520</td><td> 77665</td><td> 80029</td><td> 59772</td><td> 50075</td><td> 30636</td><td> 6442</td></tr>\n",
       "\t<tr><th scope=row>13</th><td>10452</td><td> 77148</td><td>20259</td><td> 52864</td><td> 62408</td><td> 82826</td><td> 85347</td><td> 63744</td><td> 53403</td><td> 32672</td><td> 6870</td></tr>\n",
       "\t<tr><th scope=row>14</th><td> 3548</td><td>192690</td><td>50601</td><td>132037</td><td>155875</td><td>206870</td><td>213168</td><td>159211</td><td>133382</td><td> 81603</td><td>17159</td></tr>\n",
       "\t<tr><th scope=row>15</th><td>36113</td><td> 94972</td><td>24940</td><td> 65077</td><td> 76827</td><td>101961</td><td>105065</td><td> 78471</td><td> 65741</td><td> 40220</td><td> 8457</td></tr>\n",
       "\t<tr><th scope=row>16</th><td> 5625</td><td>165598</td><td>43487</td><td>113473</td><td>133959</td><td>177785</td><td>183197</td><td>136827</td><td>114630</td><td> 70130</td><td>14747</td></tr>\n",
       "\t<tr><th scope=row>17</th><td>17991</td><td>288736</td><td>75824</td><td>197851</td><td>233571</td><td>309985</td><td>319422</td><td>238570</td><td>199867</td><td>122278</td><td>25713</td></tr>\n",
       "\t<tr><th scope=row>18</th><td> 8342</td><td>178971</td><td>46999</td><td>122637</td><td>144778</td><td>192142</td><td>197992</td><td>147876</td><td>123887</td><td> 75793</td><td>15938</td></tr>\n",
       "\t<tr><th scope=row>19</th><td> 3304</td><td>106716</td><td>28024</td><td> 73125</td><td> 86327</td><td>114570</td><td>118058</td><td> 88175</td><td> 73870</td><td> 45193</td><td> 9503</td></tr>\n",
       "\t<tr><th scope=row>21</th><td> 8428</td><td>141227</td><td>37087</td><td> 96773</td><td>114245</td><td>151621</td><td>156236</td><td>116690</td><td> 97759</td><td> 59809</td><td>12576</td></tr>\n",
       "\t<tr><th scope=row>22</th><td>16296</td><td> 48405</td><td>12652</td><td> 33218</td><td> 34324</td><td> 41141</td><td> 45423</td><td> 31015</td><td> 25345</td><td> 14739</td><td> 3352</td></tr>\n",
       "\t<tr><th scope=row>23</th><td>11638</td><td> 37670</td><td>10231</td><td> 26351</td><td> 27860</td><td> 35628</td><td> 39149</td><td> 30582</td><td> 23869</td><td> 13899</td><td> 3614</td></tr>\n",
       "\t<tr><th scope=row>24</th><td>32930</td><td>114968</td><td>31438</td><td> 81228</td><td> 89941</td><td>125254</td><td>134945</td><td>101818</td><td> 83459</td><td> 49462</td><td>11057</td></tr>\n",
       "\t<tr><th scope=row>25</th><td>24919</td><td>101040</td><td>27629</td><td> 71388</td><td> 79045</td><td>110081</td><td>118597</td><td> 89484</td><td> 73349</td><td> 43470</td><td> 9718</td></tr>\n",
       "\t<tr><th scope=row>26</th><td> 8552</td><td>134047</td><td>36655</td><td> 94708</td><td>104866</td><td>146041</td><td>157339</td><td>118716</td><td> 97309</td><td> 57670</td><td>12892</td></tr>\n",
       "\t<tr><th scope=row>27</th><td>32487</td><td> 92042</td><td>25169</td><td> 65030</td><td> 72005</td><td>100277</td><td>108035</td><td> 81515</td><td> 66816</td><td> 39598</td><td> 8852</td></tr>\n",
       "\t<tr><th scope=row>28</th><td>28430</td><td> 91846</td><td>25115</td><td> 64892</td><td> 71852</td><td>100063</td><td>107805</td><td> 81341</td><td> 66674</td><td> 39514</td><td> 8833</td></tr>\n",
       "\t<tr><th scope=row>29</th><td>29257</td><td> 79632</td><td>21775</td><td> 56262</td><td> 62297</td><td> 86757</td><td> 93469</td><td> 70524</td><td> 57808</td><td> 34259</td><td> 7659</td></tr>\n",
       "\t<tr><th scope=row>30</th><td> 5621</td><td> 67533</td><td>18467</td><td> 47714</td><td> 52832</td><td> 73575</td><td> 79267</td><td> 59809</td><td> 49024</td><td> 29054</td><td> 6495</td></tr>\n",
       "\t<tr><th scope=row>32</th><td>15905</td><td> 96155</td><td>26604</td><td> 68564</td><td> 78771</td><td>112032</td><td>122946</td><td> 97681</td><td> 88665</td><td> 52234</td><td>12656</td></tr>\n",
       "\t<tr><th scope=row>...</th><td>...</td><td>...</td><td>...</td><td>...</td><td>...</td><td>...</td><td>...</td><td>...</td><td>...</td><td>...</td><td>...</td></tr>\n",
       "\t<tr><th scope=row>84</th><td> 4428</td><td>117427</td><td>33829</td><td> 94284</td><td>104326</td><td>117439</td><td>126426</td><td>106330</td><td>77233</td><td>47484</td><td>10164</td></tr>\n",
       "\t<tr><th scope=row>85</th><td> 2429</td><td> 42313</td><td>12190</td><td> 33974</td><td> 37592</td><td> 42318</td><td> 45556</td><td> 38315</td><td>27830</td><td>17110</td><td> 3662</td></tr>\n",
       "\t<tr><th scope=row>87</th><td> 6067</td><td> 56183</td><td>16185</td><td> 45110</td><td> 49915</td><td> 56189</td><td> 60489</td><td> 50874</td><td>36952</td><td>22719</td><td> 4863</td></tr>\n",
       "\t<tr><th scope=row>101</th><td> 9415</td><td> 44025</td><td>12181</td><td> 31392</td><td> 36065</td><td> 51295</td><td> 56292</td><td> 44724</td><td>40596</td><td>23916</td><td> 5795</td></tr>\n",
       "\t<tr><th scope=row>102</th><td>  877</td><td> 12430</td><td> 3743</td><td> 11049</td><td> 11922</td><td> 14520</td><td> 16319</td><td> 13934</td><td>10419</td><td> 7236</td><td> 1795</td></tr>\n",
       "\t<tr><th scope=row>104</th><td> 1732</td><td> 20250</td><td> 5520</td><td> 14595</td><td> 16506</td><td> 22736</td><td> 24747</td><td> 20059</td><td>17155</td><td>11021</td><td> 2324</td></tr>\n",
       "\t<tr><th scope=row>105</th><td> 3920</td><td> 49127</td><td>12901</td><td> 33663</td><td> 39740</td><td> 52742</td><td> 54348</td><td> 40591</td><td>34006</td><td>20805</td><td> 4374</td></tr>\n",
       "\t<tr><th scope=row>106</th><td> 2948</td><td> 47169</td><td>12387</td><td> 32322</td><td> 38157</td><td> 50641</td><td> 52182</td><td> 38974</td><td>32651</td><td>19976</td><td> 4200</td></tr>\n",
       "\t<tr><th scope=row>107</th><td> 9926</td><td> 23759</td><td> 6172</td><td> 16223</td><td> 19330</td><td> 26738</td><td> 27154</td><td> 20910</td><td>17629</td><td>11479</td><td> 2764</td></tr>\n",
       "\t<tr><th scope=row>3</th><td> 2250</td><td>  7679</td><td> 2079</td><td>  5403</td><td>  6385</td><td>  8854</td><td>  9338</td><td>  7368</td><td> 6523</td><td> 4129</td><td>  969</td></tr>\n",
       "\t<tr><th scope=row>4</th><td> 1061</td><td> 30361</td><td> 8746</td><td> 24377</td><td> 26973</td><td> 30364</td><td> 32688</td><td> 27492</td><td>19969</td><td>12277</td><td> 2628</td></tr>\n",
       "\t<tr><th scope=row>5</th><td> 1859</td><td> 20102</td><td> 5791</td><td> 16140</td><td> 17859</td><td> 20104</td><td> 21643</td><td> 18202</td><td>13221</td><td> 8128</td><td> 1740</td></tr>\n",
       "\t<tr><th scope=row>6</th><td> 2428</td><td> 50203</td><td>13685</td><td> 36185</td><td> 40922</td><td> 56368</td><td> 61352</td><td> 49729</td><td>42530</td><td>27323</td><td> 5762</td></tr>\n",
       "\t<tr><th scope=row>7</th><td> 8924</td><td> 24460</td><td> 6423</td><td> 16760</td><td> 19786</td><td> 26260</td><td> 27059</td><td> 20210</td><td>16931</td><td>10358</td><td> 2178</td></tr>\n",
       "\t<tr><th scope=row>8</th><td> 3134</td><td> 18453</td><td> 5058</td><td> 13454</td><td> 15255</td><td> 20579</td><td> 21656</td><td> 17711</td><td>14298</td><td> 9886</td><td> 2341</td></tr>\n",
       "\t<tr><th scope=row>10</th><td> 7278</td><td> 43260</td><td>13144</td><td> 34671</td><td> 36383</td><td> 46038</td><td> 47798</td><td> 38746</td><td>30824</td><td>17539</td><td> 3622</td></tr>\n",
       "\t<tr><th scope=row>88</th><td> 5208</td><td> 68190</td><td>19881</td><td> 53476</td><td> 56401</td><td> 66796</td><td> 70098</td><td> 57497</td><td>43702</td><td>25165</td><td> 5048</td></tr>\n",
       "\t<tr><th scope=row>89</th><td>18328</td><td>138186</td><td>40289</td><td>108367</td><td>114296</td><td>135361</td><td>142052</td><td>116516</td><td>88562</td><td>50996</td><td>10230</td></tr>\n",
       "\t<tr><th scope=row>90</th><td>11714</td><td> 90173</td><td>26290</td><td> 70715</td><td> 74584</td><td> 88330</td><td> 92696</td><td> 76032</td><td>57791</td><td>33277</td><td> 6675</td></tr>\n",
       "\t<tr><th scope=row>91</th><td> 2371</td><td> 84321</td><td>24584</td><td> 66126</td><td> 69744</td><td> 82598</td><td> 86681</td><td> 71098</td><td>54041</td><td>31118</td><td> 6242</td></tr>\n",
       "\t<tr><th scope=row>92</th><td> 3448</td><td> 58926</td><td>17180</td><td> 46210</td><td> 48739</td><td> 57721</td><td> 60575</td><td> 49685</td><td>37765</td><td>21746</td><td> 4362</td></tr>\n",
       "\t<tr><th scope=row>93</th><td> 1687</td><td> 71061</td><td>20718</td><td> 55727</td><td> 58776</td><td> 69609</td><td> 73050</td><td> 59917</td><td>45542</td><td>26224</td><td> 5260</td></tr>\n",
       "\t<tr><th scope=row>94</th><td>20686</td><td> 98727</td><td>28784</td><td> 77423</td><td> 81658</td><td> 96708</td><td>101489</td><td> 83244</td><td>63273</td><td>36434</td><td> 7308</td></tr>\n",
       "\t<tr><th scope=row>95</th><td> 2204</td><td> 44818</td><td>13067</td><td> 35147</td><td> 37070</td><td> 43902</td><td> 46072</td><td> 37790</td><td>28724</td><td>16539</td><td> 3317</td></tr>\n",
       "\t<tr><th scope=row>96</th><td> 5397</td><td> 58608</td><td>17087</td><td> 45961</td><td> 48475</td><td> 57409</td><td> 60247</td><td> 49417</td><td>37561</td><td>21628</td><td> 4338</td></tr>\n",
       "\t<tr><th scope=row>98</th><td> 4542</td><td> 60834</td><td>17758</td><td> 48622</td><td> 59210</td><td> 80124</td><td> 84958</td><td> 71410</td><td>54556</td><td>30389</td><td> 6740</td></tr>\n",
       "\t<tr><th scope=row>99</th><td> 3674</td><td> 44587</td><td>13015</td><td> 35637</td><td> 43396</td><td> 58725</td><td> 62268</td><td> 52338</td><td>39985</td><td>22273</td><td> 4940</td></tr>\n",
       "\t<tr><th scope=row>100</th><td> 4280</td><td>  9857</td><td> 2877</td><td>  7878</td><td>  9594</td><td> 12982</td><td> 13766</td><td> 11570</td><td> 8839</td><td> 4924</td><td> 1092</td></tr>\n",
       "\t<tr><th scope=row>103</th><td> 1375</td><td> 23633</td><td> 6898</td><td> 18889</td><td> 23002</td><td> 31127</td><td> 33004</td><td> 27741</td><td>21194</td><td>11805</td><td> 2618</td></tr>\n",
       "\t<tr><th scope=row>11</th><td> 2771</td><td> 51606</td><td>15064</td><td> 41247</td><td> 50228</td><td> 67970</td><td> 72070</td><td> 60578</td><td>46280</td><td>25779</td><td> 5718</td></tr>\n",
       "</tbody>\n",
       "</table>\n"
      ],
      "text/latex": [
       "A data.frame: 107 × 11\n",
       "\\begin{tabular}{r|lllllllllll}\n",
       "  & case\\_sum & 0-15\\_tot & 16-19\\_tot & 20-29\\_tot & 30-39\\_tot & 40-49\\_tot & 50-59\\_tot & 60-69\\_tot & 70-79\\_tot & 80-89\\_tot & 90+\\_tot\\\\\n",
       "  & <int> & <dbl> & <dbl> & <dbl> & <dbl> & <dbl> & <dbl> & <dbl> & <dbl> & <dbl> & <dbl>\\\\\n",
       "\\hline\n",
       "\t1 & 26628 & 151532 & 41306 & 109220 & 123518 & 170138 & 185183 & 150102 & 128371 &  82471 & 17393\\\\\n",
       "\t20 &  1914 &  46205 & 12595 &  33303 &  37663 &  51878 &  56465 &  45769 &  39143 &  25147 &  5303\\\\\n",
       "\t31 &  4551 &  29767 &  8114 &  21455 &  24264 &  33421 &  36377 &  29486 &  25217 &  16200 &  3416\\\\\n",
       "\t42 &  7345 & 153092 & 41731 & 110344 & 124790 & 171890 & 187090 & 151647 & 129693 &  83320 & 17572\\\\\n",
       "\t53 &  3712 &  33487 &  9128 &  24136 &  27296 &  37598 &  40923 &  33171 &  28368 &  18225 &  3843\\\\\n",
       "\t64 &  5214 &  79011 & 21537 &  56949 &  64404 &  88712 &  96557 &  78265 &  66935 &  43002 &  9069\\\\\n",
       "\t75 &  1072 &  17259 &  4706 &  11870 &  13174 &  18555 &  20757 &  16060 &  13089 &   7800 &  1764\\\\\n",
       "\t86 &  2844 &  38341 & 10965 &  29089 &  31496 &  45316 &  53919 &  43269 &  39696 &  26845 &  6435\\\\\n",
       "\t97 &  4030 &  51262 & 14661 &  38893 &  42111 &  60589 &  72091 &  57851 &  53075 &  35893 &  8604\\\\\n",
       "\t2 &  7676 &  60834 & 17398 &  46154 &  49973 &  71902 &  85551 &  68653 &  62985 &  42595 & 10210\\\\\n",
       "\t9 &  2756 &  29241 &  8363 &  22185 &  24021 &  34561 &  41122 &  33000 &  30275 &  20474 &  4908\\\\\n",
       "\t12 & 13856 &  72341 & 18997 &  49570 &  58520 &  77665 &  80029 &  59772 &  50075 &  30636 &  6442\\\\\n",
       "\t13 & 10452 &  77148 & 20259 &  52864 &  62408 &  82826 &  85347 &  63744 &  53403 &  32672 &  6870\\\\\n",
       "\t14 &  3548 & 192690 & 50601 & 132037 & 155875 & 206870 & 213168 & 159211 & 133382 &  81603 & 17159\\\\\n",
       "\t15 & 36113 &  94972 & 24940 &  65077 &  76827 & 101961 & 105065 &  78471 &  65741 &  40220 &  8457\\\\\n",
       "\t16 &  5625 & 165598 & 43487 & 113473 & 133959 & 177785 & 183197 & 136827 & 114630 &  70130 & 14747\\\\\n",
       "\t17 & 17991 & 288736 & 75824 & 197851 & 233571 & 309985 & 319422 & 238570 & 199867 & 122278 & 25713\\\\\n",
       "\t18 &  8342 & 178971 & 46999 & 122637 & 144778 & 192142 & 197992 & 147876 & 123887 &  75793 & 15938\\\\\n",
       "\t19 &  3304 & 106716 & 28024 &  73125 &  86327 & 114570 & 118058 &  88175 &  73870 &  45193 &  9503\\\\\n",
       "\t21 &  8428 & 141227 & 37087 &  96773 & 114245 & 151621 & 156236 & 116690 &  97759 &  59809 & 12576\\\\\n",
       "\t22 & 16296 &  48405 & 12652 &  33218 &  34324 &  41141 &  45423 &  31015 &  25345 &  14739 &  3352\\\\\n",
       "\t23 & 11638 &  37670 & 10231 &  26351 &  27860 &  35628 &  39149 &  30582 &  23869 &  13899 &  3614\\\\\n",
       "\t24 & 32930 & 114968 & 31438 &  81228 &  89941 & 125254 & 134945 & 101818 &  83459 &  49462 & 11057\\\\\n",
       "\t25 & 24919 & 101040 & 27629 &  71388 &  79045 & 110081 & 118597 &  89484 &  73349 &  43470 &  9718\\\\\n",
       "\t26 &  8552 & 134047 & 36655 &  94708 & 104866 & 146041 & 157339 & 118716 &  97309 &  57670 & 12892\\\\\n",
       "\t27 & 32487 &  92042 & 25169 &  65030 &  72005 & 100277 & 108035 &  81515 &  66816 &  39598 &  8852\\\\\n",
       "\t28 & 28430 &  91846 & 25115 &  64892 &  71852 & 100063 & 107805 &  81341 &  66674 &  39514 &  8833\\\\\n",
       "\t29 & 29257 &  79632 & 21775 &  56262 &  62297 &  86757 &  93469 &  70524 &  57808 &  34259 &  7659\\\\\n",
       "\t30 &  5621 &  67533 & 18467 &  47714 &  52832 &  73575 &  79267 &  59809 &  49024 &  29054 &  6495\\\\\n",
       "\t32 & 15905 &  96155 & 26604 &  68564 &  78771 & 112032 & 122946 &  97681 &  88665 &  52234 & 12656\\\\\n",
       "\t... & ... & ... & ... & ... & ... & ... & ... & ... & ... & ... & ...\\\\\n",
       "\t84 &  4428 & 117427 & 33829 &  94284 & 104326 & 117439 & 126426 & 106330 & 77233 & 47484 & 10164\\\\\n",
       "\t85 &  2429 &  42313 & 12190 &  33974 &  37592 &  42318 &  45556 &  38315 & 27830 & 17110 &  3662\\\\\n",
       "\t87 &  6067 &  56183 & 16185 &  45110 &  49915 &  56189 &  60489 &  50874 & 36952 & 22719 &  4863\\\\\n",
       "\t101 &  9415 &  44025 & 12181 &  31392 &  36065 &  51295 &  56292 &  44724 & 40596 & 23916 &  5795\\\\\n",
       "\t102 &   877 &  12430 &  3743 &  11049 &  11922 &  14520 &  16319 &  13934 & 10419 &  7236 &  1795\\\\\n",
       "\t104 &  1732 &  20250 &  5520 &  14595 &  16506 &  22736 &  24747 &  20059 & 17155 & 11021 &  2324\\\\\n",
       "\t105 &  3920 &  49127 & 12901 &  33663 &  39740 &  52742 &  54348 &  40591 & 34006 & 20805 &  4374\\\\\n",
       "\t106 &  2948 &  47169 & 12387 &  32322 &  38157 &  50641 &  52182 &  38974 & 32651 & 19976 &  4200\\\\\n",
       "\t107 &  9926 &  23759 &  6172 &  16223 &  19330 &  26738 &  27154 &  20910 & 17629 & 11479 &  2764\\\\\n",
       "\t3 &  2250 &   7679 &  2079 &   5403 &   6385 &   8854 &   9338 &   7368 &  6523 &  4129 &   969\\\\\n",
       "\t4 &  1061 &  30361 &  8746 &  24377 &  26973 &  30364 &  32688 &  27492 & 19969 & 12277 &  2628\\\\\n",
       "\t5 &  1859 &  20102 &  5791 &  16140 &  17859 &  20104 &  21643 &  18202 & 13221 &  8128 &  1740\\\\\n",
       "\t6 &  2428 &  50203 & 13685 &  36185 &  40922 &  56368 &  61352 &  49729 & 42530 & 27323 &  5762\\\\\n",
       "\t7 &  8924 &  24460 &  6423 &  16760 &  19786 &  26260 &  27059 &  20210 & 16931 & 10358 &  2178\\\\\n",
       "\t8 &  3134 &  18453 &  5058 &  13454 &  15255 &  20579 &  21656 &  17711 & 14298 &  9886 &  2341\\\\\n",
       "\t10 &  7278 &  43260 & 13144 &  34671 &  36383 &  46038 &  47798 &  38746 & 30824 & 17539 &  3622\\\\\n",
       "\t88 &  5208 &  68190 & 19881 &  53476 &  56401 &  66796 &  70098 &  57497 & 43702 & 25165 &  5048\\\\\n",
       "\t89 & 18328 & 138186 & 40289 & 108367 & 114296 & 135361 & 142052 & 116516 & 88562 & 50996 & 10230\\\\\n",
       "\t90 & 11714 &  90173 & 26290 &  70715 &  74584 &  88330 &  92696 &  76032 & 57791 & 33277 &  6675\\\\\n",
       "\t91 &  2371 &  84321 & 24584 &  66126 &  69744 &  82598 &  86681 &  71098 & 54041 & 31118 &  6242\\\\\n",
       "\t92 &  3448 &  58926 & 17180 &  46210 &  48739 &  57721 &  60575 &  49685 & 37765 & 21746 &  4362\\\\\n",
       "\t93 &  1687 &  71061 & 20718 &  55727 &  58776 &  69609 &  73050 &  59917 & 45542 & 26224 &  5260\\\\\n",
       "\t94 & 20686 &  98727 & 28784 &  77423 &  81658 &  96708 & 101489 &  83244 & 63273 & 36434 &  7308\\\\\n",
       "\t95 &  2204 &  44818 & 13067 &  35147 &  37070 &  43902 &  46072 &  37790 & 28724 & 16539 &  3317\\\\\n",
       "\t96 &  5397 &  58608 & 17087 &  45961 &  48475 &  57409 &  60247 &  49417 & 37561 & 21628 &  4338\\\\\n",
       "\t98 &  4542 &  60834 & 17758 &  48622 &  59210 &  80124 &  84958 &  71410 & 54556 & 30389 &  6740\\\\\n",
       "\t99 &  3674 &  44587 & 13015 &  35637 &  43396 &  58725 &  62268 &  52338 & 39985 & 22273 &  4940\\\\\n",
       "\t100 &  4280 &   9857 &  2877 &   7878 &   9594 &  12982 &  13766 &  11570 &  8839 &  4924 &  1092\\\\\n",
       "\t103 &  1375 &  23633 &  6898 &  18889 &  23002 &  31127 &  33004 &  27741 & 21194 & 11805 &  2618\\\\\n",
       "\t11 &  2771 &  51606 & 15064 &  41247 &  50228 &  67970 &  72070 &  60578 & 46280 & 25779 &  5718\\\\\n",
       "\\end{tabular}\n"
      ],
      "text/markdown": [
       "\n",
       "A data.frame: 107 × 11\n",
       "\n",
       "| <!--/--> | case_sum &lt;int&gt; | 0-15_tot &lt;dbl&gt; | 16-19_tot &lt;dbl&gt; | 20-29_tot &lt;dbl&gt; | 30-39_tot &lt;dbl&gt; | 40-49_tot &lt;dbl&gt; | 50-59_tot &lt;dbl&gt; | 60-69_tot &lt;dbl&gt; | 70-79_tot &lt;dbl&gt; | 80-89_tot &lt;dbl&gt; | 90+_tot &lt;dbl&gt; |\n",
       "|---|---|---|---|---|---|---|---|---|---|---|---|\n",
       "| 1 | 26628 | 151532 | 41306 | 109220 | 123518 | 170138 | 185183 | 150102 | 128371 |  82471 | 17393 |\n",
       "| 20 |  1914 |  46205 | 12595 |  33303 |  37663 |  51878 |  56465 |  45769 |  39143 |  25147 |  5303 |\n",
       "| 31 |  4551 |  29767 |  8114 |  21455 |  24264 |  33421 |  36377 |  29486 |  25217 |  16200 |  3416 |\n",
       "| 42 |  7345 | 153092 | 41731 | 110344 | 124790 | 171890 | 187090 | 151647 | 129693 |  83320 | 17572 |\n",
       "| 53 |  3712 |  33487 |  9128 |  24136 |  27296 |  37598 |  40923 |  33171 |  28368 |  18225 |  3843 |\n",
       "| 64 |  5214 |  79011 | 21537 |  56949 |  64404 |  88712 |  96557 |  78265 |  66935 |  43002 |  9069 |\n",
       "| 75 |  1072 |  17259 |  4706 |  11870 |  13174 |  18555 |  20757 |  16060 |  13089 |   7800 |  1764 |\n",
       "| 86 |  2844 |  38341 | 10965 |  29089 |  31496 |  45316 |  53919 |  43269 |  39696 |  26845 |  6435 |\n",
       "| 97 |  4030 |  51262 | 14661 |  38893 |  42111 |  60589 |  72091 |  57851 |  53075 |  35893 |  8604 |\n",
       "| 2 |  7676 |  60834 | 17398 |  46154 |  49973 |  71902 |  85551 |  68653 |  62985 |  42595 | 10210 |\n",
       "| 9 |  2756 |  29241 |  8363 |  22185 |  24021 |  34561 |  41122 |  33000 |  30275 |  20474 |  4908 |\n",
       "| 12 | 13856 |  72341 | 18997 |  49570 |  58520 |  77665 |  80029 |  59772 |  50075 |  30636 |  6442 |\n",
       "| 13 | 10452 |  77148 | 20259 |  52864 |  62408 |  82826 |  85347 |  63744 |  53403 |  32672 |  6870 |\n",
       "| 14 |  3548 | 192690 | 50601 | 132037 | 155875 | 206870 | 213168 | 159211 | 133382 |  81603 | 17159 |\n",
       "| 15 | 36113 |  94972 | 24940 |  65077 |  76827 | 101961 | 105065 |  78471 |  65741 |  40220 |  8457 |\n",
       "| 16 |  5625 | 165598 | 43487 | 113473 | 133959 | 177785 | 183197 | 136827 | 114630 |  70130 | 14747 |\n",
       "| 17 | 17991 | 288736 | 75824 | 197851 | 233571 | 309985 | 319422 | 238570 | 199867 | 122278 | 25713 |\n",
       "| 18 |  8342 | 178971 | 46999 | 122637 | 144778 | 192142 | 197992 | 147876 | 123887 |  75793 | 15938 |\n",
       "| 19 |  3304 | 106716 | 28024 |  73125 |  86327 | 114570 | 118058 |  88175 |  73870 |  45193 |  9503 |\n",
       "| 21 |  8428 | 141227 | 37087 |  96773 | 114245 | 151621 | 156236 | 116690 |  97759 |  59809 | 12576 |\n",
       "| 22 | 16296 |  48405 | 12652 |  33218 |  34324 |  41141 |  45423 |  31015 |  25345 |  14739 |  3352 |\n",
       "| 23 | 11638 |  37670 | 10231 |  26351 |  27860 |  35628 |  39149 |  30582 |  23869 |  13899 |  3614 |\n",
       "| 24 | 32930 | 114968 | 31438 |  81228 |  89941 | 125254 | 134945 | 101818 |  83459 |  49462 | 11057 |\n",
       "| 25 | 24919 | 101040 | 27629 |  71388 |  79045 | 110081 | 118597 |  89484 |  73349 |  43470 |  9718 |\n",
       "| 26 |  8552 | 134047 | 36655 |  94708 | 104866 | 146041 | 157339 | 118716 |  97309 |  57670 | 12892 |\n",
       "| 27 | 32487 |  92042 | 25169 |  65030 |  72005 | 100277 | 108035 |  81515 |  66816 |  39598 |  8852 |\n",
       "| 28 | 28430 |  91846 | 25115 |  64892 |  71852 | 100063 | 107805 |  81341 |  66674 |  39514 |  8833 |\n",
       "| 29 | 29257 |  79632 | 21775 |  56262 |  62297 |  86757 |  93469 |  70524 |  57808 |  34259 |  7659 |\n",
       "| 30 |  5621 |  67533 | 18467 |  47714 |  52832 |  73575 |  79267 |  59809 |  49024 |  29054 |  6495 |\n",
       "| 32 | 15905 |  96155 | 26604 |  68564 |  78771 | 112032 | 122946 |  97681 |  88665 |  52234 | 12656 |\n",
       "| ... | ... | ... | ... | ... | ... | ... | ... | ... | ... | ... | ... |\n",
       "| 84 |  4428 | 117427 | 33829 |  94284 | 104326 | 117439 | 126426 | 106330 | 77233 | 47484 | 10164 |\n",
       "| 85 |  2429 |  42313 | 12190 |  33974 |  37592 |  42318 |  45556 |  38315 | 27830 | 17110 |  3662 |\n",
       "| 87 |  6067 |  56183 | 16185 |  45110 |  49915 |  56189 |  60489 |  50874 | 36952 | 22719 |  4863 |\n",
       "| 101 |  9415 |  44025 | 12181 |  31392 |  36065 |  51295 |  56292 |  44724 | 40596 | 23916 |  5795 |\n",
       "| 102 |   877 |  12430 |  3743 |  11049 |  11922 |  14520 |  16319 |  13934 | 10419 |  7236 |  1795 |\n",
       "| 104 |  1732 |  20250 |  5520 |  14595 |  16506 |  22736 |  24747 |  20059 | 17155 | 11021 |  2324 |\n",
       "| 105 |  3920 |  49127 | 12901 |  33663 |  39740 |  52742 |  54348 |  40591 | 34006 | 20805 |  4374 |\n",
       "| 106 |  2948 |  47169 | 12387 |  32322 |  38157 |  50641 |  52182 |  38974 | 32651 | 19976 |  4200 |\n",
       "| 107 |  9926 |  23759 |  6172 |  16223 |  19330 |  26738 |  27154 |  20910 | 17629 | 11479 |  2764 |\n",
       "| 3 |  2250 |   7679 |  2079 |   5403 |   6385 |   8854 |   9338 |   7368 |  6523 |  4129 |   969 |\n",
       "| 4 |  1061 |  30361 |  8746 |  24377 |  26973 |  30364 |  32688 |  27492 | 19969 | 12277 |  2628 |\n",
       "| 5 |  1859 |  20102 |  5791 |  16140 |  17859 |  20104 |  21643 |  18202 | 13221 |  8128 |  1740 |\n",
       "| 6 |  2428 |  50203 | 13685 |  36185 |  40922 |  56368 |  61352 |  49729 | 42530 | 27323 |  5762 |\n",
       "| 7 |  8924 |  24460 |  6423 |  16760 |  19786 |  26260 |  27059 |  20210 | 16931 | 10358 |  2178 |\n",
       "| 8 |  3134 |  18453 |  5058 |  13454 |  15255 |  20579 |  21656 |  17711 | 14298 |  9886 |  2341 |\n",
       "| 10 |  7278 |  43260 | 13144 |  34671 |  36383 |  46038 |  47798 |  38746 | 30824 | 17539 |  3622 |\n",
       "| 88 |  5208 |  68190 | 19881 |  53476 |  56401 |  66796 |  70098 |  57497 | 43702 | 25165 |  5048 |\n",
       "| 89 | 18328 | 138186 | 40289 | 108367 | 114296 | 135361 | 142052 | 116516 | 88562 | 50996 | 10230 |\n",
       "| 90 | 11714 |  90173 | 26290 |  70715 |  74584 |  88330 |  92696 |  76032 | 57791 | 33277 |  6675 |\n",
       "| 91 |  2371 |  84321 | 24584 |  66126 |  69744 |  82598 |  86681 |  71098 | 54041 | 31118 |  6242 |\n",
       "| 92 |  3448 |  58926 | 17180 |  46210 |  48739 |  57721 |  60575 |  49685 | 37765 | 21746 |  4362 |\n",
       "| 93 |  1687 |  71061 | 20718 |  55727 |  58776 |  69609 |  73050 |  59917 | 45542 | 26224 |  5260 |\n",
       "| 94 | 20686 |  98727 | 28784 |  77423 |  81658 |  96708 | 101489 |  83244 | 63273 | 36434 |  7308 |\n",
       "| 95 |  2204 |  44818 | 13067 |  35147 |  37070 |  43902 |  46072 |  37790 | 28724 | 16539 |  3317 |\n",
       "| 96 |  5397 |  58608 | 17087 |  45961 |  48475 |  57409 |  60247 |  49417 | 37561 | 21628 |  4338 |\n",
       "| 98 |  4542 |  60834 | 17758 |  48622 |  59210 |  80124 |  84958 |  71410 | 54556 | 30389 |  6740 |\n",
       "| 99 |  3674 |  44587 | 13015 |  35637 |  43396 |  58725 |  62268 |  52338 | 39985 | 22273 |  4940 |\n",
       "| 100 |  4280 |   9857 |  2877 |   7878 |   9594 |  12982 |  13766 |  11570 |  8839 |  4924 |  1092 |\n",
       "| 103 |  1375 |  23633 |  6898 |  18889 |  23002 |  31127 |  33004 |  27741 | 21194 | 11805 |  2618 |\n",
       "| 11 |  2771 |  51606 | 15064 |  41247 |  50228 |  67970 |  72070 |  60578 | 46280 | 25779 |  5718 |\n",
       "\n"
      ],
      "text/plain": [
       "    case_sum 0-15_tot 16-19_tot 20-29_tot 30-39_tot 40-49_tot 50-59_tot\n",
       "1   26628    151532   41306     109220    123518    170138    185183   \n",
       "20   1914     46205   12595      33303     37663     51878     56465   \n",
       "31   4551     29767    8114      21455     24264     33421     36377   \n",
       "42   7345    153092   41731     110344    124790    171890    187090   \n",
       "53   3712     33487    9128      24136     27296     37598     40923   \n",
       "64   5214     79011   21537      56949     64404     88712     96557   \n",
       "75   1072     17259    4706      11870     13174     18555     20757   \n",
       "86   2844     38341   10965      29089     31496     45316     53919   \n",
       "97   4030     51262   14661      38893     42111     60589     72091   \n",
       "2    7676     60834   17398      46154     49973     71902     85551   \n",
       "9    2756     29241    8363      22185     24021     34561     41122   \n",
       "12  13856     72341   18997      49570     58520     77665     80029   \n",
       "13  10452     77148   20259      52864     62408     82826     85347   \n",
       "14   3548    192690   50601     132037    155875    206870    213168   \n",
       "15  36113     94972   24940      65077     76827    101961    105065   \n",
       "16   5625    165598   43487     113473    133959    177785    183197   \n",
       "17  17991    288736   75824     197851    233571    309985    319422   \n",
       "18   8342    178971   46999     122637    144778    192142    197992   \n",
       "19   3304    106716   28024      73125     86327    114570    118058   \n",
       "21   8428    141227   37087      96773    114245    151621    156236   \n",
       "22  16296     48405   12652      33218     34324     41141     45423   \n",
       "23  11638     37670   10231      26351     27860     35628     39149   \n",
       "24  32930    114968   31438      81228     89941    125254    134945   \n",
       "25  24919    101040   27629      71388     79045    110081    118597   \n",
       "26   8552    134047   36655      94708    104866    146041    157339   \n",
       "27  32487     92042   25169      65030     72005    100277    108035   \n",
       "28  28430     91846   25115      64892     71852    100063    107805   \n",
       "29  29257     79632   21775      56262     62297     86757     93469   \n",
       "30   5621     67533   18467      47714     52832     73575     79267   \n",
       "32  15905     96155   26604      68564     78771    112032    122946   \n",
       "... ...      ...      ...       ...       ...       ...       ...      \n",
       "84   4428    117427   33829      94284    104326    117439    126426   \n",
       "85   2429     42313   12190      33974     37592     42318     45556   \n",
       "87   6067     56183   16185      45110     49915     56189     60489   \n",
       "101  9415     44025   12181      31392     36065     51295     56292   \n",
       "102   877     12430    3743      11049     11922     14520     16319   \n",
       "104  1732     20250    5520      14595     16506     22736     24747   \n",
       "105  3920     49127   12901      33663     39740     52742     54348   \n",
       "106  2948     47169   12387      32322     38157     50641     52182   \n",
       "107  9926     23759    6172      16223     19330     26738     27154   \n",
       "3    2250      7679    2079       5403      6385      8854      9338   \n",
       "4    1061     30361    8746      24377     26973     30364     32688   \n",
       "5    1859     20102    5791      16140     17859     20104     21643   \n",
       "6    2428     50203   13685      36185     40922     56368     61352   \n",
       "7    8924     24460    6423      16760     19786     26260     27059   \n",
       "8    3134     18453    5058      13454     15255     20579     21656   \n",
       "10   7278     43260   13144      34671     36383     46038     47798   \n",
       "88   5208     68190   19881      53476     56401     66796     70098   \n",
       "89  18328    138186   40289     108367    114296    135361    142052   \n",
       "90  11714     90173   26290      70715     74584     88330     92696   \n",
       "91   2371     84321   24584      66126     69744     82598     86681   \n",
       "92   3448     58926   17180      46210     48739     57721     60575   \n",
       "93   1687     71061   20718      55727     58776     69609     73050   \n",
       "94  20686     98727   28784      77423     81658     96708    101489   \n",
       "95   2204     44818   13067      35147     37070     43902     46072   \n",
       "96   5397     58608   17087      45961     48475     57409     60247   \n",
       "98   4542     60834   17758      48622     59210     80124     84958   \n",
       "99   3674     44587   13015      35637     43396     58725     62268   \n",
       "100  4280      9857    2877       7878      9594     12982     13766   \n",
       "103  1375     23633    6898      18889     23002     31127     33004   \n",
       "11   2771     51606   15064      41247     50228     67970     72070   \n",
       "    60-69_tot 70-79_tot 80-89_tot 90+_tot\n",
       "1   150102    128371     82471    17393  \n",
       "20   45769     39143     25147     5303  \n",
       "31   29486     25217     16200     3416  \n",
       "42  151647    129693     83320    17572  \n",
       "53   33171     28368     18225     3843  \n",
       "64   78265     66935     43002     9069  \n",
       "75   16060     13089      7800     1764  \n",
       "86   43269     39696     26845     6435  \n",
       "97   57851     53075     35893     8604  \n",
       "2    68653     62985     42595    10210  \n",
       "9    33000     30275     20474     4908  \n",
       "12   59772     50075     30636     6442  \n",
       "13   63744     53403     32672     6870  \n",
       "14  159211    133382     81603    17159  \n",
       "15   78471     65741     40220     8457  \n",
       "16  136827    114630     70130    14747  \n",
       "17  238570    199867    122278    25713  \n",
       "18  147876    123887     75793    15938  \n",
       "19   88175     73870     45193     9503  \n",
       "21  116690     97759     59809    12576  \n",
       "22   31015     25345     14739     3352  \n",
       "23   30582     23869     13899     3614  \n",
       "24  101818     83459     49462    11057  \n",
       "25   89484     73349     43470     9718  \n",
       "26  118716     97309     57670    12892  \n",
       "27   81515     66816     39598     8852  \n",
       "28   81341     66674     39514     8833  \n",
       "29   70524     57808     34259     7659  \n",
       "30   59809     49024     29054     6495  \n",
       "32   97681     88665     52234    12656  \n",
       "... ...       ...       ...       ...    \n",
       "84  106330    77233     47484     10164  \n",
       "85   38315    27830     17110      3662  \n",
       "87   50874    36952     22719      4863  \n",
       "101  44724    40596     23916      5795  \n",
       "102  13934    10419      7236      1795  \n",
       "104  20059    17155     11021      2324  \n",
       "105  40591    34006     20805      4374  \n",
       "106  38974    32651     19976      4200  \n",
       "107  20910    17629     11479      2764  \n",
       "3     7368     6523      4129       969  \n",
       "4    27492    19969     12277      2628  \n",
       "5    18202    13221      8128      1740  \n",
       "6    49729    42530     27323      5762  \n",
       "7    20210    16931     10358      2178  \n",
       "8    17711    14298      9886      2341  \n",
       "10   38746    30824     17539      3622  \n",
       "88   57497    43702     25165      5048  \n",
       "89  116516    88562     50996     10230  \n",
       "90   76032    57791     33277      6675  \n",
       "91   71098    54041     31118      6242  \n",
       "92   49685    37765     21746      4362  \n",
       "93   59917    45542     26224      5260  \n",
       "94   83244    63273     36434      7308  \n",
       "95   37790    28724     16539      3317  \n",
       "96   49417    37561     21628      4338  \n",
       "98   71410    54556     30389      6740  \n",
       "99   52338    39985     22273      4940  \n",
       "100  11570     8839      4924      1092  \n",
       "103  27741    21194     11805      2618  \n",
       "11   60578    46280     25779      5718  "
      ]
     },
     "metadata": {},
     "output_type": "display_data"
    }
   ],
   "source": [
    "data"
   ]
  },
  {
   "cell_type": "code",
   "execution_count": null,
   "id": "selected-mattress",
   "metadata": {},
   "outputs": [],
   "source": [
    "write.csv(as.data.frame(as.data.frame(ita_prov[c('DEN_PROV',all_eta,'inhabitants')])),\"cdd2.csv\", row.names = TRUE)"
   ]
  },
  {
   "cell_type": "code",
   "execution_count": 66,
   "id": "rising-villa",
   "metadata": {
    "scrolled": false
   },
   "outputs": [
    {
     "data": {
      "text/plain": [
       "\n",
       "Call:\n",
       "lm(formula = y ~ x, data = df)\n",
       "\n",
       "Residuals:\n",
       "   Min     1Q Median     3Q    Max \n",
       "-12758  -4198  -2540   1396  36344 \n",
       "\n",
       "Coefficients:\n",
       "             Estimate Std. Error t value Pr(>|t|)    \n",
       "(Intercept) 3.367e+03  1.408e+03   2.392   0.0185 *  \n",
       "x           8.236e-02  1.783e-02   4.619  1.1e-05 ***\n",
       "---\n",
       "Signif. codes:  0 '***' 0.001 '**' 0.01 '*' 0.05 '.' 0.1 ' ' 1\n",
       "\n",
       "Residual standard error: 8658 on 105 degrees of freedom\n",
       "Multiple R-squared:  0.1688,\tAdjusted R-squared:  0.1609 \n",
       "F-statistic: 21.33 on 1 and 105 DF,  p-value: 1.101e-05\n"
      ]
     },
     "metadata": {},
     "output_type": "display_data"
    },
    {
     "data": {
      "image/png": "[encoded data removed]",
      "text/plain": [
       "Plot with title \"\""
      ]
     },
     "metadata": {
      "image/png": {
       "height": 646.1538,
       "width": 646.1538
      }
     },
     "output_type": "display_data"
    },
    {
     "data": {
      "image/png": "[encoded data removed]",
      "text/plain": [
       "Plot with title \"\""
      ]
     },
     "metadata": {
      "image/png": {
       "height": 646.1538,
       "width": 646.1538
      }
     },
     "output_type": "display_data"
    },
    {
     "data": {
      "image/png": "[encoded data removed]",
      "text/plain": [
       "Plot with title \"\""
      ]
     },
     "metadata": {
      "image/png": {
       "height": 646.1538,
       "width": 646.1538
      }
     },
     "output_type": "display_data"
    },
    {
     "data": {
      "image/png": "[encoded data removed]",
      "text/plain": [
       "Plot with title \"\""
      ]
     },
     "metadata": {
      "image/png": {
       "height": 646.1538,
       "width": 646.1538
      }
     },
     "output_type": "display_data"
    }
   ],
   "source": [
    "df = data.frame(data$case_sum,data[c('30-39_tot')])\n",
    "colnames(df) = c('y','x')\n",
    "model = lm(y ~ x, data = df)\n",
    "summary(model)\n",
    "plot(model)"
   ]
  },
  {
   "cell_type": "code",
   "execution_count": 64,
   "id": "dying-review",
   "metadata": {},
   "outputs": [],
   "source": []
  },
  {
   "cell_type": "code",
   "execution_count": 65,
   "id": "settled-carol",
   "metadata": {},
   "outputs": [
    {
     "data": {
      "text/html": [
       "<table class=\"dataframe\">\n",
       "<caption>A data.frame: 107 × 2</caption>\n",
       "<thead>\n",
       "\t<tr><th></th><th scope=col>y</th><th scope=col>x</th></tr>\n",
       "\t<tr><th></th><th scope=col>&lt;int&gt;</th><th scope=col>&lt;dbl&gt;</th></tr>\n",
       "</thead>\n",
       "<tbody>\n",
       "\t<tr><th scope=row>1</th><td>26628</td><td>123518</td></tr>\n",
       "\t<tr><th scope=row>20</th><td> 1914</td><td> 37663</td></tr>\n",
       "\t<tr><th scope=row>31</th><td> 4551</td><td> 24264</td></tr>\n",
       "\t<tr><th scope=row>42</th><td> 7345</td><td>124790</td></tr>\n",
       "\t<tr><th scope=row>53</th><td> 3712</td><td> 27296</td></tr>\n",
       "\t<tr><th scope=row>64</th><td> 5214</td><td> 64404</td></tr>\n",
       "\t<tr><th scope=row>75</th><td> 1072</td><td> 13174</td></tr>\n",
       "\t<tr><th scope=row>86</th><td> 2844</td><td> 31496</td></tr>\n",
       "\t<tr><th scope=row>97</th><td> 4030</td><td> 42111</td></tr>\n",
       "\t<tr><th scope=row>2</th><td> 7676</td><td> 49973</td></tr>\n",
       "\t<tr><th scope=row>9</th><td> 2756</td><td> 24021</td></tr>\n",
       "\t<tr><th scope=row>12</th><td>13856</td><td> 58520</td></tr>\n",
       "\t<tr><th scope=row>13</th><td>10452</td><td> 62408</td></tr>\n",
       "\t<tr><th scope=row>14</th><td> 3548</td><td>155875</td></tr>\n",
       "\t<tr><th scope=row>15</th><td>36113</td><td> 76827</td></tr>\n",
       "\t<tr><th scope=row>16</th><td> 5625</td><td>133959</td></tr>\n",
       "\t<tr><th scope=row>17</th><td>17991</td><td>233571</td></tr>\n",
       "\t<tr><th scope=row>18</th><td> 8342</td><td>144778</td></tr>\n",
       "\t<tr><th scope=row>19</th><td> 3304</td><td> 86327</td></tr>\n",
       "\t<tr><th scope=row>21</th><td> 8428</td><td>114245</td></tr>\n",
       "\t<tr><th scope=row>22</th><td>16296</td><td> 34324</td></tr>\n",
       "\t<tr><th scope=row>23</th><td>11638</td><td> 27860</td></tr>\n",
       "\t<tr><th scope=row>24</th><td>32930</td><td> 89941</td></tr>\n",
       "\t<tr><th scope=row>25</th><td>24919</td><td> 79045</td></tr>\n",
       "\t<tr><th scope=row>26</th><td> 8552</td><td>104866</td></tr>\n",
       "\t<tr><th scope=row>27</th><td>32487</td><td> 72005</td></tr>\n",
       "\t<tr><th scope=row>28</th><td>28430</td><td> 71852</td></tr>\n",
       "\t<tr><th scope=row>29</th><td>29257</td><td> 62297</td></tr>\n",
       "\t<tr><th scope=row>30</th><td> 5621</td><td> 52832</td></tr>\n",
       "\t<tr><th scope=row>32</th><td>15905</td><td> 78771</td></tr>\n",
       "\t<tr><th scope=row>...</th><td>...</td><td>...</td></tr>\n",
       "\t<tr><th scope=row>84</th><td> 4428</td><td>104326</td></tr>\n",
       "\t<tr><th scope=row>85</th><td> 2429</td><td> 37592</td></tr>\n",
       "\t<tr><th scope=row>87</th><td> 6067</td><td> 49915</td></tr>\n",
       "\t<tr><th scope=row>101</th><td> 9415</td><td> 36065</td></tr>\n",
       "\t<tr><th scope=row>102</th><td>  877</td><td> 11922</td></tr>\n",
       "\t<tr><th scope=row>104</th><td> 1732</td><td> 16506</td></tr>\n",
       "\t<tr><th scope=row>105</th><td> 3920</td><td> 39740</td></tr>\n",
       "\t<tr><th scope=row>106</th><td> 2948</td><td> 38157</td></tr>\n",
       "\t<tr><th scope=row>107</th><td> 9926</td><td> 19330</td></tr>\n",
       "\t<tr><th scope=row>3</th><td> 2250</td><td>  6385</td></tr>\n",
       "\t<tr><th scope=row>4</th><td> 1061</td><td> 26973</td></tr>\n",
       "\t<tr><th scope=row>5</th><td> 1859</td><td> 17859</td></tr>\n",
       "\t<tr><th scope=row>6</th><td> 2428</td><td> 40922</td></tr>\n",
       "\t<tr><th scope=row>7</th><td> 8924</td><td> 19786</td></tr>\n",
       "\t<tr><th scope=row>8</th><td> 3134</td><td> 15255</td></tr>\n",
       "\t<tr><th scope=row>10</th><td> 7278</td><td> 36383</td></tr>\n",
       "\t<tr><th scope=row>88</th><td> 5208</td><td> 56401</td></tr>\n",
       "\t<tr><th scope=row>89</th><td>18328</td><td>114296</td></tr>\n",
       "\t<tr><th scope=row>90</th><td>11714</td><td> 74584</td></tr>\n",
       "\t<tr><th scope=row>91</th><td> 2371</td><td> 69744</td></tr>\n",
       "\t<tr><th scope=row>92</th><td> 3448</td><td> 48739</td></tr>\n",
       "\t<tr><th scope=row>93</th><td> 1687</td><td> 58776</td></tr>\n",
       "\t<tr><th scope=row>94</th><td>20686</td><td> 81658</td></tr>\n",
       "\t<tr><th scope=row>95</th><td> 2204</td><td> 37070</td></tr>\n",
       "\t<tr><th scope=row>96</th><td> 5397</td><td> 48475</td></tr>\n",
       "\t<tr><th scope=row>98</th><td> 4542</td><td> 59210</td></tr>\n",
       "\t<tr><th scope=row>99</th><td> 3674</td><td> 43396</td></tr>\n",
       "\t<tr><th scope=row>100</th><td> 4280</td><td>  9594</td></tr>\n",
       "\t<tr><th scope=row>103</th><td> 1375</td><td> 23002</td></tr>\n",
       "\t<tr><th scope=row>11</th><td> 2771</td><td> 50228</td></tr>\n",
       "</tbody>\n",
       "</table>\n"
      ],
      "text/latex": [
       "A data.frame: 107 × 2\n",
       "\\begin{tabular}{r|ll}\n",
       "  & y & x\\\\\n",
       "  & <int> & <dbl>\\\\\n",
       "\\hline\n",
       "\t1 & 26628 & 123518\\\\\n",
       "\t20 &  1914 &  37663\\\\\n",
       "\t31 &  4551 &  24264\\\\\n",
       "\t42 &  7345 & 124790\\\\\n",
       "\t53 &  3712 &  27296\\\\\n",
       "\t64 &  5214 &  64404\\\\\n",
       "\t75 &  1072 &  13174\\\\\n",
       "\t86 &  2844 &  31496\\\\\n",
       "\t97 &  4030 &  42111\\\\\n",
       "\t2 &  7676 &  49973\\\\\n",
       "\t9 &  2756 &  24021\\\\\n",
       "\t12 & 13856 &  58520\\\\\n",
       "\t13 & 10452 &  62408\\\\\n",
       "\t14 &  3548 & 155875\\\\\n",
       "\t15 & 36113 &  76827\\\\\n",
       "\t16 &  5625 & 133959\\\\\n",
       "\t17 & 17991 & 233571\\\\\n",
       "\t18 &  8342 & 144778\\\\\n",
       "\t19 &  3304 &  86327\\\\\n",
       "\t21 &  8428 & 114245\\\\\n",
       "\t22 & 16296 &  34324\\\\\n",
       "\t23 & 11638 &  27860\\\\\n",
       "\t24 & 32930 &  89941\\\\\n",
       "\t25 & 24919 &  79045\\\\\n",
       "\t26 &  8552 & 104866\\\\\n",
       "\t27 & 32487 &  72005\\\\\n",
       "\t28 & 28430 &  71852\\\\\n",
       "\t29 & 29257 &  62297\\\\\n",
       "\t30 &  5621 &  52832\\\\\n",
       "\t32 & 15905 &  78771\\\\\n",
       "\t... & ... & ...\\\\\n",
       "\t84 &  4428 & 104326\\\\\n",
       "\t85 &  2429 &  37592\\\\\n",
       "\t87 &  6067 &  49915\\\\\n",
       "\t101 &  9415 &  36065\\\\\n",
       "\t102 &   877 &  11922\\\\\n",
       "\t104 &  1732 &  16506\\\\\n",
       "\t105 &  3920 &  39740\\\\\n",
       "\t106 &  2948 &  38157\\\\\n",
       "\t107 &  9926 &  19330\\\\\n",
       "\t3 &  2250 &   6385\\\\\n",
       "\t4 &  1061 &  26973\\\\\n",
       "\t5 &  1859 &  17859\\\\\n",
       "\t6 &  2428 &  40922\\\\\n",
       "\t7 &  8924 &  19786\\\\\n",
       "\t8 &  3134 &  15255\\\\\n",
       "\t10 &  7278 &  36383\\\\\n",
       "\t88 &  5208 &  56401\\\\\n",
       "\t89 & 18328 & 114296\\\\\n",
       "\t90 & 11714 &  74584\\\\\n",
       "\t91 &  2371 &  69744\\\\\n",
       "\t92 &  3448 &  48739\\\\\n",
       "\t93 &  1687 &  58776\\\\\n",
       "\t94 & 20686 &  81658\\\\\n",
       "\t95 &  2204 &  37070\\\\\n",
       "\t96 &  5397 &  48475\\\\\n",
       "\t98 &  4542 &  59210\\\\\n",
       "\t99 &  3674 &  43396\\\\\n",
       "\t100 &  4280 &   9594\\\\\n",
       "\t103 &  1375 &  23002\\\\\n",
       "\t11 &  2771 &  50228\\\\\n",
       "\\end{tabular}\n"
      ],
      "text/markdown": [
       "\n",
       "A data.frame: 107 × 2\n",
       "\n",
       "| <!--/--> | y &lt;int&gt; | x &lt;dbl&gt; |\n",
       "|---|---|---|\n",
       "| 1 | 26628 | 123518 |\n",
       "| 20 |  1914 |  37663 |\n",
       "| 31 |  4551 |  24264 |\n",
       "| 42 |  7345 | 124790 |\n",
       "| 53 |  3712 |  27296 |\n",
       "| 64 |  5214 |  64404 |\n",
       "| 75 |  1072 |  13174 |\n",
       "| 86 |  2844 |  31496 |\n",
       "| 97 |  4030 |  42111 |\n",
       "| 2 |  7676 |  49973 |\n",
       "| 9 |  2756 |  24021 |\n",
       "| 12 | 13856 |  58520 |\n",
       "| 13 | 10452 |  62408 |\n",
       "| 14 |  3548 | 155875 |\n",
       "| 15 | 36113 |  76827 |\n",
       "| 16 |  5625 | 133959 |\n",
       "| 17 | 17991 | 233571 |\n",
       "| 18 |  8342 | 144778 |\n",
       "| 19 |  3304 |  86327 |\n",
       "| 21 |  8428 | 114245 |\n",
       "| 22 | 16296 |  34324 |\n",
       "| 23 | 11638 |  27860 |\n",
       "| 24 | 32930 |  89941 |\n",
       "| 25 | 24919 |  79045 |\n",
       "| 26 |  8552 | 104866 |\n",
       "| 27 | 32487 |  72005 |\n",
       "| 28 | 28430 |  71852 |\n",
       "| 29 | 29257 |  62297 |\n",
       "| 30 |  5621 |  52832 |\n",
       "| 32 | 15905 |  78771 |\n",
       "| ... | ... | ... |\n",
       "| 84 |  4428 | 104326 |\n",
       "| 85 |  2429 |  37592 |\n",
       "| 87 |  6067 |  49915 |\n",
       "| 101 |  9415 |  36065 |\n",
       "| 102 |   877 |  11922 |\n",
       "| 104 |  1732 |  16506 |\n",
       "| 105 |  3920 |  39740 |\n",
       "| 106 |  2948 |  38157 |\n",
       "| 107 |  9926 |  19330 |\n",
       "| 3 |  2250 |   6385 |\n",
       "| 4 |  1061 |  26973 |\n",
       "| 5 |  1859 |  17859 |\n",
       "| 6 |  2428 |  40922 |\n",
       "| 7 |  8924 |  19786 |\n",
       "| 8 |  3134 |  15255 |\n",
       "| 10 |  7278 |  36383 |\n",
       "| 88 |  5208 |  56401 |\n",
       "| 89 | 18328 | 114296 |\n",
       "| 90 | 11714 |  74584 |\n",
       "| 91 |  2371 |  69744 |\n",
       "| 92 |  3448 |  48739 |\n",
       "| 93 |  1687 |  58776 |\n",
       "| 94 | 20686 |  81658 |\n",
       "| 95 |  2204 |  37070 |\n",
       "| 96 |  5397 |  48475 |\n",
       "| 98 |  4542 |  59210 |\n",
       "| 99 |  3674 |  43396 |\n",
       "| 100 |  4280 |   9594 |\n",
       "| 103 |  1375 |  23002 |\n",
       "| 11 |  2771 |  50228 |\n",
       "\n"
      ],
      "text/plain": [
       "    y     x     \n",
       "1   26628 123518\n",
       "20   1914  37663\n",
       "31   4551  24264\n",
       "42   7345 124790\n",
       "53   3712  27296\n",
       "64   5214  64404\n",
       "75   1072  13174\n",
       "86   2844  31496\n",
       "97   4030  42111\n",
       "2    7676  49973\n",
       "9    2756  24021\n",
       "12  13856  58520\n",
       "13  10452  62408\n",
       "14   3548 155875\n",
       "15  36113  76827\n",
       "16   5625 133959\n",
       "17  17991 233571\n",
       "18   8342 144778\n",
       "19   3304  86327\n",
       "21   8428 114245\n",
       "22  16296  34324\n",
       "23  11638  27860\n",
       "24  32930  89941\n",
       "25  24919  79045\n",
       "26   8552 104866\n",
       "27  32487  72005\n",
       "28  28430  71852\n",
       "29  29257  62297\n",
       "30   5621  52832\n",
       "32  15905  78771\n",
       "... ...   ...   \n",
       "84   4428 104326\n",
       "85   2429  37592\n",
       "87   6067  49915\n",
       "101  9415  36065\n",
       "102   877  11922\n",
       "104  1732  16506\n",
       "105  3920  39740\n",
       "106  2948  38157\n",
       "107  9926  19330\n",
       "3    2250   6385\n",
       "4    1061  26973\n",
       "5    1859  17859\n",
       "6    2428  40922\n",
       "7    8924  19786\n",
       "8    3134  15255\n",
       "10   7278  36383\n",
       "88   5208  56401\n",
       "89  18328 114296\n",
       "90  11714  74584\n",
       "91   2371  69744\n",
       "92   3448  48739\n",
       "93   1687  58776\n",
       "94  20686  81658\n",
       "95   2204  37070\n",
       "96   5397  48475\n",
       "98   4542  59210\n",
       "99   3674  43396\n",
       "100  4280   9594\n",
       "103  1375  23002\n",
       "11   2771  50228"
      ]
     },
     "metadata": {},
     "output_type": "display_data"
    }
   ],
   "source": [
    "df"
   ]
  },
  {
   "cell_type": "code",
   "execution_count": null,
   "id": "labeled-elimination",
   "metadata": {},
   "outputs": [],
   "source": []
  }
 ],
 "metadata": {
  "kernelspec": {
   "display_name": "R",
   "language": "R",
   "name": "ir"
  },
  "language_info": {
   "codemirror_mode": "r",
   "file_extension": ".r",
   "mimetype": "text/x-r-source",
   "name": "R",
   "pygments_lexer": "r",
   "version": "4.0.4"
  }
 },
 "nbformat": 4,
 "nbformat_minor": 5
}
