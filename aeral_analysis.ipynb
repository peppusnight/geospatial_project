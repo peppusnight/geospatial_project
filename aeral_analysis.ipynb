{
 "cells": [
  {
   "cell_type": "code",
   "execution_count": 1,
   "id": "excessive-digest",
   "metadata": {
    "scrolled": true
   },
   "outputs": [
    {
     "name": "stderr",
     "output_type": "stream",
     "text": [
      "Linking to GEOS 3.9.0, GDAL 3.2.1, PROJ 7.2.1\n",
      "\n",
      "rgdal: version: 1.5-23, (SVN revision 1121)\n",
      "Geospatial Data Abstraction Library extensions to R successfully loaded\n",
      "Loaded GDAL runtime: GDAL 3.2.1, released 2020/12/29\n",
      "Path to GDAL shared files: C:/Users/peppu/Documents/R/win-library/4.0/rgdal/gdal\n",
      "GDAL binary built with GEOS: TRUE \n",
      "Loaded PROJ runtime: Rel. 7.2.1, January 1st, 2021, [PJ_VERSION: 721]\n",
      "Path to PROJ shared files: C:/Users/peppu/Documents/R/win-library/4.0/rgdal/proj\n",
      "PROJ CDN enabled: FALSE\n",
      "Linking to sp version:1.4-5\n",
      "To mute warnings of possible GDAL/OSR exportToProj4() degradation,\n",
      "use options(\"rgdal_show_exportToProj4_warnings\"=\"none\") before loading rgdal.\n",
      "Overwritten PROJ_LIB was C:/Users/peppu/Documents/R/win-library/4.0/rgdal/proj\n",
      "\n",
      "rgeos version: 0.5-5, (SVN revision 640)\n",
      " GEOS runtime version: 3.8.0-CAPI-1.13.1 \n",
      " Linking to sp version: 1.4-5 \n",
      " Polygon checking: TRUE \n",
      "\n",
      "\n",
      "Checking rgeos availability: TRUE\n",
      "\n",
      "Loading required package: spData\n",
      "\n",
      "To access larger datasets in this package, install the spDataLarge\n",
      "package with: `install.packages('spDataLarge',\n",
      "repos='https://nowosad.github.io/drat/', type='source')`\n",
      "\n",
      "Loading required package: spatstat.data\n",
      "\n",
      "Loading required package: spatstat.geom\n",
      "\n",
      "spatstat.geom 2.2-2\n",
      "\n",
      "Loading required package: spatstat.core\n",
      "\n",
      "Loading required package: nlme\n",
      "\n",
      "Loading required package: rpart\n",
      "\n",
      "spatstat.core 2.2-0\n",
      "\n",
      "Loading required package: spatstat.linnet\n",
      "\n",
      "spatstat.linnet 2.2-1\n",
      "\n",
      "\n",
      "spatstat 2.2-0       (nickname: 'That's not important right now') \n",
      "For an introduction to spatstat, type 'beginner' \n",
      "\n",
      "\n",
      "\n",
      "Spatial Point Pattern Analysis Code in S-Plus\n",
      " \n",
      " Version 2 - Spatial and Space-Time analysis\n",
      "\n",
      "\n",
      "\n",
      "Attaching package: 'raster'\n",
      "\n",
      "\n",
      "The following object is masked from 'package:splancs':\n",
      "\n",
      "    zoom\n",
      "\n",
      "\n",
      "The following object is masked from 'package:nlme':\n",
      "\n",
      "    getData\n",
      "\n",
      "\n",
      "The following objects are masked from 'package:spatstat.geom':\n",
      "\n",
      "    area, rotate, shift\n",
      "\n",
      "\n",
      "\n",
      "Attaching package: 'data.table'\n",
      "\n",
      "\n",
      "The following object is masked from 'package:raster':\n",
      "\n",
      "    shift\n",
      "\n",
      "\n",
      "The following object is masked from 'package:spatstat.geom':\n",
      "\n",
      "    shift\n",
      "\n",
      "\n",
      "Loading required package: spatialreg\n",
      "\n",
      "Loading required package: Matrix\n",
      "\n",
      "\n",
      "Attaching package: 'spatialreg'\n",
      "\n",
      "\n",
      "The following objects are masked from 'package:spdep':\n",
      "\n",
      "    as.spam.listw, as_dgRMatrix_listw, as_dsCMatrix_I,\n",
      "    as_dsCMatrix_IrW, as_dsTMatrix_listw, can.be.simmed, cheb_setup,\n",
      "    create_WX, do_ldet, eigen_pre_setup, eigen_setup, eigenw,\n",
      "    errorsarlm, get.ClusterOption, get.coresOption, get.mcOption,\n",
      "    get.VerboseOption, get.ZeroPolicyOption, GMargminImage, GMerrorsar,\n",
      "    griffith_sone, gstsls, Hausman.test, impacts, intImpacts,\n",
      "    Jacobian_W, jacobianSetup, l_max, lagmess, lagsarlm, lextrB,\n",
      "    lextrS, lextrW, lmSLX, LU_prepermutate_setup, LU_setup,\n",
      "    Matrix_J_setup, Matrix_setup, mcdet_setup, MCMCsamp, ME, mom_calc,\n",
      "    mom_calc_int2, moments_setup, powerWeights, sacsarlm,\n",
      "    SE_classic_setup, SE_interp_setup, SE_whichMin_setup,\n",
      "    set.ClusterOption, set.coresOption, set.mcOption,\n",
      "    set.VerboseOption, set.ZeroPolicyOption, similar.listw, spam_setup,\n",
      "    spam_update_setup, SpatialFiltering, spautolm, spBreg_err,\n",
      "    spBreg_lag, spBreg_sac, stsls, subgraph_eigenw, trW\n",
      "\n",
      "\n"
     ]
    }
   ],
   "source": [
    "defaultW <- getOption(\"warn\")\n",
    "options(warn = -1)\n",
    "library(sp)\n",
    "library(sf)\n",
    "library(rgdal)\n",
    "library(rgeos)\n",
    "library(maptools)\n",
    "library(stringr)\n",
    "library(spdep)\n",
    "library(spatstat)\n",
    "library(splancs)\n",
    "#gpclibPermit()\n",
    "library(raster)\n",
    "library(data.table)\n",
    "require(spatialreg)\n",
    "options(warn = defaultW)"
   ]
  },
  {
   "cell_type": "markdown",
   "id": "removed-snake",
   "metadata": {},
   "source": [
    "# 0 - Problem Statement \n",
    "da scrivere"
   ]
  },
  {
   "cell_type": "markdown",
   "id": "suburban-mercy",
   "metadata": {},
   "source": [
    "# 1 - Load shape file for regions and districts"
   ]
  },
  {
   "cell_type": "code",
   "execution_count": 2,
   "id": "cutting-clause",
   "metadata": {},
   "outputs": [
    {
     "name": "stdout",
     "output_type": "stream",
     "text": [
      "OGR data source with driver: ESRI Shapefile \n",
      "Source: \"C:\\Users\\peppu\\Documents\\MyPythonProject\\geospatial_project\\external_shp\\ProvCM01012018_g\\ProvCM01012018_g_WGS84.shp\", layer: \"ProvCM01012018_g_WGS84\"\n",
      "with 107 features\n",
      "It has 12 fields\n",
      "Integer64 fields read as strings:  COD_RIP COD_REG COD_PROV COD_CM COD_PCM \n",
      "OGR data source with driver: ESRI Shapefile \n",
      "Source: \"C:\\Users\\peppu\\Documents\\MyPythonProject\\geospatial_project\\external_shp\\Reg01012018_g\\Reg01012018_g_WGS84.shp\", layer: \"Reg01012018_g_WGS84\"\n",
      "with 20 features\n",
      "It has 6 fields\n",
      "Integer64 fields read as strings:  COD_RIP COD_REG \n"
     ]
    },
    {
     "data": {
      "text/html": [
       "<table class=\"dataframe\">\n",
       "<caption>A data.frame: 6 × 12</caption>\n",
       "<thead>\n",
       "\t<tr><th></th><th scope=col>COD_RIP</th><th scope=col>COD_REG</th><th scope=col>COD_PROV</th><th scope=col>COD_CM</th><th scope=col>COD_PCM</th><th scope=col>DEN_PROV</th><th scope=col>DEN_CM</th><th scope=col>DEN_PCM</th><th scope=col>SIGLA</th><th scope=col>SHAPE_LENG</th><th scope=col>SHAPE_AREA</th><th scope=col>SHAPE_LEN</th></tr>\n",
       "\t<tr><th></th><th scope=col>&lt;chr&gt;</th><th scope=col>&lt;chr&gt;</th><th scope=col>&lt;chr&gt;</th><th scope=col>&lt;chr&gt;</th><th scope=col>&lt;chr&gt;</th><th scope=col>&lt;chr&gt;</th><th scope=col>&lt;chr&gt;</th><th scope=col>&lt;chr&gt;</th><th scope=col>&lt;chr&gt;</th><th scope=col>&lt;dbl&gt;</th><th scope=col>&lt;dbl&gt;</th><th scope=col>&lt;dbl&gt;</th></tr>\n",
       "</thead>\n",
       "<tbody>\n",
       "\t<tr><th scope=row>0</th><td>1</td><td>1</td><td>1</td><td>201</td><td>201</td><td>-          </td><td>Torino</td><td>Torino     </td><td>TO</td><td>539249.8</td><td>6828137329</td><td>539249.8</td></tr>\n",
       "\t<tr><th scope=row>1</th><td>1</td><td>1</td><td>2</td><td>0  </td><td>2  </td><td>Vercelli   </td><td>-     </td><td>Vercelli   </td><td>VC</td><td>418249.3</td><td>2082027827</td><td>418249.3</td></tr>\n",
       "\t<tr><th scope=row>2</th><td>1</td><td>1</td><td>3</td><td>0  </td><td>3  </td><td>Novara     </td><td>-     </td><td>Novara     </td><td>NO</td><td>250242.4</td><td>1341319564</td><td>250242.4</td></tr>\n",
       "\t<tr><th scope=row>3</th><td>1</td><td>1</td><td>4</td><td>0  </td><td>4  </td><td>Cuneo      </td><td>-     </td><td>Cuneo      </td><td>CN</td><td>490111.9</td><td>6898443198</td><td>490111.9</td></tr>\n",
       "\t<tr><th scope=row>4</th><td>1</td><td>1</td><td>5</td><td>0  </td><td>5  </td><td>Asti       </td><td>-     </td><td>Asti       </td><td>AT</td><td>315561.4</td><td>1508948105</td><td>315561.4</td></tr>\n",
       "\t<tr><th scope=row>5</th><td>1</td><td>1</td><td>6</td><td>0  </td><td>6  </td><td>Alessandria</td><td>-     </td><td>Alessandria</td><td>AL</td><td>474880.9</td><td>3560304556</td><td>474880.9</td></tr>\n",
       "</tbody>\n",
       "</table>\n"
      ],
      "text/latex": [
       "A data.frame: 6 × 12\n",
       "\\begin{tabular}{r|llllllllllll}\n",
       "  & COD\\_RIP & COD\\_REG & COD\\_PROV & COD\\_CM & COD\\_PCM & DEN\\_PROV & DEN\\_CM & DEN\\_PCM & SIGLA & SHAPE\\_LENG & SHAPE\\_AREA & SHAPE\\_LEN\\\\\n",
       "  & <chr> & <chr> & <chr> & <chr> & <chr> & <chr> & <chr> & <chr> & <chr> & <dbl> & <dbl> & <dbl>\\\\\n",
       "\\hline\n",
       "\t0 & 1 & 1 & 1 & 201 & 201 & -           & Torino & Torino      & TO & 539249.8 & 6828137329 & 539249.8\\\\\n",
       "\t1 & 1 & 1 & 2 & 0   & 2   & Vercelli    & -      & Vercelli    & VC & 418249.3 & 2082027827 & 418249.3\\\\\n",
       "\t2 & 1 & 1 & 3 & 0   & 3   & Novara      & -      & Novara      & NO & 250242.4 & 1341319564 & 250242.4\\\\\n",
       "\t3 & 1 & 1 & 4 & 0   & 4   & Cuneo       & -      & Cuneo       & CN & 490111.9 & 6898443198 & 490111.9\\\\\n",
       "\t4 & 1 & 1 & 5 & 0   & 5   & Asti        & -      & Asti        & AT & 315561.4 & 1508948105 & 315561.4\\\\\n",
       "\t5 & 1 & 1 & 6 & 0   & 6   & Alessandria & -      & Alessandria & AL & 474880.9 & 3560304556 & 474880.9\\\\\n",
       "\\end{tabular}\n"
      ],
      "text/markdown": [
       "\n",
       "A data.frame: 6 × 12\n",
       "\n",
       "| <!--/--> | COD_RIP &lt;chr&gt; | COD_REG &lt;chr&gt; | COD_PROV &lt;chr&gt; | COD_CM &lt;chr&gt; | COD_PCM &lt;chr&gt; | DEN_PROV &lt;chr&gt; | DEN_CM &lt;chr&gt; | DEN_PCM &lt;chr&gt; | SIGLA &lt;chr&gt; | SHAPE_LENG &lt;dbl&gt; | SHAPE_AREA &lt;dbl&gt; | SHAPE_LEN &lt;dbl&gt; |\n",
       "|---|---|---|---|---|---|---|---|---|---|---|---|---|\n",
       "| 0 | 1 | 1 | 1 | 201 | 201 | -           | Torino | Torino      | TO | 539249.8 | 6828137329 | 539249.8 |\n",
       "| 1 | 1 | 1 | 2 | 0   | 2   | Vercelli    | -      | Vercelli    | VC | 418249.3 | 2082027827 | 418249.3 |\n",
       "| 2 | 1 | 1 | 3 | 0   | 3   | Novara      | -      | Novara      | NO | 250242.4 | 1341319564 | 250242.4 |\n",
       "| 3 | 1 | 1 | 4 | 0   | 4   | Cuneo       | -      | Cuneo       | CN | 490111.9 | 6898443198 | 490111.9 |\n",
       "| 4 | 1 | 1 | 5 | 0   | 5   | Asti        | -      | Asti        | AT | 315561.4 | 1508948105 | 315561.4 |\n",
       "| 5 | 1 | 1 | 6 | 0   | 6   | Alessandria | -      | Alessandria | AL | 474880.9 | 3560304556 | 474880.9 |\n",
       "\n"
      ],
      "text/plain": [
       "  COD_RIP COD_REG COD_PROV COD_CM COD_PCM DEN_PROV    DEN_CM DEN_PCM     SIGLA\n",
       "0 1       1       1        201    201     -           Torino Torino      TO   \n",
       "1 1       1       2        0      2       Vercelli    -      Vercelli    VC   \n",
       "2 1       1       3        0      3       Novara      -      Novara      NO   \n",
       "3 1       1       4        0      4       Cuneo       -      Cuneo       CN   \n",
       "4 1       1       5        0      5       Asti        -      Asti        AT   \n",
       "5 1       1       6        0      6       Alessandria -      Alessandria AL   \n",
       "  SHAPE_LENG SHAPE_AREA SHAPE_LEN\n",
       "0 539249.8   6828137329 539249.8 \n",
       "1 418249.3   2082027827 418249.3 \n",
       "2 250242.4   1341319564 250242.4 \n",
       "3 490111.9   6898443198 490111.9 \n",
       "4 315561.4   1508948105 315561.4 \n",
       "5 474880.9   3560304556 474880.9 "
      ]
     },
     "metadata": {},
     "output_type": "display_data"
    }
   ],
   "source": [
    "ita_prov = readOGR(\"external_shp/ProvCM01012018_g/ProvCM01012018_g_WGS84.shp\")\n",
    "ita_reg = readOGR(\"external_shp/Reg01012018_g/Reg01012018_g_WGS84.shp\")\n",
    "head(as.data.frame(ita_prov))"
   ]
  },
  {
   "cell_type": "code",
   "execution_count": 3,
   "id": "indirect-rescue",
   "metadata": {},
   "outputs": [],
   "source": [
    "ita_prov$COD_REG = as.numeric(ita_prov$COD_REG) # convert region code into numeric"
   ]
  },
  {
   "cell_type": "markdown",
   "id": "exotic-perfume",
   "metadata": {},
   "source": [
    "## 1.1 COVID cases calculation\n",
    "Read COVID data for all the districts"
   ]
  },
  {
   "cell_type": "code",
   "execution_count": 4,
   "id": "accurate-chinese",
   "metadata": {
    "scrolled": true
   },
   "outputs": [],
   "source": [
    "dati_prov_covid = read.csv(\"C:/Users/peppu/Documents/MyPythonProject/COVID-19/dati-province/dpc-covid19-ita-province.csv\")\n",
    "dati_prov_covid_jan21 = dati_prov_covid[(dati_prov_covid$data %like% \"2021-01\") | (dati_prov_covid$data %like% \"2020-12\"), ]\n",
    "dati_prov_covid_jan21$COD_PROV = dati_prov_covid_jan21$codice_provincia\n",
    "dati_prov_covid_jan21$COD_REG = dati_prov_covid_jan21$codice_regione"
   ]
  },
  {
   "cell_type": "markdown",
   "id": "fantastic-restriction",
   "metadata": {},
   "source": [
    "Calculate for each district the new number of cases in DEC-2020 to JAN-2021."
   ]
  },
  {
   "cell_type": "code",
   "execution_count": 5,
   "id": "prescription-tract",
   "metadata": {},
   "outputs": [
    {
     "data": {
      "text/html": [
       "<table class=\"dataframe\">\n",
       "<caption>A data.frame: 6 × 2</caption>\n",
       "<thead>\n",
       "\t<tr><th></th><th scope=col>COD_PROV</th><th scope=col>case_sum</th></tr>\n",
       "\t<tr><th></th><th scope=col>&lt;int&gt;</th><th scope=col>&lt;int&gt;</th></tr>\n",
       "</thead>\n",
       "<tbody>\n",
       "\t<tr><th scope=row>1</th><td> 66</td><td>2953</td></tr>\n",
       "\t<tr><th scope=row>2</th><td> 67</td><td>3511</td></tr>\n",
       "\t<tr><th scope=row>3</th><td> 68</td><td>3576</td></tr>\n",
       "\t<tr><th scope=row>4</th><td> 69</td><td>4298</td></tr>\n",
       "\t<tr><th scope=row>5</th><td>879</td><td> 116</td></tr>\n",
       "\t<tr><th scope=row>6</th><td>979</td><td>  52</td></tr>\n",
       "</tbody>\n",
       "</table>\n"
      ],
      "text/latex": [
       "A data.frame: 6 × 2\n",
       "\\begin{tabular}{r|ll}\n",
       "  & COD\\_PROV & case\\_sum\\\\\n",
       "  & <int> & <int>\\\\\n",
       "\\hline\n",
       "\t1 &  66 & 2953\\\\\n",
       "\t2 &  67 & 3511\\\\\n",
       "\t3 &  68 & 3576\\\\\n",
       "\t4 &  69 & 4298\\\\\n",
       "\t5 & 879 &  116\\\\\n",
       "\t6 & 979 &   52\\\\\n",
       "\\end{tabular}\n"
      ],
      "text/markdown": [
       "\n",
       "A data.frame: 6 × 2\n",
       "\n",
       "| <!--/--> | COD_PROV &lt;int&gt; | case_sum &lt;int&gt; |\n",
       "|---|---|---|\n",
       "| 1 |  66 | 2953 |\n",
       "| 2 |  67 | 3511 |\n",
       "| 3 |  68 | 3576 |\n",
       "| 4 |  69 | 4298 |\n",
       "| 5 | 879 |  116 |\n",
       "| 6 | 979 |   52 |\n",
       "\n"
      ],
      "text/plain": [
       "  COD_PROV case_sum\n",
       "1  66      2953    \n",
       "2  67      3511    \n",
       "3  68      3576    \n",
       "4  69      4298    \n",
       "5 879       116    \n",
       "6 979        52    "
      ]
     },
     "metadata": {},
     "output_type": "display_data"
    }
   ],
   "source": [
    "unique_prov = unique(dati_prov_covid_jan21$COD_PROV)\n",
    "prov_arr = c()\n",
    "tot_casi_prov = c()\n",
    "for(i in unique_prov) {\n",
    "    tot_casi=0\n",
    "    df = subset(dati_prov_covid_jan21, COD_PROV==i)\n",
    "    tot_casi = max(df$totale_casi)-min(df$totale_casi)\n",
    "    prov_arr = c(prov_arr,i)\n",
    "    tot_casi_prov = c(tot_casi_prov,tot_casi)\n",
    "}\n",
    "sum_cases = data.frame(prov_arr, tot_casi_prov)\n",
    "colnames(sum_cases) = c('COD_PROV','case_sum')\n",
    "head(sum_cases)"
   ]
  },
  {
   "cell_type": "markdown",
   "id": "valued-librarian",
   "metadata": {},
   "source": [
    "Merge the spatial dataframe with the districts information"
   ]
  },
  {
   "cell_type": "code",
   "execution_count": 6,
   "id": "induced-inventory",
   "metadata": {},
   "outputs": [],
   "source": [
    "# ita_prov_new = merge(ita_prov,dati_prov_covid_jan21,by=\"COD_PROV\")\n",
    "ita_prov = merge(ita_prov,sum_cases,by=\"COD_PROV\")"
   ]
  },
  {
   "cell_type": "markdown",
   "id": "studied-zealand",
   "metadata": {},
   "source": [
    "## 1.2 ISTAT region features\n",
    "Get from COVID dataset the features for each region; since the dataset is in region and not in district I divide by the area of the region to get the density and then multiply by the area of the district."
   ]
  },
  {
   "cell_type": "code",
   "execution_count": 7,
   "id": "agreed-institution",
   "metadata": {},
   "outputs": [
    {
     "data": {
      "text/html": [
       "<table class=\"dataframe\">\n",
       "<caption>A data.frame: 6 × 13</caption>\n",
       "<thead>\n",
       "\t<tr><th></th><th scope=col>codice_regione</th><th scope=col>codice_nuts_1</th><th scope=col>descrizione_nuts_1</th><th scope=col>codice_nuts_2</th><th scope=col>denominazione_regione</th><th scope=col>sigla_regione</th><th scope=col>latitudine_regione</th><th scope=col>longitudine_regione</th><th scope=col>range_eta</th><th scope=col>totale_genere_maschile</th><th scope=col>totale_genere_femminile</th><th scope=col>totale_generale</th><th scope=col>COD_REG</th></tr>\n",
       "\t<tr><th></th><th scope=col>&lt;int&gt;</th><th scope=col>&lt;chr&gt;</th><th scope=col>&lt;chr&gt;</th><th scope=col>&lt;chr&gt;</th><th scope=col>&lt;chr&gt;</th><th scope=col>&lt;chr&gt;</th><th scope=col>&lt;dbl&gt;</th><th scope=col>&lt;dbl&gt;</th><th scope=col>&lt;chr&gt;</th><th scope=col>&lt;int&gt;</th><th scope=col>&lt;int&gt;</th><th scope=col>&lt;int&gt;</th><th scope=col>&lt;dbl&gt;</th></tr>\n",
       "</thead>\n",
       "<tbody>\n",
       "\t<tr><th scope=row>1</th><td>13</td><td>ITF</td><td>Sud</td><td>ITF1</td><td>Abruzzo</td><td>ABR</td><td>42.35122</td><td>13.39844</td><td>0-15 </td><td> 87423</td><td> 82474</td><td>169897</td><td>13</td></tr>\n",
       "\t<tr><th scope=row>2</th><td>13</td><td>ITF</td><td>Sud</td><td>ITF1</td><td>Abruzzo</td><td>ABR</td><td>42.35122</td><td>13.39844</td><td>16-19</td><td> 24402</td><td> 22349</td><td> 46751</td><td>13</td></tr>\n",
       "\t<tr><th scope=row>3</th><td>13</td><td>ITF</td><td>Sud</td><td>ITF1</td><td>Abruzzo</td><td>ABR</td><td>42.35122</td><td>13.39844</td><td>20-29</td><td> 67472</td><td> 62611</td><td>130083</td><td>13</td></tr>\n",
       "\t<tr><th scope=row>4</th><td>13</td><td>ITF</td><td>Sud</td><td>ITF1</td><td>Abruzzo</td><td>ABR</td><td>42.35122</td><td>13.39844</td><td>30-39</td><td> 76472</td><td> 74241</td><td>150713</td><td>13</td></tr>\n",
       "\t<tr><th scope=row>5</th><td>13</td><td>ITF</td><td>Sud</td><td>ITF1</td><td>Abruzzo</td><td>ABR</td><td>42.35122</td><td>13.39844</td><td>40-49</td><td> 94745</td><td> 95315</td><td>190060</td><td>13</td></tr>\n",
       "\t<tr><th scope=row>6</th><td>13</td><td>ITF</td><td>Sud</td><td>ITF1</td><td>Abruzzo</td><td>ABR</td><td>42.35122</td><td>13.39844</td><td>50-59</td><td>100048</td><td>104109</td><td>204157</td><td>13</td></tr>\n",
       "</tbody>\n",
       "</table>\n"
      ],
      "text/latex": [
       "A data.frame: 6 × 13\n",
       "\\begin{tabular}{r|lllllllllllll}\n",
       "  & codice\\_regione & codice\\_nuts\\_1 & descrizione\\_nuts\\_1 & codice\\_nuts\\_2 & denominazione\\_regione & sigla\\_regione & latitudine\\_regione & longitudine\\_regione & range\\_eta & totale\\_genere\\_maschile & totale\\_genere\\_femminile & totale\\_generale & COD\\_REG\\\\\n",
       "  & <int> & <chr> & <chr> & <chr> & <chr> & <chr> & <dbl> & <dbl> & <chr> & <int> & <int> & <int> & <dbl>\\\\\n",
       "\\hline\n",
       "\t1 & 13 & ITF & Sud & ITF1 & Abruzzo & ABR & 42.35122 & 13.39844 & 0-15  &  87423 &  82474 & 169897 & 13\\\\\n",
       "\t2 & 13 & ITF & Sud & ITF1 & Abruzzo & ABR & 42.35122 & 13.39844 & 16-19 &  24402 &  22349 &  46751 & 13\\\\\n",
       "\t3 & 13 & ITF & Sud & ITF1 & Abruzzo & ABR & 42.35122 & 13.39844 & 20-29 &  67472 &  62611 & 130083 & 13\\\\\n",
       "\t4 & 13 & ITF & Sud & ITF1 & Abruzzo & ABR & 42.35122 & 13.39844 & 30-39 &  76472 &  74241 & 150713 & 13\\\\\n",
       "\t5 & 13 & ITF & Sud & ITF1 & Abruzzo & ABR & 42.35122 & 13.39844 & 40-49 &  94745 &  95315 & 190060 & 13\\\\\n",
       "\t6 & 13 & ITF & Sud & ITF1 & Abruzzo & ABR & 42.35122 & 13.39844 & 50-59 & 100048 & 104109 & 204157 & 13\\\\\n",
       "\\end{tabular}\n"
      ],
      "text/markdown": [
       "\n",
       "A data.frame: 6 × 13\n",
       "\n",
       "| <!--/--> | codice_regione &lt;int&gt; | codice_nuts_1 &lt;chr&gt; | descrizione_nuts_1 &lt;chr&gt; | codice_nuts_2 &lt;chr&gt; | denominazione_regione &lt;chr&gt; | sigla_regione &lt;chr&gt; | latitudine_regione &lt;dbl&gt; | longitudine_regione &lt;dbl&gt; | range_eta &lt;chr&gt; | totale_genere_maschile &lt;int&gt; | totale_genere_femminile &lt;int&gt; | totale_generale &lt;int&gt; | COD_REG &lt;dbl&gt; |\n",
       "|---|---|---|---|---|---|---|---|---|---|---|---|---|---|\n",
       "| 1 | 13 | ITF | Sud | ITF1 | Abruzzo | ABR | 42.35122 | 13.39844 | 0-15  |  87423 |  82474 | 169897 | 13 |\n",
       "| 2 | 13 | ITF | Sud | ITF1 | Abruzzo | ABR | 42.35122 | 13.39844 | 16-19 |  24402 |  22349 |  46751 | 13 |\n",
       "| 3 | 13 | ITF | Sud | ITF1 | Abruzzo | ABR | 42.35122 | 13.39844 | 20-29 |  67472 |  62611 | 130083 | 13 |\n",
       "| 4 | 13 | ITF | Sud | ITF1 | Abruzzo | ABR | 42.35122 | 13.39844 | 30-39 |  76472 |  74241 | 150713 | 13 |\n",
       "| 5 | 13 | ITF | Sud | ITF1 | Abruzzo | ABR | 42.35122 | 13.39844 | 40-49 |  94745 |  95315 | 190060 | 13 |\n",
       "| 6 | 13 | ITF | Sud | ITF1 | Abruzzo | ABR | 42.35122 | 13.39844 | 50-59 | 100048 | 104109 | 204157 | 13 |\n",
       "\n"
      ],
      "text/plain": [
       "  codice_regione codice_nuts_1 descrizione_nuts_1 codice_nuts_2\n",
       "1 13             ITF           Sud                ITF1         \n",
       "2 13             ITF           Sud                ITF1         \n",
       "3 13             ITF           Sud                ITF1         \n",
       "4 13             ITF           Sud                ITF1         \n",
       "5 13             ITF           Sud                ITF1         \n",
       "6 13             ITF           Sud                ITF1         \n",
       "  denominazione_regione sigla_regione latitudine_regione longitudine_regione\n",
       "1 Abruzzo               ABR           42.35122           13.39844           \n",
       "2 Abruzzo               ABR           42.35122           13.39844           \n",
       "3 Abruzzo               ABR           42.35122           13.39844           \n",
       "4 Abruzzo               ABR           42.35122           13.39844           \n",
       "5 Abruzzo               ABR           42.35122           13.39844           \n",
       "6 Abruzzo               ABR           42.35122           13.39844           \n",
       "  range_eta totale_genere_maschile totale_genere_femminile totale_generale\n",
       "1 0-15       87423                  82474                  169897         \n",
       "2 16-19      24402                  22349                   46751         \n",
       "3 20-29      67472                  62611                  130083         \n",
       "4 30-39      76472                  74241                  150713         \n",
       "5 40-49      94745                  95315                  190060         \n",
       "6 50-59     100048                 104109                  204157         \n",
       "  COD_REG\n",
       "1 13     \n",
       "2 13     \n",
       "3 13     \n",
       "4 13     \n",
       "5 13     \n",
       "6 13     "
      ]
     },
     "metadata": {},
     "output_type": "display_data"
    }
   ],
   "source": [
    "# Calculate the area of each region\n",
    "reg_area_df = data.frame(ita_reg$COD_REG,area(ita_reg))\n",
    "colnames(reg_area_df) = c('COD_REG','area')\n",
    "dati_stat = read.csv(\"C:/Users/peppu/Documents/MyPythonProject/COVID-19/dati-statistici-riferimento/popolazione-istat-regione-range.csv\")\n",
    "dati_stat$COD_REG = as.numeric(dati_stat$codice_regione)\n",
    "head(dati_stat)"
   ]
  },
  {
   "cell_type": "markdown",
   "id": "dependent-wheel",
   "metadata": {},
   "source": [
    "Calculate the number of inhabitants based on age range and sex for each district."
   ]
  },
  {
   "cell_type": "code",
   "execution_count": 8,
   "id": "horizontal-output",
   "metadata": {},
   "outputs": [],
   "source": [
    "# Initialize dataframe with age range and sex\n",
    "unique_range_eta = unique(dati_stat$range_eta)\n",
    "for(r_eta in unique_range_eta){    \n",
    "    new_str = str_replace(r_eta,'-','_')\n",
    "    new_str = str_replace(new_str,'\\\\+','plus')\n",
    "    new_str = paste(\"var_\", new_str, sep=\"\")\n",
    "    dati_stat[dati_stat==r_eta] = new_str\n",
    "    }\n",
    "unique_range_eta = unique(dati_stat$range_eta)\n",
    "for(r_eta in unique_range_eta){\n",
    "    ita_prov[[paste(r_eta, \"_tot\", sep=\"\")]] = 0\n",
    "    ita_prov[[paste(r_eta, \"_tot_male\", sep=\"\")]] = 0\n",
    "    ita_prov[[paste(r_eta, \"_tot_female\", sep=\"\")]]= 0\n",
    "}\n",
    "# Iterate over each district to calculate the number of people in each age range and sex\n",
    "unique_prov = unique(ita_prov$COD_PROV)\n",
    "for(current_prov_cod in unique_prov) {\n",
    "    current_prov = subset(ita_prov,COD_PROV==current_prov_cod) # Current district spatial DF\n",
    "    area_prov = area(current_prov) # get area of current district\n",
    "    \n",
    "    current_region_cod = current_prov$COD_REG # Current region ID    \n",
    "    area_reg = subset(reg_area_df,COD_REG==current_region_cod)$area # get area of current district\n",
    "    \n",
    "    if (area_prov/area_reg>1){\n",
    "        message(current_prov$DEN_PROV)\n",
    "        raise_error\n",
    "    }\n",
    "    \n",
    "    # Iterate over each age range\n",
    "    for(r_eta in unique_range_eta) {\n",
    "        \n",
    "        if (current_prov_cod==21){ # mange BOLZANO\n",
    "            current_region_cod = 21\n",
    "        }\n",
    "        if (current_prov_cod==22){ # manage TRENTO\n",
    "            current_region_cod = 22\n",
    "        }\n",
    "        current_reg_range = subset(dati_stat, (COD_REG==current_region_cod) & (range_eta==r_eta))\n",
    "        tot_generale = as.integer(current_reg_range$totale_generale)\n",
    "        tot_male = as.integer(current_reg_range$totale_genere_maschile)\n",
    "        tot_female = as.integer(current_reg_range$totale_genere_femminile)\n",
    "        \n",
    "        tot_generale_prov = as.integer(tot_generale*area_prov/area_reg)\n",
    "        tot_male_prov = as.integer(tot_male*area_prov/area_reg)\n",
    "        tot_female_prov = as.integer(tot_female*area_prov/area_reg)\n",
    "        \n",
    "        ita_prov[[paste(r_eta, \"_tot\", sep=\"\")]][ita_prov$COD_PROV==current_prov_cod] = tot_generale_prov\n",
    "        ita_prov[[paste(r_eta, \"_tot_male\", sep=\"\")]][ita_prov$COD_PROV==current_prov_cod] = tot_male_prov\n",
    "        ita_prov[[paste(r_eta, \"_tot_female\", sep=\"\")]][ita_prov$COD_PROV==current_prov_cod] = tot_female_prov\n",
    "    \n",
    "    }\n",
    "}"
   ]
  },
  {
   "cell_type": "markdown",
   "id": "piano-warning",
   "metadata": {},
   "source": [
    "Calculate the number of inhabintants and the relative increase of cases."
   ]
  },
  {
   "cell_type": "code",
   "execution_count": 9,
   "id": "excessive-canberra",
   "metadata": {},
   "outputs": [
    {
     "data": {
      "text/html": [
       "<table class=\"dataframe\">\n",
       "<caption>A data.frame: 6 × 14</caption>\n",
       "<thead>\n",
       "\t<tr><th></th><th scope=col>DEN_PCM</th><th scope=col>var_0_15_tot</th><th scope=col>var_16_19_tot</th><th scope=col>var_20_29_tot</th><th scope=col>var_30_39_tot</th><th scope=col>var_40_49_tot</th><th scope=col>var_50_59_tot</th><th scope=col>var_60_69_tot</th><th scope=col>var_70_79_tot</th><th scope=col>var_80_89_tot</th><th scope=col>var_90plus_tot</th><th scope=col>inhabitants</th><th scope=col>case_sum</th><th scope=col>case_sum_rel</th></tr>\n",
       "\t<tr><th></th><th scope=col>&lt;chr&gt;</th><th scope=col>&lt;dbl&gt;</th><th scope=col>&lt;dbl&gt;</th><th scope=col>&lt;dbl&gt;</th><th scope=col>&lt;dbl&gt;</th><th scope=col>&lt;dbl&gt;</th><th scope=col>&lt;dbl&gt;</th><th scope=col>&lt;dbl&gt;</th><th scope=col>&lt;dbl&gt;</th><th scope=col>&lt;dbl&gt;</th><th scope=col>&lt;dbl&gt;</th><th scope=col>&lt;dbl&gt;</th><th scope=col>&lt;int&gt;</th><th scope=col>&lt;dbl&gt;</th></tr>\n",
       "</thead>\n",
       "<tbody>\n",
       "\t<tr><th scope=row>1</th><td>Torino     </td><td>151532</td><td>41306</td><td>109220</td><td>123518</td><td>170138</td><td>185183</td><td>150102</td><td>128371</td><td>82471</td><td>17393</td><td>1159234</td><td>26628</td><td>0.022970341</td></tr>\n",
       "\t<tr><th scope=row>20</th><td>Vercelli   </td><td> 46205</td><td>12595</td><td> 33303</td><td> 37663</td><td> 51878</td><td> 56465</td><td> 45769</td><td> 39143</td><td>25147</td><td> 5303</td><td> 353471</td><td> 1914</td><td>0.005414871</td></tr>\n",
       "\t<tr><th scope=row>31</th><td>Novara     </td><td> 29767</td><td> 8114</td><td> 21455</td><td> 24264</td><td> 33421</td><td> 36377</td><td> 29486</td><td> 25217</td><td>16200</td><td> 3416</td><td> 227717</td><td> 4551</td><td>0.019985333</td></tr>\n",
       "\t<tr><th scope=row>42</th><td>Cuneo      </td><td>153092</td><td>41731</td><td>110344</td><td>124790</td><td>171890</td><td>187090</td><td>151647</td><td>129693</td><td>83320</td><td>17572</td><td>1171169</td><td> 7345</td><td>0.006271512</td></tr>\n",
       "\t<tr><th scope=row>53</th><td>Asti       </td><td> 33487</td><td> 9128</td><td> 24136</td><td> 27296</td><td> 37598</td><td> 40923</td><td> 33171</td><td> 28368</td><td>18225</td><td> 3843</td><td> 256175</td><td> 3712</td><td>0.014490095</td></tr>\n",
       "\t<tr><th scope=row>64</th><td>Alessandria</td><td> 79011</td><td>21537</td><td> 56949</td><td> 64404</td><td> 88712</td><td> 96557</td><td> 78265</td><td> 66935</td><td>43002</td><td> 9069</td><td> 604441</td><td> 5214</td><td>0.008626152</td></tr>\n",
       "</tbody>\n",
       "</table>\n"
      ],
      "text/latex": [
       "A data.frame: 6 × 14\n",
       "\\begin{tabular}{r|llllllllllllll}\n",
       "  & DEN\\_PCM & var\\_0\\_15\\_tot & var\\_16\\_19\\_tot & var\\_20\\_29\\_tot & var\\_30\\_39\\_tot & var\\_40\\_49\\_tot & var\\_50\\_59\\_tot & var\\_60\\_69\\_tot & var\\_70\\_79\\_tot & var\\_80\\_89\\_tot & var\\_90plus\\_tot & inhabitants & case\\_sum & case\\_sum\\_rel\\\\\n",
       "  & <chr> & <dbl> & <dbl> & <dbl> & <dbl> & <dbl> & <dbl> & <dbl> & <dbl> & <dbl> & <dbl> & <dbl> & <int> & <dbl>\\\\\n",
       "\\hline\n",
       "\t1 & Torino      & 151532 & 41306 & 109220 & 123518 & 170138 & 185183 & 150102 & 128371 & 82471 & 17393 & 1159234 & 26628 & 0.022970341\\\\\n",
       "\t20 & Vercelli    &  46205 & 12595 &  33303 &  37663 &  51878 &  56465 &  45769 &  39143 & 25147 &  5303 &  353471 &  1914 & 0.005414871\\\\\n",
       "\t31 & Novara      &  29767 &  8114 &  21455 &  24264 &  33421 &  36377 &  29486 &  25217 & 16200 &  3416 &  227717 &  4551 & 0.019985333\\\\\n",
       "\t42 & Cuneo       & 153092 & 41731 & 110344 & 124790 & 171890 & 187090 & 151647 & 129693 & 83320 & 17572 & 1171169 &  7345 & 0.006271512\\\\\n",
       "\t53 & Asti        &  33487 &  9128 &  24136 &  27296 &  37598 &  40923 &  33171 &  28368 & 18225 &  3843 &  256175 &  3712 & 0.014490095\\\\\n",
       "\t64 & Alessandria &  79011 & 21537 &  56949 &  64404 &  88712 &  96557 &  78265 &  66935 & 43002 &  9069 &  604441 &  5214 & 0.008626152\\\\\n",
       "\\end{tabular}\n"
      ],
      "text/markdown": [
       "\n",
       "A data.frame: 6 × 14\n",
       "\n",
       "| <!--/--> | DEN_PCM &lt;chr&gt; | var_0_15_tot &lt;dbl&gt; | var_16_19_tot &lt;dbl&gt; | var_20_29_tot &lt;dbl&gt; | var_30_39_tot &lt;dbl&gt; | var_40_49_tot &lt;dbl&gt; | var_50_59_tot &lt;dbl&gt; | var_60_69_tot &lt;dbl&gt; | var_70_79_tot &lt;dbl&gt; | var_80_89_tot &lt;dbl&gt; | var_90plus_tot &lt;dbl&gt; | inhabitants &lt;dbl&gt; | case_sum &lt;int&gt; | case_sum_rel &lt;dbl&gt; |\n",
       "|---|---|---|---|---|---|---|---|---|---|---|---|---|---|---|\n",
       "| 1 | Torino      | 151532 | 41306 | 109220 | 123518 | 170138 | 185183 | 150102 | 128371 | 82471 | 17393 | 1159234 | 26628 | 0.022970341 |\n",
       "| 20 | Vercelli    |  46205 | 12595 |  33303 |  37663 |  51878 |  56465 |  45769 |  39143 | 25147 |  5303 |  353471 |  1914 | 0.005414871 |\n",
       "| 31 | Novara      |  29767 |  8114 |  21455 |  24264 |  33421 |  36377 |  29486 |  25217 | 16200 |  3416 |  227717 |  4551 | 0.019985333 |\n",
       "| 42 | Cuneo       | 153092 | 41731 | 110344 | 124790 | 171890 | 187090 | 151647 | 129693 | 83320 | 17572 | 1171169 |  7345 | 0.006271512 |\n",
       "| 53 | Asti        |  33487 |  9128 |  24136 |  27296 |  37598 |  40923 |  33171 |  28368 | 18225 |  3843 |  256175 |  3712 | 0.014490095 |\n",
       "| 64 | Alessandria |  79011 | 21537 |  56949 |  64404 |  88712 |  96557 |  78265 |  66935 | 43002 |  9069 |  604441 |  5214 | 0.008626152 |\n",
       "\n"
      ],
      "text/plain": [
       "   DEN_PCM     var_0_15_tot var_16_19_tot var_20_29_tot var_30_39_tot\n",
       "1  Torino      151532       41306         109220        123518       \n",
       "20 Vercelli     46205       12595          33303         37663       \n",
       "31 Novara       29767        8114          21455         24264       \n",
       "42 Cuneo       153092       41731         110344        124790       \n",
       "53 Asti         33487        9128          24136         27296       \n",
       "64 Alessandria  79011       21537          56949         64404       \n",
       "   var_40_49_tot var_50_59_tot var_60_69_tot var_70_79_tot var_80_89_tot\n",
       "1  170138        185183        150102        128371        82471        \n",
       "20  51878         56465         45769         39143        25147        \n",
       "31  33421         36377         29486         25217        16200        \n",
       "42 171890        187090        151647        129693        83320        \n",
       "53  37598         40923         33171         28368        18225        \n",
       "64  88712         96557         78265         66935        43002        \n",
       "   var_90plus_tot inhabitants case_sum case_sum_rel\n",
       "1  17393          1159234     26628    0.022970341 \n",
       "20  5303           353471      1914    0.005414871 \n",
       "31  3416           227717      4551    0.019985333 \n",
       "42 17572          1171169      7345    0.006271512 \n",
       "53  3843           256175      3712    0.014490095 \n",
       "64  9069           604441      5214    0.008626152 "
      ]
     },
     "metadata": {},
     "output_type": "display_data"
    }
   ],
   "source": [
    "all_eta = c()\n",
    "for(r_eta in unique_range_eta){\n",
    "    all_eta=c(all_eta,paste(r_eta, \"_tot\", sep=\"\"))\n",
    "}\n",
    "ita_prov$inhabitants = rowSums(as.data.frame(ita_prov[all_eta]))\n",
    "ita_prov$case_sum_rel = ita_prov$case_sum/ita_prov$inhabitants\n",
    "head(as.data.frame(ita_prov[c('DEN_PCM',all_eta,'inhabitants','case_sum','case_sum_rel')]))"
   ]
  },
  {
   "cell_type": "markdown",
   "id": "viral-lemon",
   "metadata": {},
   "source": [
    "## 1.3 Write SHAPE file into local folder for GeoDa analysis"
   ]
  },
  {
   "cell_type": "code",
   "execution_count": 10,
   "id": "unusual-moisture",
   "metadata": {},
   "outputs": [
    {
     "name": "stderr",
     "output_type": "stream",
     "text": [
      "Warning message in writeOGR(ita_prov, \"output/province_sum_cases.shp\", \"\", driver = \"ESRI Shapefile\"):\n",
      "\"Field names abbreviated for ESRI Shapefile driver\"\n",
      "Warning message in writeOGR(ita_prov, \"output/province_sum_cases.shp\", \"\", driver = \"ESRI Shapefile\"):\n",
      "\"field names vr_0_15_tt_m, vr_0_15_tt_f, vr_16_19_tt_m, vr_16_19_tt_f, vr_20_29_tt_m, vr_20_29_tt_f, vr_30_39_tt_m, vr_30_39_tt_f, vr_40_49_tt_m, vr_40_49_tt_f, vr_50_59_tt_m, vr_50_59_tt_f, vr_60_69_tt_m, vr_60_69_tt_f, vr_70_79_tt_m, vr_70_79_tt_f, vr_80_89_tt_m, vr_80_89_tt_f, vr_90pls_tt_m, vr_90pls_tt_f changed by driver to: vr_0_15_tt, vr_0_15__1, vr_16_19_t, vr_16_19_1, vr_20_29_t, vr_20_29_1, vr_30_39_t, vr_30_39_1, vr_40_49_t, vr_40_49_1, vr_50_59_t, vr_50_59_1, vr_60_69_t, vr_60_69_1, vr_70_79_t, vr_70_79_1, vr_80_89_t, vr_80_89_1, vr_90pls_t, vr_90pls_1\"\n"
     ]
    }
   ],
   "source": [
    "writeOGR(ita_prov, \"output/province_sum_cases.shp\", \"\", driver=\"ESRI Shapefile\")"
   ]
  },
  {
   "cell_type": "markdown",
   "id": "comprehensive-tourist",
   "metadata": {},
   "source": [
    "# 2 - Spatial Analysis"
   ]
  },
  {
   "cell_type": "markdown",
   "id": "electric-administrator",
   "metadata": {},
   "source": [
    "Plot Italy and its districts with centroids (this step is just to check the validity of the shapefile)"
   ]
  },
  {
   "cell_type": "code",
   "execution_count": 11,
   "id": "hindu-delight",
   "metadata": {},
   "outputs": [
    {
     "data": {
      "image/png": "[encoded data removed]",
      "text/plain": [
       "plot without title"
      ]
     },
     "metadata": {
      "image/png": {
       "height": 763.6364,
       "width": 763.6364
      }
     },
     "output_type": "display_data"
    }
   ],
   "source": [
    "options(jupyter.plot_scale=1.1)\n",
    "prov_center <- coordinates(ita_prov)\n",
    "ita_bbox <- bbox(ita_prov)\n",
    "plot(ita_prov)\n",
    "plot(extent(ita_bbox),add=T,col='red')  #bounding box\n",
    "points(prov_center, col='red',pch=20)  #centroidi"
   ]
  },
  {
   "cell_type": "markdown",
   "id": "amended-cyprus",
   "metadata": {},
   "source": [
    "## 2.1 Global Moran Index Calculation (check GeoDa)\n",
    "Calculate the Global Moran Index on the number of new cases (case_sum column) and relative number of new cases (case_sum_rel)"
   ]
  },
  {
   "cell_type": "markdown",
   "id": "thick-animation",
   "metadata": {},
   "source": [
    "Here I used the queen first order distance; it is exactly the same of the rook in this case (checked with GeoDa). <br>\n",
    "The Moran Index has been calculated also using a Monte Carlo procedure in order to test it's significance. <br>\n",
    "Based on both the Moran randomisation test and on Monte Carlo simulation it is possible to state that there is a very small spatial autocorrelation (it is possible to refuse the null hypothesis of no spatial autocorrelation). <br>"
   ]
  },
  {
   "cell_type": "code",
   "execution_count": 12,
   "id": "angry-sheep",
   "metadata": {},
   "outputs": [
    {
     "data": {
      "text/plain": [
       "\n",
       "\tMoran I test under randomisation\n",
       "\n",
       "data:  ita_prov$case_sum  \n",
       "weights: adj_matrix_norm    \n",
       "\n",
       "Moran I statistic standard deviate = 2.1475, p-value = 0.01588\n",
       "alternative hypothesis: greater\n",
       "sample estimates:\n",
       "Moran I statistic       Expectation          Variance \n",
       "      0.130293362      -0.009433962       0.004233329 \n"
      ]
     },
     "metadata": {},
     "output_type": "display_data"
    },
    {
     "data": {
      "text/plain": [
       "\n",
       "\tMonte-Carlo simulation of Moran I\n",
       "\n",
       "data:  ita_prov$case_sum \n",
       "weights: adj_matrix_norm  \n",
       "number of simulations + 1: 201 \n",
       "\n",
       "statistic = 0.13029, observed rank = 196, p-value = 0.02488\n",
       "alternative hypothesis: greater\n"
      ]
     },
     "metadata": {},
     "output_type": "display_data"
    },
    {
     "data": {
      "text/plain": [
       "\n",
       "\tGeary C test under randomisation\n",
       "\n",
       "data:  ita_prov$case_sum \n",
       "weights: adj_matrix_norm \n",
       "\n",
       "Geary C statistic standard deviate = 1.3264, p-value = 0.09236\n",
       "alternative hypothesis: Expectation greater than statistic\n",
       "sample estimates:\n",
       "Geary C statistic       Expectation          Variance \n",
       "       0.89192842        1.00000000        0.00663891 \n"
      ]
     },
     "metadata": {},
     "output_type": "display_data"
    },
    {
     "data": {
      "image/png": "[encoded data removed]",
      "text/plain": [
       "plot without title"
      ]
     },
     "metadata": {
      "image/png": {
       "height": 646.1538,
       "width": 646.1538
      }
     },
     "output_type": "display_data"
    }
   ],
   "source": [
    "options(jupyter.plot_scale=1.3)\n",
    "adj_matrix = poly2nb(ita_prov, queen=T)\n",
    "adj_matrix_norm <- nb2listw(adj_matrix, style = \"W\")\n",
    "moran.test(ita_prov$case_sum, adj_matrix_norm)\n",
    "moran.mc(ita_prov$case_sum, adj_matrix_norm, nsim=200)\n",
    "geary.test(ita_prov$case_sum, adj_matrix_norm)\n",
    "moran.plot((ita_prov$case_sum-mean(ita_prov$case_sum))/mean(ita_prov$case_sum), adj_matrix_norm)"
   ]
  },
  {
   "cell_type": "markdown",
   "id": "indirect-apollo",
   "metadata": {},
   "source": [
    "Exactly the same plot has been done on the relative increase in number of cases. <br>\n",
    "Here the Moran Index is still significant but it seems that there is an higher spatial correlation (0.25 vs 0.13)."
   ]
  },
  {
   "cell_type": "code",
   "execution_count": 13,
   "id": "stainless-assurance",
   "metadata": {},
   "outputs": [
    {
     "data": {
      "text/plain": [
       "\n",
       "\tMoran I test under randomisation\n",
       "\n",
       "data:  ita_prov$case_sum_rel  \n",
       "weights: adj_matrix_norm    \n",
       "\n",
       "Moran I statistic standard deviate = 4.6702, p-value = 1.505e-06\n",
       "alternative hypothesis: greater\n",
       "sample estimates:\n",
       "Moran I statistic       Expectation          Variance \n",
       "      0.257756258      -0.009433962       0.003273207 \n"
      ]
     },
     "metadata": {},
     "output_type": "display_data"
    },
    {
     "data": {
      "text/plain": [
       "\n",
       "\tMonte-Carlo simulation of Moran I\n",
       "\n",
       "data:  ita_prov$case_sum_rel \n",
       "weights: adj_matrix_norm  \n",
       "number of simulations + 1: 201 \n",
       "\n",
       "statistic = 0.25776, observed rank = 201, p-value = 0.004975\n",
       "alternative hypothesis: greater\n"
      ]
     },
     "metadata": {},
     "output_type": "display_data"
    },
    {
     "data": {
      "text/plain": [
       "\n",
       "\tGeary C test under randomisation\n",
       "\n",
       "data:  ita_prov$case_sum_rel \n",
       "weights: adj_matrix_norm \n",
       "\n",
       "Geary C statistic standard deviate = 3.7124, p-value = 0.0001026\n",
       "alternative hypothesis: Expectation greater than statistic\n",
       "sample estimates:\n",
       "Geary C statistic       Expectation          Variance \n",
       "       0.59776291        1.00000000        0.01173946 \n"
      ]
     },
     "metadata": {},
     "output_type": "display_data"
    },
    {
     "data": {
      "image/png": "[encoded data removed]",
      "text/plain": [
       "plot without title"
      ]
     },
     "metadata": {
      "image/png": {
       "height": 646.1538,
       "width": 646.1538
      }
     },
     "output_type": "display_data"
    }
   ],
   "source": [
    "moran.test(ita_prov$case_sum_rel, adj_matrix_norm)\n",
    "moran.mc(ita_prov$case_sum_rel, adj_matrix_norm, nsim=200)\n",
    "geary.test(ita_prov$case_sum_rel, adj_matrix_norm)\n",
    "moran.plot((ita_prov$case_sum_rel-mean(ita_prov$case_sum_rel))/mean(ita_prov$case_sum_rel), adj_matrix_norm)"
   ]
  },
  {
   "cell_type": "markdown",
   "id": "offshore-gauge",
   "metadata": {},
   "source": [
    "Since I want to find if there is a spatial correlation between the new cases it is probably more important the distance in terms of k-nn based on centroids (k=4). The number of centroids is not \"tuned\".<br>\n",
    "Also in this case, the Moran Index has been calculated using a Monte Carlo procedure in order to test it's significance. <br>\n",
    "Based on both the Moran randomisation test and on Monte Carlo simulation it is possible to state that there is a very small spatial autocorrelation (it is possible to refuse the null hypothesis of no spatial autocorrelation). <br>"
   ]
  },
  {
   "cell_type": "code",
   "execution_count": 14,
   "id": "loose-insertion",
   "metadata": {},
   "outputs": [
    {
     "data": {
      "text/plain": [
       "\n",
       "\tMoran I test under randomisation\n",
       "\n",
       "data:  ita_prov$case_sum  \n",
       "weights: knn_adj_matrix_norm    \n",
       "\n",
       "Moran I statistic standard deviate = 2.4856, p-value = 0.006467\n",
       "alternative hypothesis: greater\n",
       "sample estimates:\n",
       "Moran I statistic       Expectation          Variance \n",
       "      0.144540698      -0.009433962       0.003837437 \n"
      ]
     },
     "metadata": {},
     "output_type": "display_data"
    },
    {
     "data": {
      "text/plain": [
       "\n",
       "\tMonte-Carlo simulation of Moran I\n",
       "\n",
       "data:  ita_prov$case_sum \n",
       "weights: knn_adj_matrix_norm  \n",
       "number of simulations + 1: 201 \n",
       "\n",
       "statistic = 0.14454, observed rank = 197, p-value = 0.0199\n",
       "alternative hypothesis: greater\n"
      ]
     },
     "metadata": {},
     "output_type": "display_data"
    },
    {
     "data": {
      "text/plain": [
       "\n",
       "\tGeary C test under randomisation\n",
       "\n",
       "data:  ita_prov$case_sum \n",
       "weights: knn_adj_matrix_norm \n",
       "\n",
       "Geary C statistic standard deviate = 1.6768, p-value = 0.0468\n",
       "alternative hypothesis: Expectation greater than statistic\n",
       "sample estimates:\n",
       "Geary C statistic       Expectation          Variance \n",
       "       0.87134423        1.00000000        0.00588736 \n"
      ]
     },
     "metadata": {},
     "output_type": "display_data"
    },
    {
     "data": {
      "image/png": "[encoded data removed]",
      "text/plain": [
       "plot without title"
      ]
     },
     "metadata": {
      "image/png": {
       "height": 646.1538,
       "width": 646.1538
      }
     },
     "output_type": "display_data"
    }
   ],
   "source": [
    "options(jupyter.plot_scale=1.3)\n",
    "knn_adj = knearneigh(prov_center, k=4)\n",
    "knn_adj = knn2nb(knn_adj)\n",
    "knn_adj_matrix_norm <- nb2listw(knn_adj, style = \"W\")\n",
    "moran.test(ita_prov$case_sum, knn_adj_matrix_norm)\n",
    "moran.mc(ita_prov$case_sum, knn_adj_matrix_norm, nsim=200)\n",
    "geary.test(ita_prov$case_sum, knn_adj_matrix_norm)\n",
    "moran.plot((ita_prov$case_sum-mean(ita_prov$case_sum))/mean(ita_prov$case_sum), knn_adj_matrix_norm)"
   ]
  },
  {
   "cell_type": "markdown",
   "id": "cross-anime",
   "metadata": {},
   "source": [
    "Exactly the same plot has been done on the relative increase in number of cases. <br>\n",
    "Here the Moran Index is still significant but it seems that there is an higher spatial correlation (0.17 vs 0.14)."
   ]
  },
  {
   "cell_type": "code",
   "execution_count": 15,
   "id": "remarkable-fishing",
   "metadata": {},
   "outputs": [
    {
     "data": {
      "text/plain": [
       "\n",
       "\tMoran I test under randomisation\n",
       "\n",
       "data:  ita_prov$case_sum_rel  \n",
       "weights: knn_adj_matrix_norm    \n",
       "\n",
       "Moran I statistic standard deviate = 3.3724, p-value = 0.0003726\n",
       "alternative hypothesis: greater\n",
       "sample estimates:\n",
       "Moran I statistic       Expectation          Variance \n",
       "      0.174259669      -0.009433962       0.002966979 \n"
      ]
     },
     "metadata": {},
     "output_type": "display_data"
    },
    {
     "data": {
      "text/plain": [
       "\n",
       "\tMonte-Carlo simulation of Moran I\n",
       "\n",
       "data:  ita_prov$case_sum_rel \n",
       "weights: knn_adj_matrix_norm  \n",
       "number of simulations + 1: 201 \n",
       "\n",
       "statistic = 0.17426, observed rank = 199, p-value = 0.00995\n",
       "alternative hypothesis: greater\n"
      ]
     },
     "metadata": {},
     "output_type": "display_data"
    },
    {
     "data": {
      "text/plain": [
       "\n",
       "\tGeary C test under randomisation\n",
       "\n",
       "data:  ita_prov$case_sum_rel \n",
       "weights: knn_adj_matrix_norm \n",
       "\n",
       "Geary C statistic standard deviate = 3.1391, p-value = 0.0008475\n",
       "alternative hypothesis: Expectation greater than statistic\n",
       "sample estimates:\n",
       "Geary C statistic       Expectation          Variance \n",
       "       0.68308153        1.00000000        0.01019291 \n"
      ]
     },
     "metadata": {},
     "output_type": "display_data"
    },
    {
     "data": {
      "image/png": "[encoded data removed]",
      "text/plain": [
       "plot without title"
      ]
     },
     "metadata": {
      "image/png": {
       "height": 646.1538,
       "width": 646.1538
      }
     },
     "output_type": "display_data"
    }
   ],
   "source": [
    "moran.test(ita_prov$case_sum_rel, knn_adj_matrix_norm)\n",
    "moran.mc(ita_prov$case_sum_rel, knn_adj_matrix_norm, nsim=200)\n",
    "geary.test(ita_prov$case_sum_rel, knn_adj_matrix_norm)\n",
    "moran.plot((ita_prov$case_sum_rel-mean(ita_prov$case_sum_rel))/mean(ita_prov$case_sum_rel), knn_adj_matrix_norm)"
   ]
  },
  {
   "cell_type": "markdown",
   "id": "frequent-birth",
   "metadata": {},
   "source": [
    "# 3 - Regression\n",
    "In this section I tried to find the number of inhabitants divided by age range can be predictors for the number of cases in the period DEC 2020 -> JAN 2021. The expectation is to have a dependence on the age range 20-40 that represents the people who probably came back home for christmas."
   ]
  },
  {
   "cell_type": "code",
   "execution_count": 16,
   "id": "indonesian-valuation",
   "metadata": {
    "scrolled": false
   },
   "outputs": [
    {
     "data": {
      "image/png": "[encoded data removed]",
      "text/plain": [
       "Plot with title \"Histogram of ita_prov$case_sum\""
      ]
     },
     "metadata": {
      "image/png": {
       "height": 646.1538,
       "width": 646.1538
      }
     },
     "output_type": "display_data"
    },
    {
     "data": {
      "image/png": "[encoded data removed]",
      "text/plain": [
       "Plot with title \"Histogram of ita_prov$case_sum_rel\""
      ]
     },
     "metadata": {
      "image/png": {
       "height": 646.1538,
       "width": 646.1538
      }
     },
     "output_type": "display_data"
    }
   ],
   "source": [
    "hist(ita_prov$case_sum, col='blue', breaks=50)\n",
    "hist(ita_prov$case_sum_rel, col='red', breaks=100)"
   ]
  },
  {
   "cell_type": "markdown",
   "id": "usual-graphics",
   "metadata": {},
   "source": [
    "## 3.1 Regression on age range\n",
    "### 3.1.1 Regress on total cases (case_sum column) - No Spatial Models\n",
    "In this section I regressed on the total number of new cases in the selected period."
   ]
  },
  {
   "cell_type": "markdown",
   "id": "frozen-clinic",
   "metadata": {},
   "source": [
    "Before fitting any model with spatial dependence I fit a simple linear regression model. <br>\n",
    "It seems that the only significant variables are the range 0_15, 30_39. All the others have a very high p-value."
   ]
  },
  {
   "cell_type": "code",
   "execution_count": 17,
   "id": "accurate-corporation",
   "metadata": {
    "scrolled": false
   },
   "outputs": [
    {
     "data": {
      "text/plain": [
       "\n",
       "Call:\n",
       "lm(formula = case_sum ~ ., data = data)\n",
       "\n",
       "Residuals:\n",
       "   Min     1Q Median     3Q    Max \n",
       "-18236  -3762  -1099   2538  31846 \n",
       "\n",
       "Coefficients:\n",
       "                Estimate Std. Error t value Pr(>|t|)   \n",
       "(Intercept)    2879.9377  1671.9316   1.723  0.08820 . \n",
       "var_0_15_tot      1.6909     0.6764   2.500  0.01411 * \n",
       "var_16_19_tot   -13.5804     7.8955  -1.720  0.08865 . \n",
       "var_20_29_tot     5.2984     3.4021   1.557  0.12268   \n",
       "var_30_39_tot    -3.9399     1.2584  -3.131  0.00231 **\n",
       "var_40_49_tot     1.6630     0.8889   1.871  0.06440 . \n",
       "var_50_59_tot    -0.3680     0.6765  -0.544  0.58775   \n",
       "var_60_69_tot     0.6214     1.0898   0.570  0.56984   \n",
       "var_70_79_tot     0.4092     1.0902   0.375  0.70826   \n",
       "var_80_89_tot    -2.0293     1.1280  -1.799  0.07515 . \n",
       "var_90plus_tot    1.9281     2.3418   0.823  0.41235   \n",
       "---\n",
       "Signif. codes:  0 '***' 0.001 '**' 0.01 '*' 0.05 '.' 0.1 ' ' 1\n",
       "\n",
       "Residual standard error: 8029 on 96 degrees of freedom\n",
       "Multiple R-squared:  0.3465,\tAdjusted R-squared:  0.2784 \n",
       "F-statistic: 5.089 on 10 and 96 DF,  p-value: 6.214e-06\n"
      ]
     },
     "metadata": {},
     "output_type": "display_data"
    },
    {
     "data": {
      "text/html": [
       "<table class=\"dataframe\">\n",
       "<caption>A data.frame: 6 × 3</caption>\n",
       "<thead>\n",
       "\t<tr><th></th><th scope=col>ita_prov.DEN_PCM</th><th scope=col>data.case_sum</th><th scope=col>fitted.no_spatial_model.</th></tr>\n",
       "\t<tr><th></th><th scope=col>&lt;chr&gt;</th><th scope=col>&lt;int&gt;</th><th scope=col>&lt;dbl&gt;</th></tr>\n",
       "</thead>\n",
       "<tbody>\n",
       "\t<tr><th scope=row>1</th><td>Torino     </td><td>26628</td><td>16987.280</td></tr>\n",
       "\t<tr><th scope=row>20</th><td>Vercelli   </td><td> 1914</td><td> 7178.929</td></tr>\n",
       "\t<tr><th scope=row>31</th><td>Novara     </td><td> 4551</td><td> 5650.319</td></tr>\n",
       "\t<tr><th scope=row>42</th><td>Cuneo      </td><td> 7345</td><td>17132.540</td></tr>\n",
       "\t<tr><th scope=row>53</th><td>Asti       </td><td> 3712</td><td> 5996.284</td></tr>\n",
       "\t<tr><th scope=row>64</th><td>Alessandria</td><td> 5214</td><td>10242.578</td></tr>\n",
       "</tbody>\n",
       "</table>\n"
      ],
      "text/latex": [
       "A data.frame: 6 × 3\n",
       "\\begin{tabular}{r|lll}\n",
       "  & ita\\_prov.DEN\\_PCM & data.case\\_sum & fitted.no\\_spatial\\_model.\\\\\n",
       "  & <chr> & <int> & <dbl>\\\\\n",
       "\\hline\n",
       "\t1 & Torino      & 26628 & 16987.280\\\\\n",
       "\t20 & Vercelli    &  1914 &  7178.929\\\\\n",
       "\t31 & Novara      &  4551 &  5650.319\\\\\n",
       "\t42 & Cuneo       &  7345 & 17132.540\\\\\n",
       "\t53 & Asti        &  3712 &  5996.284\\\\\n",
       "\t64 & Alessandria &  5214 & 10242.578\\\\\n",
       "\\end{tabular}\n"
      ],
      "text/markdown": [
       "\n",
       "A data.frame: 6 × 3\n",
       "\n",
       "| <!--/--> | ita_prov.DEN_PCM &lt;chr&gt; | data.case_sum &lt;int&gt; | fitted.no_spatial_model. &lt;dbl&gt; |\n",
       "|---|---|---|---|\n",
       "| 1 | Torino      | 26628 | 16987.280 |\n",
       "| 20 | Vercelli    |  1914 |  7178.929 |\n",
       "| 31 | Novara      |  4551 |  5650.319 |\n",
       "| 42 | Cuneo       |  7345 | 17132.540 |\n",
       "| 53 | Asti        |  3712 |  5996.284 |\n",
       "| 64 | Alessandria |  5214 | 10242.578 |\n",
       "\n"
      ],
      "text/plain": [
       "   ita_prov.DEN_PCM data.case_sum fitted.no_spatial_model.\n",
       "1  Torino           26628         16987.280               \n",
       "20 Vercelli          1914          7178.929               \n",
       "31 Novara            4551          5650.319               \n",
       "42 Cuneo             7345         17132.540               \n",
       "53 Asti              3712          5996.284               \n",
       "64 Alessandria       5214         10242.578               "
      ]
     },
     "metadata": {},
     "output_type": "display_data"
    },
    {
     "data": {
      "image/png": "[encoded data removed]",
      "text/plain": [
       "Plot with title \"\""
      ]
     },
     "metadata": {
      "image/png": {
       "height": 646.1538,
       "width": 646.1538
      }
     },
     "output_type": "display_data"
    },
    {
     "data": {
      "image/png": "[encoded data removed]",
      "text/plain": [
       "Plot with title \"\""
      ]
     },
     "metadata": {
      "image/png": {
       "height": 646.1538,
       "width": 646.1538
      }
     },
     "output_type": "display_data"
    },
    {
     "data": {
      "image/png": "[encoded data removed]",
      "text/plain": [
       "Plot with title \"\""
      ]
     },
     "metadata": {
      "image/png": {
       "height": 646.1538,
       "width": 646.1538
      }
     },
     "output_type": "display_data"
    },
    {
     "data": {
      "image/png": "[encoded data removed]",
      "text/plain": [
       "Plot with title \"\""
      ]
     },
     "metadata": {
      "image/png": {
       "height": 646.1538,
       "width": 646.1538
      }
     },
     "output_type": "display_data"
    }
   ],
   "source": [
    "all_columns = c('case_sum') # c('inhabitants','case_sum')\n",
    "for(r_eta in unique_range_eta){\n",
    "    all_columns=c(all_columns,paste(r_eta, \"_tot\", sep=\"\"))\n",
    "}\n",
    "data = as.data.frame(ita_prov[all_columns])\n",
    "\n",
    "no_spatial_model = lm(case_sum ~ ., data = data)\n",
    "summary(no_spatial_model)\n",
    "res =  resid(no_spatial_model)\n",
    "head(data.frame(ita_prov$DEN_PCM,data$case_sum,fitted(no_spatial_model)))\n",
    "# plot(fitted(no_spatial_model), res)\n",
    "plot(lm(case_sum ~ ., data = data)) "
   ]
  },
  {
   "cell_type": "markdown",
   "id": "corrected-rwanda",
   "metadata": {},
   "source": [
    "Fit a reduced model only on significant variables."
   ]
  },
  {
   "cell_type": "code",
   "execution_count": 18,
   "id": "allied-cache",
   "metadata": {
    "scrolled": false
   },
   "outputs": [
    {
     "data": {
      "text/plain": [
       "\n",
       "Call:\n",
       "lm(formula = f, data = data)\n",
       "\n",
       "Residuals:\n",
       "   Min     1Q Median     3Q    Max \n",
       "-14468  -4283  -2084   1505  41075 \n",
       "\n",
       "Coefficients:\n",
       "               Estimate Std. Error t value Pr(>|t|)   \n",
       "(Intercept)   3910.9354  1399.5047   2.795  0.00619 **\n",
       "var_0_15_tot     0.6207     0.2683   2.313  0.02269 * \n",
       "var_30_39_tot   -0.6768     0.3287  -2.059  0.04198 * \n",
       "---\n",
       "Signif. codes:  0 '***' 0.001 '**' 0.01 '*' 0.05 '.' 0.1 ' ' 1\n",
       "\n",
       "Residual standard error: 8484 on 104 degrees of freedom\n",
       "Multiple R-squared:  0.2095,\tAdjusted R-squared:  0.1943 \n",
       "F-statistic: 13.78 on 2 and 104 DF,  p-value: 4.904e-06\n"
      ]
     },
     "metadata": {},
     "output_type": "display_data"
    },
    {
     "data": {
      "text/html": [
       "<table class=\"dataframe\">\n",
       "<caption>A data.frame: 6 × 3</caption>\n",
       "<thead>\n",
       "\t<tr><th></th><th scope=col>ita_prov.DEN_PCM</th><th scope=col>data.case_sum</th><th scope=col>fitted.no_spatial_red_model.</th></tr>\n",
       "\t<tr><th></th><th scope=col>&lt;chr&gt;</th><th scope=col>&lt;int&gt;</th><th scope=col>&lt;dbl&gt;</th></tr>\n",
       "</thead>\n",
       "<tbody>\n",
       "\t<tr><th scope=row>1</th><td>Torino     </td><td>26628</td><td>14369.072</td></tr>\n",
       "\t<tr><th scope=row>20</th><td>Vercelli   </td><td> 1914</td><td> 7099.819</td></tr>\n",
       "\t<tr><th scope=row>31</th><td>Novara     </td><td> 4551</td><td> 5965.281</td></tr>\n",
       "\t<tr><th scope=row>42</th><td>Cuneo      </td><td> 7345</td><td>14476.466</td></tr>\n",
       "\t<tr><th scope=row>53</th><td>Asti       </td><td> 3712</td><td> 6222.208</td></tr>\n",
       "\t<tr><th scope=row>64</th><td>Alessandria</td><td> 5214</td><td> 9364.022</td></tr>\n",
       "</tbody>\n",
       "</table>\n"
      ],
      "text/latex": [
       "A data.frame: 6 × 3\n",
       "\\begin{tabular}{r|lll}\n",
       "  & ita\\_prov.DEN\\_PCM & data.case\\_sum & fitted.no\\_spatial\\_red\\_model.\\\\\n",
       "  & <chr> & <int> & <dbl>\\\\\n",
       "\\hline\n",
       "\t1 & Torino      & 26628 & 14369.072\\\\\n",
       "\t20 & Vercelli    &  1914 &  7099.819\\\\\n",
       "\t31 & Novara      &  4551 &  5965.281\\\\\n",
       "\t42 & Cuneo       &  7345 & 14476.466\\\\\n",
       "\t53 & Asti        &  3712 &  6222.208\\\\\n",
       "\t64 & Alessandria &  5214 &  9364.022\\\\\n",
       "\\end{tabular}\n"
      ],
      "text/markdown": [
       "\n",
       "A data.frame: 6 × 3\n",
       "\n",
       "| <!--/--> | ita_prov.DEN_PCM &lt;chr&gt; | data.case_sum &lt;int&gt; | fitted.no_spatial_red_model. &lt;dbl&gt; |\n",
       "|---|---|---|---|\n",
       "| 1 | Torino      | 26628 | 14369.072 |\n",
       "| 20 | Vercelli    |  1914 |  7099.819 |\n",
       "| 31 | Novara      |  4551 |  5965.281 |\n",
       "| 42 | Cuneo       |  7345 | 14476.466 |\n",
       "| 53 | Asti        |  3712 |  6222.208 |\n",
       "| 64 | Alessandria |  5214 |  9364.022 |\n",
       "\n"
      ],
      "text/plain": [
       "   ita_prov.DEN_PCM data.case_sum fitted.no_spatial_red_model.\n",
       "1  Torino           26628         14369.072                   \n",
       "20 Vercelli          1914          7099.819                   \n",
       "31 Novara            4551          5965.281                   \n",
       "42 Cuneo             7345         14476.466                   \n",
       "53 Asti              3712          6222.208                   \n",
       "64 Alessandria       5214          9364.022                   "
      ]
     },
     "metadata": {},
     "output_type": "display_data"
    },
    {
     "data": {
      "image/png": "[encoded data removed]",
      "text/plain": [
       "Plot with title \"\""
      ]
     },
     "metadata": {
      "image/png": {
       "height": 646.1538,
       "width": 646.1538
      }
     },
     "output_type": "display_data"
    },
    {
     "data": {
      "image/png": "[encoded data removed]",
      "text/plain": [
       "Plot with title \"\""
      ]
     },
     "metadata": {
      "image/png": {
       "height": 646.1538,
       "width": 646.1538
      }
     },
     "output_type": "display_data"
    },
    {
     "data": {
      "image/png": "[encoded data removed]",
      "text/plain": [
       "Plot with title \"\""
      ]
     },
     "metadata": {
      "image/png": {
       "height": 646.1538,
       "width": 646.1538
      }
     },
     "output_type": "display_data"
    },
    {
     "data": {
      "image/png": "[encoded data removed]",
      "text/plain": [
       "Plot with title \"\""
      ]
     },
     "metadata": {
      "image/png": {
       "height": 646.1538,
       "width": 646.1538
      }
     },
     "output_type": "display_data"
    }
   ],
   "source": [
    "f = case_sum ~ var_0_15_tot + var_30_39_tot\n",
    "no_spatial_red_model = lm(f, data = data)\n",
    "summary(no_spatial_red_model)\n",
    "res =  resid(no_spatial_red_model)\n",
    "# plot(fitted(no_spatial_model), res)\n",
    "head(data.frame(ita_prov$DEN_PCM,data$case_sum,fitted(no_spatial_red_model)))\n",
    "plot(lm(f, data = data))"
   ]
  },
  {
   "cell_type": "markdown",
   "id": "excited-short",
   "metadata": {},
   "source": [
    "### 3.1.2 Regress on total cases (case_sum column) - Spatial Models\n",
    "#### 3.1.2.1 Spatial simultaneous autoregressive error model\n",
    "Fit a model with spatial error model. <br>"
   ]
  },
  {
   "cell_type": "code",
   "execution_count": 19,
   "id": "forced-sacramento",
   "metadata": {
    "scrolled": false
   },
   "outputs": [
    {
     "name": "stderr",
     "output_type": "stream",
     "text": [
      "Warning message in errorsarlm(case_sum ~ ., data = data, listw = adj_matrix_norm):\n",
      "\"inversion of asymptotic covariance matrix failed for tol.solve = 2.22044604925031e-16 \n",
      "  reciprocal condition number = 7.54123e-20 - using numerical Hessian.\"\n"
     ]
    },
    {
     "data": {
      "text/plain": [
       "\n",
       "Call:errorsarlm(formula = case_sum ~ ., data = data, listw = adj_matrix_norm)\n",
       "\n",
       "Residuals:\n",
       "     Min       1Q   Median       3Q      Max \n",
       "-17876.4  -4360.0  -1136.3   2956.3  29873.2 \n",
       "\n",
       "Type: error \n",
       "Coefficients: (asymptotic standard errors) \n",
       "                 Estimate Std. Error z value  Pr(>|z|)\n",
       "(Intercept)    3526.66442 1469.18563  2.4004 0.0163762\n",
       "var_0_15_tot      1.67844    0.51359  3.2681 0.0010828\n",
       "var_16_19_tot    -9.97032    6.19929 -1.6083 0.1077695\n",
       "var_20_29_tot     3.87592    2.68390  1.4441 0.1486999\n",
       "var_30_39_tot    -3.88051    1.00836 -3.8484 0.0001189\n",
       "var_40_49_tot     1.61713    0.72557  2.2288 0.0258287\n",
       "var_50_59_tot    -0.38489    0.55389 -0.6949 0.4871301\n",
       "var_60_69_tot     1.06548    0.87764  1.2140 0.2247374\n",
       "var_70_79_tot    -0.21723    0.88361 -0.2458 0.8058032\n",
       "var_80_89_tot    -1.58182    0.89960 -1.7584 0.0786866\n",
       "var_90plus_tot    1.17506    1.88526  0.6233 0.5330962\n",
       "\n",
       "Lambda: -0.35043, LR test value: 3.8447, p-value: 0.049902\n",
       "Approximate (numerical Hessian) standard error: 0.17053\n",
       "    z-value: -2.0549, p-value: 0.039886\n",
       "Wald statistic: 4.2227, p-value: 0.039886\n",
       "\n",
       "Log likelihood: -1106.12 for error model\n",
       "ML residual variance (sigma squared): 54266000, (sigma: 7366.5)\n",
       "Number of observations: 107 \n",
       "Number of parameters estimated: 13 \n",
       "AIC: 2238.2, (AIC for lm: 2240.1)\n"
      ]
     },
     "metadata": {},
     "output_type": "display_data"
    },
    {
     "name": "stderr",
     "output_type": "stream",
     "text": [
      "This method assumes the response is known - see manual page\n",
      "\n"
     ]
    },
    {
     "data": {
      "text/html": [
       "<table class=\"dataframe\">\n",
       "<caption>A data.frame: 6 × 3</caption>\n",
       "<thead>\n",
       "\t<tr><th></th><th scope=col>ita_prov.DEN_PCM</th><th scope=col>data.case_sum</th><th scope=col>fitted.ser_model.</th></tr>\n",
       "\t<tr><th></th><th scope=col>&lt;chr&gt;</th><th scope=col>&lt;int&gt;</th><th scope=col>&lt;dbl&gt;</th></tr>\n",
       "</thead>\n",
       "<tbody>\n",
       "\t<tr><th scope=row>1</th><td>Torino     </td><td>26628</td><td>17704.700</td></tr>\n",
       "\t<tr><th scope=row>20</th><td>Vercelli   </td><td> 1914</td><td> 8012.406</td></tr>\n",
       "\t<tr><th scope=row>31</th><td>Novara     </td><td> 4551</td><td> 4624.061</td></tr>\n",
       "\t<tr><th scope=row>42</th><td>Cuneo      </td><td> 7345</td><td>15498.950</td></tr>\n",
       "\t<tr><th scope=row>53</th><td>Asti       </td><td> 3712</td><td> 6547.066</td></tr>\n",
       "\t<tr><th scope=row>64</th><td>Alessandria</td><td> 5214</td><td>10224.531</td></tr>\n",
       "</tbody>\n",
       "</table>\n"
      ],
      "text/latex": [
       "A data.frame: 6 × 3\n",
       "\\begin{tabular}{r|lll}\n",
       "  & ita\\_prov.DEN\\_PCM & data.case\\_sum & fitted.ser\\_model.\\\\\n",
       "  & <chr> & <int> & <dbl>\\\\\n",
       "\\hline\n",
       "\t1 & Torino      & 26628 & 17704.700\\\\\n",
       "\t20 & Vercelli    &  1914 &  8012.406\\\\\n",
       "\t31 & Novara      &  4551 &  4624.061\\\\\n",
       "\t42 & Cuneo       &  7345 & 15498.950\\\\\n",
       "\t53 & Asti        &  3712 &  6547.066\\\\\n",
       "\t64 & Alessandria &  5214 & 10224.531\\\\\n",
       "\\end{tabular}\n"
      ],
      "text/markdown": [
       "\n",
       "A data.frame: 6 × 3\n",
       "\n",
       "| <!--/--> | ita_prov.DEN_PCM &lt;chr&gt; | data.case_sum &lt;int&gt; | fitted.ser_model. &lt;dbl&gt; |\n",
       "|---|---|---|---|\n",
       "| 1 | Torino      | 26628 | 17704.700 |\n",
       "| 20 | Vercelli    |  1914 |  8012.406 |\n",
       "| 31 | Novara      |  4551 |  4624.061 |\n",
       "| 42 | Cuneo       |  7345 | 15498.950 |\n",
       "| 53 | Asti        |  3712 |  6547.066 |\n",
       "| 64 | Alessandria |  5214 | 10224.531 |\n",
       "\n"
      ],
      "text/plain": [
       "   ita_prov.DEN_PCM data.case_sum fitted.ser_model.\n",
       "1  Torino           26628         17704.700        \n",
       "20 Vercelli          1914          8012.406        \n",
       "31 Novara            4551          4624.061        \n",
       "42 Cuneo             7345         15498.950        \n",
       "53 Asti              3712          6547.066        \n",
       "64 Alessandria       5214         10224.531        "
      ]
     },
     "metadata": {},
     "output_type": "display_data"
    },
    {
     "name": "stderr",
     "output_type": "stream",
     "text": [
      "This method assumes the response is known - see manual page\n",
      "\n"
     ]
    },
    {
     "data": {
      "image/png": "[encoded data removed]",
      "text/plain": [
       "plot without title"
      ]
     },
     "metadata": {
      "image/png": {
       "height": 646.1538,
       "width": 646.1538
      }
     },
     "output_type": "display_data"
    }
   ],
   "source": [
    "ser_model <- errorsarlm(case_sum ~ ., data = data, listw = adj_matrix_norm)\n",
    "# Equal to use spautolm(case_sum ~ ., data = data, listw = adj_matrix_norm, family='SAR')\n",
    "summary(ser_model)\n",
    "res =  resid(ser_model)\n",
    "head(data.frame(ita_prov$DEN_PCM,data$case_sum,fitted(ser_model)))\n",
    "plot(fitted(ser_model), res)\n",
    "# plot(ser_model)"
   ]
  },
  {
   "cell_type": "markdown",
   "id": "growing-handbook",
   "metadata": {},
   "source": [
    "#### 3.1.2.2 Spatial simultaneous autoregressive lag model\n",
    "Fit a spatial lag model.\n",
    "##### Aggiungere commento"
   ]
  },
  {
   "cell_type": "code",
   "execution_count": 20,
   "id": "extraordinary-model",
   "metadata": {},
   "outputs": [
    {
     "name": "stderr",
     "output_type": "stream",
     "text": [
      "Warning message in lagsarlm(case_sum ~ ., data = data, listw = adj_matrix_norm):\n",
      "\"inversion of asymptotic covariance matrix failed for tol.solve = 2.22044604925031e-16 \n",
      "  reciprocal condition number = 1.1881e-19 - using numerical Hessian.\"\n"
     ]
    },
    {
     "data": {
      "text/plain": [
       "\n",
       "Call:lagsarlm(formula = case_sum ~ ., data = data, listw = adj_matrix_norm)\n",
       "\n",
       "Residuals:\n",
       "     Min       1Q   Median       3Q      Max \n",
       "-18651.7  -4267.2  -1254.0   3028.5  30996.3 \n",
       "\n",
       "Type: lag \n",
       "Coefficients: (numerical Hessian approximate standard errors) \n",
       "                 Estimate Std. Error z value  Pr(>|z|)\n",
       "(Intercept)    4001.71840 2045.65800  1.9562 0.0504415\n",
       "var_0_15_tot      1.81185    0.65448  2.7684 0.0056333\n",
       "var_16_19_tot   -13.65225    7.27632 -1.8763 0.0606197\n",
       "var_20_29_tot     5.28779    3.14289  1.6825 0.0924797\n",
       "var_30_39_tot    -4.13192    1.18532 -3.4859 0.0004905\n",
       "var_40_49_tot     1.67196    0.82946  2.0157 0.0438301\n",
       "var_50_59_tot    -0.31041    0.65858 -0.4713 0.6374078\n",
       "var_60_69_tot     0.69104    1.04721  0.6599 0.5093271\n",
       "var_70_79_tot     0.37273    1.01684  0.3666 0.7139500\n",
       "var_80_89_tot    -2.13252    1.06204 -2.0079 0.0446496\n",
       "var_90plus_tot    1.92714    2.21824  0.8688 0.3849730\n",
       "\n",
       "Rho: -0.12205, LR test value: 0.74393, p-value: 0.3884\n",
       "Approximate (numerical Hessian) standard error: 0.14228\n",
       "    z-value: -0.85783, p-value: 0.39099\n",
       "Wald statistic: 0.73586, p-value: 0.39099\n",
       "\n",
       "Log likelihood: -1107.67 for lag model\n",
       "ML residual variance (sigma squared): 57241000, (sigma: 7565.8)\n",
       "Number of observations: 107 \n",
       "Number of parameters estimated: 13 \n",
       "AIC: 2241.3, (AIC for lm: 2240.1)\n"
      ]
     },
     "metadata": {},
     "output_type": "display_data"
    },
    {
     "name": "stderr",
     "output_type": "stream",
     "text": [
      "This method assumes the response is known - see manual page\n",
      "\n"
     ]
    },
    {
     "data": {
      "text/html": [
       "<table class=\"dataframe\">\n",
       "<caption>A data.frame: 6 × 3</caption>\n",
       "<thead>\n",
       "\t<tr><th></th><th scope=col>ita_prov.DEN_PCM</th><th scope=col>data.case_sum</th><th scope=col>fitted.slm_model.</th></tr>\n",
       "\t<tr><th></th><th scope=col>&lt;chr&gt;</th><th scope=col>&lt;int&gt;</th><th scope=col>&lt;dbl&gt;</th></tr>\n",
       "</thead>\n",
       "<tbody>\n",
       "\t<tr><th scope=row>1</th><td>Torino     </td><td>26628</td><td>17577.416</td></tr>\n",
       "\t<tr><th scope=row>20</th><td>Vercelli   </td><td> 1914</td><td> 7397.528</td></tr>\n",
       "\t<tr><th scope=row>31</th><td>Novara     </td><td> 4551</td><td> 5222.226</td></tr>\n",
       "\t<tr><th scope=row>42</th><td>Cuneo      </td><td> 7345</td><td>17013.014</td></tr>\n",
       "\t<tr><th scope=row>53</th><td>Asti       </td><td> 3712</td><td> 5776.355</td></tr>\n",
       "\t<tr><th scope=row>64</th><td>Alessandria</td><td> 5214</td><td>10299.303</td></tr>\n",
       "</tbody>\n",
       "</table>\n"
      ],
      "text/latex": [
       "A data.frame: 6 × 3\n",
       "\\begin{tabular}{r|lll}\n",
       "  & ita\\_prov.DEN\\_PCM & data.case\\_sum & fitted.slm\\_model.\\\\\n",
       "  & <chr> & <int> & <dbl>\\\\\n",
       "\\hline\n",
       "\t1 & Torino      & 26628 & 17577.416\\\\\n",
       "\t20 & Vercelli    &  1914 &  7397.528\\\\\n",
       "\t31 & Novara      &  4551 &  5222.226\\\\\n",
       "\t42 & Cuneo       &  7345 & 17013.014\\\\\n",
       "\t53 & Asti        &  3712 &  5776.355\\\\\n",
       "\t64 & Alessandria &  5214 & 10299.303\\\\\n",
       "\\end{tabular}\n"
      ],
      "text/markdown": [
       "\n",
       "A data.frame: 6 × 3\n",
       "\n",
       "| <!--/--> | ita_prov.DEN_PCM &lt;chr&gt; | data.case_sum &lt;int&gt; | fitted.slm_model. &lt;dbl&gt; |\n",
       "|---|---|---|---|\n",
       "| 1 | Torino      | 26628 | 17577.416 |\n",
       "| 20 | Vercelli    |  1914 |  7397.528 |\n",
       "| 31 | Novara      |  4551 |  5222.226 |\n",
       "| 42 | Cuneo       |  7345 | 17013.014 |\n",
       "| 53 | Asti        |  3712 |  5776.355 |\n",
       "| 64 | Alessandria |  5214 | 10299.303 |\n",
       "\n"
      ],
      "text/plain": [
       "   ita_prov.DEN_PCM data.case_sum fitted.slm_model.\n",
       "1  Torino           26628         17577.416        \n",
       "20 Vercelli          1914          7397.528        \n",
       "31 Novara            4551          5222.226        \n",
       "42 Cuneo             7345         17013.014        \n",
       "53 Asti              3712          5776.355        \n",
       "64 Alessandria       5214         10299.303        "
      ]
     },
     "metadata": {},
     "output_type": "display_data"
    },
    {
     "name": "stderr",
     "output_type": "stream",
     "text": [
      "This method assumes the response is known - see manual page\n",
      "\n"
     ]
    },
    {
     "data": {
      "image/png": "[encoded data removed]",
      "text/plain": [
       "plot without title"
      ]
     },
     "metadata": {
      "image/png": {
       "height": 646.1538,
       "width": 646.1538
      }
     },
     "output_type": "display_data"
    }
   ],
   "source": [
    "slm_model <- lagsarlm(case_sum ~ ., data = data, listw = adj_matrix_norm)\n",
    "# Equal to use spautolm(case_sum ~ ., data = data, listw = adj_matrix_norm, family='CAR')\n",
    "summary(slm_model)\n",
    "res =  resid(slm_model)\n",
    "head(data.frame(ita_prov$DEN_PCM,data$case_sum,fitted(slm_model)))\n",
    "plot(fitted(slm_model), res)\n",
    "# plot(ser_model) "
   ]
  },
  {
   "cell_type": "markdown",
   "id": "geographic-pharmacology",
   "metadata": {},
   "source": [
    "#### 3.1.2.3 Spatial Durbin model\n",
    "Fit a Durbin model.\n",
    "##### Aggiungere commento"
   ]
  },
  {
   "cell_type": "code",
   "execution_count": 21,
   "id": "boxed-picture",
   "metadata": {
    "scrolled": false
   },
   "outputs": [
    {
     "name": "stderr",
     "output_type": "stream",
     "text": [
      "Warning message in lagsarlm(case_sum ~ ., data = data, listw = adj_matrix_norm, :\n",
      "\"inversion of asymptotic covariance matrix failed for tol.solve = 2.22044604925031e-16 \n",
      "  reciprocal condition number = 8.3495e-20 - using numerical Hessian.\"\n"
     ]
    },
    {
     "data": {
      "text/plain": [
       "\n",
       "Call:lagsarlm(formula = case_sum ~ ., data = data, listw = adj_matrix_norm, \n",
       "    type = \"mixed\")\n",
       "\n",
       "Residuals:\n",
       "      Min        1Q    Median        3Q       Max \n",
       "-14266.56  -3832.73   -404.75   3039.15  31763.04 \n",
       "\n",
       "Type: mixed \n",
       "Coefficients: (numerical Hessian approximate standard errors) \n",
       "                      Estimate  Std. Error z value Pr(>|z|)\n",
       "(Intercept)         1.0661e+04  3.4712e+03  3.0713 0.002131\n",
       "var_0_15_tot        1.4371e+00  7.4850e-01  1.9199 0.054869\n",
       "var_16_19_tot      -1.6551e+01  6.4182e+00 -2.5787 0.009917\n",
       "var_20_29_tot       6.4881e+00  2.4622e+00  2.6351 0.008411\n",
       "var_30_39_tot      -3.7854e+00  1.1808e+00 -3.2058 0.001347\n",
       "var_40_49_tot       2.0276e+00  7.7721e-01  2.6088 0.009085\n",
       "var_50_59_tot      -4.9305e-01  6.3928e-01 -0.7713 0.440553\n",
       "var_60_69_tot       3.2805e-02  2.9680e-01  0.1105 0.911990\n",
       "var_70_79_tot       6.3860e-01  8.6322e-01  0.7398 0.459427\n",
       "var_80_89_tot      -1.2997e+00  1.1628e+00 -1.1177 0.263689\n",
       "var_90plus_tot      3.3857e-01  2.0323e+00  0.1666 0.867688\n",
       "lag.var_0_15_tot    5.9369e-01  9.5763e-01  0.6200 0.535282\n",
       "lag.var_16_19_tot   1.6184e+01  9.9989e+00  1.6185 0.105545\n",
       "lag.var_20_29_tot  -6.3879e+00  4.2741e+00 -1.4946 0.135025\n",
       "lag.var_30_39_tot  -9.0959e-01  1.8104e+00 -0.5024 0.615364\n",
       "lag.var_40_49_tot  -5.1907e-01  1.3161e+00 -0.3944 0.693279\n",
       "lag.var_50_59_tot   6.9762e-01  1.1240e+00  0.6207 0.534823\n",
       "lag.var_60_69_tot   2.5009e+00  1.4560e+00  1.7177 0.085858\n",
       "lag.var_70_79_tot  -3.4698e+00  1.4848e+00 -2.3368 0.019450\n",
       "lag.var_80_89_tot   1.2460e+00  1.5598e+00  0.7989 0.424367\n",
       "lag.var_90plus_tot -1.9540e+00  3.2583e+00 -0.5997 0.548715\n",
       "\n",
       "Rho: -0.29932, LR test value: 3.7742, p-value: 0.05205\n",
       "Approximate (numerical Hessian) standard error: 0.14873\n",
       "    z-value: -2.0125, p-value: 0.044169\n",
       "Wald statistic: 4.0501, p-value: 0.044169\n",
       "\n",
       "Log likelihood: -1096.476 for mixed model\n",
       "ML residual variance (sigma squared): 45654000, (sigma: 6756.8)\n",
       "Number of observations: 107 \n",
       "Number of parameters estimated: 23 \n",
       "AIC: 2239, (AIC for lm: 2240.7)\n"
      ]
     },
     "metadata": {},
     "output_type": "display_data"
    },
    {
     "name": "stderr",
     "output_type": "stream",
     "text": [
      "This method assumes the response is known - see manual page\n",
      "\n"
     ]
    },
    {
     "data": {
      "text/html": [
       "<table class=\"dataframe\">\n",
       "<caption>A data.frame: 6 × 3</caption>\n",
       "<thead>\n",
       "\t<tr><th></th><th scope=col>ita_prov.DEN_PCM</th><th scope=col>data.case_sum</th><th scope=col>fitted.durbin_model.</th></tr>\n",
       "\t<tr><th></th><th scope=col>&lt;chr&gt;</th><th scope=col>&lt;int&gt;</th><th scope=col>&lt;dbl&gt;</th></tr>\n",
       "</thead>\n",
       "<tbody>\n",
       "\t<tr><th scope=row>1</th><td>Torino     </td><td>26628</td><td>20441.1685</td></tr>\n",
       "\t<tr><th scope=row>20</th><td>Vercelli   </td><td> 1914</td><td> 8899.8149</td></tr>\n",
       "\t<tr><th scope=row>31</th><td>Novara     </td><td> 4551</td><td> 5691.2692</td></tr>\n",
       "\t<tr><th scope=row>42</th><td>Cuneo      </td><td> 7345</td><td>13684.0234</td></tr>\n",
       "\t<tr><th scope=row>53</th><td>Asti       </td><td> 3712</td><td>  102.3683</td></tr>\n",
       "\t<tr><th scope=row>64</th><td>Alessandria</td><td> 5214</td><td> 7599.7609</td></tr>\n",
       "</tbody>\n",
       "</table>\n"
      ],
      "text/latex": [
       "A data.frame: 6 × 3\n",
       "\\begin{tabular}{r|lll}\n",
       "  & ita\\_prov.DEN\\_PCM & data.case\\_sum & fitted.durbin\\_model.\\\\\n",
       "  & <chr> & <int> & <dbl>\\\\\n",
       "\\hline\n",
       "\t1 & Torino      & 26628 & 20441.1685\\\\\n",
       "\t20 & Vercelli    &  1914 &  8899.8149\\\\\n",
       "\t31 & Novara      &  4551 &  5691.2692\\\\\n",
       "\t42 & Cuneo       &  7345 & 13684.0234\\\\\n",
       "\t53 & Asti        &  3712 &   102.3683\\\\\n",
       "\t64 & Alessandria &  5214 &  7599.7609\\\\\n",
       "\\end{tabular}\n"
      ],
      "text/markdown": [
       "\n",
       "A data.frame: 6 × 3\n",
       "\n",
       "| <!--/--> | ita_prov.DEN_PCM &lt;chr&gt; | data.case_sum &lt;int&gt; | fitted.durbin_model. &lt;dbl&gt; |\n",
       "|---|---|---|---|\n",
       "| 1 | Torino      | 26628 | 20441.1685 |\n",
       "| 20 | Vercelli    |  1914 |  8899.8149 |\n",
       "| 31 | Novara      |  4551 |  5691.2692 |\n",
       "| 42 | Cuneo       |  7345 | 13684.0234 |\n",
       "| 53 | Asti        |  3712 |   102.3683 |\n",
       "| 64 | Alessandria |  5214 |  7599.7609 |\n",
       "\n"
      ],
      "text/plain": [
       "   ita_prov.DEN_PCM data.case_sum fitted.durbin_model.\n",
       "1  Torino           26628         20441.1685          \n",
       "20 Vercelli          1914          8899.8149          \n",
       "31 Novara            4551          5691.2692          \n",
       "42 Cuneo             7345         13684.0234          \n",
       "53 Asti              3712           102.3683          \n",
       "64 Alessandria       5214          7599.7609          "
      ]
     },
     "metadata": {},
     "output_type": "display_data"
    },
    {
     "name": "stderr",
     "output_type": "stream",
     "text": [
      "This method assumes the response is known - see manual page\n",
      "\n"
     ]
    },
    {
     "data": {
      "image/png": "[encoded data removed]",
      "text/plain": [
       "plot without title"
      ]
     },
     "metadata": {
      "image/png": {
       "height": 646.1538,
       "width": 646.1538
      }
     },
     "output_type": "display_data"
    }
   ],
   "source": [
    "durbin_model <- lagsarlm(case_sum ~ ., data = data, listw = adj_matrix_norm, type='mixed')\n",
    "summary(durbin_model)\n",
    "res =  resid(durbin_model)\n",
    "head(data.frame(ita_prov$DEN_PCM,data$case_sum,fitted(durbin_model)))\n",
    "plot(fitted(durbin_model), res)\n",
    "# plot(ser_model) "
   ]
  },
  {
   "cell_type": "markdown",
   "id": "immediate-moral",
   "metadata": {},
   "source": [
    "# Backup"
   ]
  },
  {
   "cell_type": "code",
   "execution_count": null,
   "id": "spectacular-cooperation",
   "metadata": {},
   "outputs": [],
   "source": [
    "# aggregate(dati_covid_jan21$totale_casi, by=list(Category=x$Category), FUN=sum)\n",
    "# a = subset(dati_covid_jan21, codice_provincia==1)\n",
    "# diff(a$totale_casi)\n",
    "# dati_covid_jan21$myVar = aggregate(dati_prov_covid$totale_casi, by=list(dati_covid_jan21$\"COD_PROV\"), FUN=mean)$x\n",
    "# subset(dati_prov_covid_jan21, COD_PROV==880)"
   ]
  },
  {
   "cell_type": "code",
   "execution_count": null,
   "id": "physical-cement",
   "metadata": {},
   "outputs": [],
   "source": [
    "data"
   ]
  },
  {
   "cell_type": "code",
   "execution_count": null,
   "id": "selected-mattress",
   "metadata": {},
   "outputs": [],
   "source": [
    "write.csv(as.data.frame(as.data.frame(ita_prov[c('DEN_PROV',all_eta,'inhabitants')])),\"cdd2.csv\", row.names = TRUE)"
   ]
  },
  {
   "cell_type": "code",
   "execution_count": null,
   "id": "rising-villa",
   "metadata": {
    "scrolled": false
   },
   "outputs": [],
   "source": [
    "df = data.frame(data$case_sum,data[c('30-39_tot')])\n",
    "colnames(df) = c('y','x')\n",
    "model = lm(y ~ x, data = df)\n",
    "summary(model)\n",
    "plot(model)"
   ]
  },
  {
   "cell_type": "code",
   "execution_count": null,
   "id": "dying-review",
   "metadata": {},
   "outputs": [],
   "source": []
  },
  {
   "cell_type": "code",
   "execution_count": null,
   "id": "settled-carol",
   "metadata": {},
   "outputs": [],
   "source": [
    "df"
   ]
  },
  {
   "cell_type": "code",
   "execution_count": null,
   "id": "labeled-elimination",
   "metadata": {},
   "outputs": [],
   "source": [
    "str_replace('aa_bb_cc-d','-','test')"
   ]
  },
  {
   "cell_type": "code",
   "execution_count": null,
   "id": "asian-astrology",
   "metadata": {},
   "outputs": [],
   "source": [
    "dati_stat = read.csv(\"C:/Users/peppu/Documents/MyPythonProject/COVID-19/dati-statistici-riferimento/popolazione-istat-regione-range.csv\")\n",
    "dati_stat$COD_REG = as.numeric(dati_stat$codice_regione)\n",
    "dati_stat[dati_stat=='0-15'] = '0_15'\n",
    "head(dati_stat)"
   ]
  },
  {
   "cell_type": "code",
   "execution_count": null,
   "id": "infinite-queen",
   "metadata": {},
   "outputs": [],
   "source": [
    "dati_stat = read.csv(\"C:/Users/peppu/Documents/MyPythonProject/COVID-19/dati-statistici-riferimento/popolazione-istat-regione-range.csv\")\n",
    "dati_stat$COD_REG = as.numeric(dati_stat$codice_regione)\n",
    "unique_range_eta = unique(dati_stat$range_eta)\n",
    "for(r_eta in unique_range_eta){\n",
    "    new_str = str_replace(r_eta,'-','_')\n",
    "    new_str = str_replace(new_str,'\\\\+','plus')\n",
    "    dati_stat[dati_stat==r_eta] = new_str\n",
    "    }\n",
    "head(dati_stat)"
   ]
  },
  {
   "cell_type": "code",
   "execution_count": null,
   "id": "forty-handle",
   "metadata": {},
   "outputs": [],
   "source": [
    "t_for_plot = table(data)\n",
    "\n",
    "# print('Frequenze assolute = ')\n",
    "# t_for_plot\n",
    "# print('Frequenze relative = ')\n",
    "prop.table(t_for_plot, margin=2)\n",
    "bar = barplot(data, beside=F, legend=c('not sick','sick'),col = c(\"blue\", \"red\"),\n",
    "              xlab='Age classes', ylab = 'Absolute frequencies',axis.lty = 1)\n",
    "# bar = barplot(prop.table(t_for_plot, margin=2), beside=F, col = c(\"blue\", \"red\"),\n",
    "#               xlab='Age classes', ylab = 'Relative frequencies',axis.lty = 1)"
   ]
  },
  {
   "cell_type": "code",
   "execution_count": null,
   "id": "liable-carolina",
   "metadata": {},
   "outputs": [],
   "source": [
    "bar = barplot(data$case_sum)"
   ]
  },
  {
   "cell_type": "code",
   "execution_count": null,
   "id": "mysterious-poker",
   "metadata": {},
   "outputs": [],
   "source": [
    "anova(no_spatial_model, no_spatial_red_model)"
   ]
  },
  {
   "cell_type": "code",
   "execution_count": null,
   "id": "collected-encounter",
   "metadata": {},
   "outputs": [],
   "source": [
    "sum(residuals(durbin_model)^2)"
   ]
  },
  {
   "cell_type": "code",
   "execution_count": null,
   "id": "parliamentary-group",
   "metadata": {},
   "outputs": [],
   "source": []
  },
  {
   "cell_type": "code",
   "execution_count": null,
   "id": "organized-custom",
   "metadata": {},
   "outputs": [],
   "source": [
    "colnames(as.data.frame(ita_prov))"
   ]
  },
  {
   "cell_type": "code",
   "execution_count": null,
   "id": "ahead-extreme",
   "metadata": {},
   "outputs": [],
   "source": [
    "summary(slm_model)"
   ]
  },
  {
   "cell_type": "code",
   "execution_count": null,
   "id": "sunrise-blond",
   "metadata": {},
   "outputs": [],
   "source": [
    "summary(spautolm(case_sum ~ ., data = data, listw = adj_matrix_norm, family='CAR'))"
   ]
  },
  {
   "cell_type": "code",
   "execution_count": null,
   "id": "fitted-camel",
   "metadata": {},
   "outputs": [],
   "source": [
    "adj_matrix_norm"
   ]
  },
  {
   "cell_type": "code",
   "execution_count": null,
   "id": "spoken-continent",
   "metadata": {},
   "outputs": [],
   "source": []
  }
 ],
 "metadata": {
  "kernelspec": {
   "display_name": "R",
   "language": "R",
   "name": "ir"
  },
  "language_info": {
   "codemirror_mode": "r",
   "file_extension": ".r",
   "mimetype": "text/x-r-source",
   "name": "R",
   "pygments_lexer": "r",
   "version": "4.0.4"
  }
 },
 "nbformat": 4,
 "nbformat_minor": 5
}
