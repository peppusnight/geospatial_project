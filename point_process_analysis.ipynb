{
 "cells": [
  {
   "cell_type": "code",
   "execution_count": 1,
   "id": "assisted-improvement",
   "metadata": {
    "scrolled": true
   },
   "outputs": [
    {
     "name": "stderr",
     "output_type": "stream",
     "text": [
      "Linking to GEOS 3.9.0, GDAL 3.2.1, PROJ 7.2.1\n",
      "\n",
      "rgdal: version: 1.5-23, (SVN revision 1121)\n",
      "Geospatial Data Abstraction Library extensions to R successfully loaded\n",
      "Loaded GDAL runtime: GDAL 3.2.1, released 2020/12/29\n",
      "Path to GDAL shared files: C:/Users/peppu/Documents/R/win-library/4.0/rgdal/gdal\n",
      "GDAL binary built with GEOS: TRUE \n",
      "Loaded PROJ runtime: Rel. 7.2.1, January 1st, 2021, [PJ_VERSION: 721]\n",
      "Path to PROJ shared files: C:/Users/peppu/Documents/R/win-library/4.0/rgdal/proj\n",
      "PROJ CDN enabled: FALSE\n",
      "Linking to sp version:1.4-5\n",
      "To mute warnings of possible GDAL/OSR exportToProj4() degradation,\n",
      "use options(\"rgdal_show_exportToProj4_warnings\"=\"none\") before loading rgdal.\n",
      "Overwritten PROJ_LIB was C:/Users/peppu/Documents/R/win-library/4.0/rgdal/proj\n",
      "\n",
      "rgeos version: 0.5-5, (SVN revision 640)\n",
      " GEOS runtime version: 3.8.0-CAPI-1.13.1 \n",
      " Linking to sp version: 1.4-5 \n",
      " Polygon checking: TRUE \n",
      "\n",
      "\n",
      "Checking rgeos availability: TRUE\n",
      "\n",
      "Loading required package: spData\n",
      "\n",
      "To access larger datasets in this package, install the spDataLarge\n",
      "package with: `install.packages('spDataLarge',\n",
      "repos='https://nowosad.github.io/drat/', type='source')`\n",
      "\n",
      "Loading required package: spatstat.data\n",
      "\n",
      "Loading required package: spatstat.geom\n",
      "\n",
      "spatstat.geom 2.2-2\n",
      "\n",
      "Loading required package: spatstat.core\n",
      "\n",
      "Loading required package: nlme\n",
      "\n",
      "Loading required package: rpart\n",
      "\n",
      "spatstat.core 2.2-0\n",
      "\n",
      "Loading required package: spatstat.linnet\n",
      "\n",
      "spatstat.linnet 2.2-1\n",
      "\n",
      "\n",
      "spatstat 2.2-0       (nickname: 'That's not important right now') \n",
      "For an introduction to spatstat, type 'beginner' \n",
      "\n",
      "\n",
      "\n",
      "Spatial Point Pattern Analysis Code in S-Plus\n",
      " \n",
      " Version 2 - Spatial and Space-Time analysis\n",
      "\n",
      "\n",
      "\n",
      "Attaching package: 'raster'\n",
      "\n",
      "\n",
      "The following object is masked from 'package:splancs':\n",
      "\n",
      "    zoom\n",
      "\n",
      "\n",
      "The following object is masked from 'package:nlme':\n",
      "\n",
      "    getData\n",
      "\n",
      "\n",
      "The following objects are masked from 'package:spatstat.geom':\n",
      "\n",
      "    area, rotate, shift\n",
      "\n",
      "\n",
      "\n",
      "Attaching package: 'data.table'\n",
      "\n",
      "\n",
      "The following object is masked from 'package:raster':\n",
      "\n",
      "    shift\n",
      "\n",
      "\n",
      "The following object is masked from 'package:spatstat.geom':\n",
      "\n",
      "    shift\n",
      "\n",
      "\n",
      "Loading required package: spatialreg\n",
      "\n",
      "Loading required package: Matrix\n",
      "\n",
      "\n",
      "Attaching package: 'spatialreg'\n",
      "\n",
      "\n",
      "The following objects are masked from 'package:spdep':\n",
      "\n",
      "    as.spam.listw, as_dgRMatrix_listw, as_dsCMatrix_I,\n",
      "    as_dsCMatrix_IrW, as_dsTMatrix_listw, can.be.simmed, cheb_setup,\n",
      "    create_WX, do_ldet, eigen_pre_setup, eigen_setup, eigenw,\n",
      "    errorsarlm, get.ClusterOption, get.coresOption, get.mcOption,\n",
      "    get.VerboseOption, get.ZeroPolicyOption, GMargminImage, GMerrorsar,\n",
      "    griffith_sone, gstsls, Hausman.test, impacts, intImpacts,\n",
      "    Jacobian_W, jacobianSetup, l_max, lagmess, lagsarlm, lextrB,\n",
      "    lextrS, lextrW, lmSLX, LU_prepermutate_setup, LU_setup,\n",
      "    Matrix_J_setup, Matrix_setup, mcdet_setup, MCMCsamp, ME, mom_calc,\n",
      "    mom_calc_int2, moments_setup, powerWeights, sacsarlm,\n",
      "    SE_classic_setup, SE_interp_setup, SE_whichMin_setup,\n",
      "    set.ClusterOption, set.coresOption, set.mcOption,\n",
      "    set.VerboseOption, set.ZeroPolicyOption, similar.listw, spam_setup,\n",
      "    spam_update_setup, SpatialFiltering, spautolm, spBreg_err,\n",
      "    spBreg_lag, spBreg_sac, stsls, subgraph_eigenw, trW\n",
      "\n",
      "\n"
     ]
    }
   ],
   "source": [
    "defaultW <- getOption(\"warn\")\n",
    "options(warn = -1)\n",
    "library(sp)\n",
    "library(sf)\n",
    "library(rgdal)\n",
    "library(rgeos)\n",
    "library(maptools)\n",
    "library(stringr)\n",
    "library(spdep)\n",
    "library(spatstat)\n",
    "library(splancs)\n",
    "#gpclibPermit()\n",
    "library(raster)\n",
    "library(data.table)\n",
    "require(spatialreg)\n",
    "options(warn = defaultW)"
   ]
  },
  {
   "cell_type": "markdown",
   "id": "understanding-lobby",
   "metadata": {},
   "source": [
    "# Inserirsci descrizione dei dati dal Garmin\n",
    "1 punto ogni 5 minuti"
   ]
  },
  {
   "cell_type": "code",
   "execution_count": 2,
   "id": "dynamic-estimate",
   "metadata": {},
   "outputs": [
    {
     "data": {
      "text/html": [
       "<table class=\"dataframe\">\n",
       "<caption>A data.frame: 6 × 12</caption>\n",
       "<thead>\n",
       "\t<tr><th></th><th scope=col>X</th><th scope=col>lat</th><th scope=col>long</th><th scope=col>distance</th><th scope=col>enhanced_altitude</th><th scope=col>altitude</th><th scope=col>enhanced_speed</th><th scope=col>speed</th><th scope=col>heart_rate</th><th scope=col>cadence</th><th scope=col>act_id</th><th scope=col>ts</th></tr>\n",
       "\t<tr><th></th><th scope=col>&lt;int&gt;</th><th scope=col>&lt;dbl&gt;</th><th scope=col>&lt;dbl&gt;</th><th scope=col>&lt;dbl&gt;</th><th scope=col>&lt;dbl&gt;</th><th scope=col>&lt;dbl&gt;</th><th scope=col>&lt;dbl&gt;</th><th scope=col>&lt;dbl&gt;</th><th scope=col>&lt;dbl&gt;</th><th scope=col>&lt;dbl&gt;</th><th scope=col>&lt;dbl&gt;</th><th scope=col>&lt;chr&gt;</th></tr>\n",
       "</thead>\n",
       "<tbody>\n",
       "\t<tr><th scope=row>1</th><td>52</td><td>4851734</td><td>680216.2</td><td>0.92151</td><td>125.8</td><td>125.8</td><td>26.2296</td><td>26.2296</td><td>107</td><td>68</td><td>1</td><td>2016-01-10 10:15:00</td></tr>\n",
       "\t<tr><th scope=row>2</th><td>53</td><td>4850591</td><td>679171.0</td><td>2.59930</td><td>117.4</td><td>117.4</td><td>25.1766</td><td>25.1766</td><td>122</td><td>67</td><td>1</td><td>2016-01-10 10:20:00</td></tr>\n",
       "\t<tr><th scope=row>3</th><td>55</td><td>4850151</td><td>678484.1</td><td>3.89113</td><td>115.0</td><td>115.0</td><td>21.8628</td><td>21.8628</td><td>119</td><td>71</td><td>1</td><td>2016-01-10 10:30:00</td></tr>\n",
       "\t<tr><th scope=row>4</th><td>56</td><td>4850978</td><td>677918.1</td><td>5.20613</td><td>112.6</td><td>112.6</td><td>24.0372</td><td>24.0372</td><td>119</td><td>73</td><td>1</td><td>2016-01-10 10:35:00</td></tr>\n",
       "\t<tr><th scope=row>5</th><td>57</td><td>4851331</td><td>675997.9</td><td>7.34763</td><td>108.4</td><td>108.4</td><td>26.4672</td><td>26.4672</td><td>135</td><td>80</td><td>1</td><td>2016-01-10 10:40:00</td></tr>\n",
       "\t<tr><th scope=row>6</th><td>58</td><td>4851229</td><td>673759.0</td><td>9.58845</td><td>108.4</td><td>108.4</td><td>29.2356</td><td>29.2356</td><td>140</td><td>87</td><td>1</td><td>2016-01-10 10:45:00</td></tr>\n",
       "</tbody>\n",
       "</table>\n"
      ],
      "text/latex": [
       "A data.frame: 6 × 12\n",
       "\\begin{tabular}{r|llllllllllll}\n",
       "  & X & lat & long & distance & enhanced\\_altitude & altitude & enhanced\\_speed & speed & heart\\_rate & cadence & act\\_id & ts\\\\\n",
       "  & <int> & <dbl> & <dbl> & <dbl> & <dbl> & <dbl> & <dbl> & <dbl> & <dbl> & <dbl> & <dbl> & <chr>\\\\\n",
       "\\hline\n",
       "\t1 & 52 & 4851734 & 680216.2 & 0.92151 & 125.8 & 125.8 & 26.2296 & 26.2296 & 107 & 68 & 1 & 2016-01-10 10:15:00\\\\\n",
       "\t2 & 53 & 4850591 & 679171.0 & 2.59930 & 117.4 & 117.4 & 25.1766 & 25.1766 & 122 & 67 & 1 & 2016-01-10 10:20:00\\\\\n",
       "\t3 & 55 & 4850151 & 678484.1 & 3.89113 & 115.0 & 115.0 & 21.8628 & 21.8628 & 119 & 71 & 1 & 2016-01-10 10:30:00\\\\\n",
       "\t4 & 56 & 4850978 & 677918.1 & 5.20613 & 112.6 & 112.6 & 24.0372 & 24.0372 & 119 & 73 & 1 & 2016-01-10 10:35:00\\\\\n",
       "\t5 & 57 & 4851331 & 675997.9 & 7.34763 & 108.4 & 108.4 & 26.4672 & 26.4672 & 135 & 80 & 1 & 2016-01-10 10:40:00\\\\\n",
       "\t6 & 58 & 4851229 & 673759.0 & 9.58845 & 108.4 & 108.4 & 29.2356 & 29.2356 & 140 & 87 & 1 & 2016-01-10 10:45:00\\\\\n",
       "\\end{tabular}\n"
      ],
      "text/markdown": [
       "\n",
       "A data.frame: 6 × 12\n",
       "\n",
       "| <!--/--> | X &lt;int&gt; | lat &lt;dbl&gt; | long &lt;dbl&gt; | distance &lt;dbl&gt; | enhanced_altitude &lt;dbl&gt; | altitude &lt;dbl&gt; | enhanced_speed &lt;dbl&gt; | speed &lt;dbl&gt; | heart_rate &lt;dbl&gt; | cadence &lt;dbl&gt; | act_id &lt;dbl&gt; | ts &lt;chr&gt; |\n",
       "|---|---|---|---|---|---|---|---|---|---|---|---|---|\n",
       "| 1 | 52 | 4851734 | 680216.2 | 0.92151 | 125.8 | 125.8 | 26.2296 | 26.2296 | 107 | 68 | 1 | 2016-01-10 10:15:00 |\n",
       "| 2 | 53 | 4850591 | 679171.0 | 2.59930 | 117.4 | 117.4 | 25.1766 | 25.1766 | 122 | 67 | 1 | 2016-01-10 10:20:00 |\n",
       "| 3 | 55 | 4850151 | 678484.1 | 3.89113 | 115.0 | 115.0 | 21.8628 | 21.8628 | 119 | 71 | 1 | 2016-01-10 10:30:00 |\n",
       "| 4 | 56 | 4850978 | 677918.1 | 5.20613 | 112.6 | 112.6 | 24.0372 | 24.0372 | 119 | 73 | 1 | 2016-01-10 10:35:00 |\n",
       "| 5 | 57 | 4851331 | 675997.9 | 7.34763 | 108.4 | 108.4 | 26.4672 | 26.4672 | 135 | 80 | 1 | 2016-01-10 10:40:00 |\n",
       "| 6 | 58 | 4851229 | 673759.0 | 9.58845 | 108.4 | 108.4 | 29.2356 | 29.2356 | 140 | 87 | 1 | 2016-01-10 10:45:00 |\n",
       "\n"
      ],
      "text/plain": [
       "  X  lat     long     distance enhanced_altitude altitude enhanced_speed\n",
       "1 52 4851734 680216.2 0.92151  125.8             125.8    26.2296       \n",
       "2 53 4850591 679171.0 2.59930  117.4             117.4    25.1766       \n",
       "3 55 4850151 678484.1 3.89113  115.0             115.0    21.8628       \n",
       "4 56 4850978 677918.1 5.20613  112.6             112.6    24.0372       \n",
       "5 57 4851331 675997.9 7.34763  108.4             108.4    26.4672       \n",
       "6 58 4851229 673759.0 9.58845  108.4             108.4    29.2356       \n",
       "  speed   heart_rate cadence act_id ts                 \n",
       "1 26.2296 107        68      1      2016-01-10 10:15:00\n",
       "2 25.1766 122        67      1      2016-01-10 10:20:00\n",
       "3 21.8628 119        71      1      2016-01-10 10:30:00\n",
       "4 24.0372 119        73      1      2016-01-10 10:35:00\n",
       "5 26.4672 135        80      1      2016-01-10 10:40:00\n",
       "6 29.2356 140        87      1      2016-01-10 10:45:00"
      ]
     },
     "metadata": {},
     "output_type": "display_data"
    }
   ],
   "source": [
    "data_garmin = read.csv(\"garmin_data/dati.csv\")\n",
    "data_garmin$long = as.numeric(data_garmin$long)\n",
    "data_garmin$lat = as.numeric(data_garmin$lat)\n",
    "# Change reference system\n",
    "xy <- data_garmin\n",
    "coordinates(xy) <- c(\"long\", \"lat\")\n",
    "proj4string(xy) <- CRS(\"+proj=longlat +zone=32 +datum=WGS84 +units=m +no_defs +ellps=WGS84 +towgs84=0,0,0\")\n",
    "new_coord = spTransform(xy, CRS(\"+proj=utm +zone=32 +datum=WGS84 +units=m +no_defs +ellps=WGS84 +towgs84=0,0,0\"))\n",
    "data_garmin$long = as.numeric(new_coord$long)\n",
    "data_garmin$lat = as.numeric(new_coord$lat)\n",
    "data_garmin_shp <- SpatialPointsDataFrame(data_garmin[,c('long','lat')], data_garmin,\n",
    "                proj4string = CRS(\"+proj=utm +zone=32 +datum=WGS84 +units=m +no_defs +ellps=WGS84 +towgs84=0,0,0\"))\n",
    "head(data_garmin)"
   ]
  },
  {
   "cell_type": "code",
   "execution_count": 3,
   "id": "sharp-alfred",
   "metadata": {},
   "outputs": [
    {
     "name": "stdout",
     "output_type": "stream",
     "text": [
      "OGR data source with driver: ESRI Shapefile \n",
      "Source: \"C:\\Users\\peppu\\Documents\\MyPythonProject\\geospatial_project\\external_shp\\Com01012018_g\\Com01012018_g_WGS84.shp\", layer: \"Com01012018_g_WGS84\"\n",
      "with 7960 features\n",
      "It has 14 fields\n",
      "Integer64 fields read as strings:  COD_RIP COD_REG COD_PROV COD_CM COD_PCM PRO_COM CC_P_CM \n"
     ]
    },
    {
     "data": {
      "text/html": [
       "<table class=\"dataframe\">\n",
       "<caption>A data.frame: 6 × 14</caption>\n",
       "<thead>\n",
       "\t<tr><th></th><th scope=col>SHAPE_LENG</th><th scope=col>COD_RIP</th><th scope=col>COD_REG</th><th scope=col>COD_PROV</th><th scope=col>COD_CM</th><th scope=col>COD_PCM</th><th scope=col>PRO_COM</th><th scope=col>PRO_COM_T</th><th scope=col>COMUNE</th><th scope=col>COMUNE_A</th><th scope=col>CC_P_CM</th><th scope=col>SHAPE_LE_1</th><th scope=col>SHAPE_AREA</th><th scope=col>SHAPE_LEN</th></tr>\n",
       "\t<tr><th></th><th scope=col>&lt;dbl&gt;</th><th scope=col>&lt;chr&gt;</th><th scope=col>&lt;dbl&gt;</th><th scope=col>&lt;dbl&gt;</th><th scope=col>&lt;chr&gt;</th><th scope=col>&lt;chr&gt;</th><th scope=col>&lt;dbl&gt;</th><th scope=col>&lt;chr&gt;</th><th scope=col>&lt;chr&gt;</th><th scope=col>&lt;chr&gt;</th><th scope=col>&lt;chr&gt;</th><th scope=col>&lt;dbl&gt;</th><th scope=col>&lt;dbl&gt;</th><th scope=col>&lt;dbl&gt;</th></tr>\n",
       "</thead>\n",
       "<tbody>\n",
       "\t<tr><th scope=row>0</th><td>16192.777</td><td>1</td><td>1</td><td>1</td><td>201</td><td>201</td><td>1004</td><td>001004</td><td>Albiano d'Ivrea</td><td>NA</td><td>0</td><td>16192.66</td><td>11033556</td><td>16192.66</td></tr>\n",
       "\t<tr><th scope=row>1</th><td>18083.594</td><td>1</td><td>1</td><td>1</td><td>201</td><td>201</td><td>1005</td><td>001005</td><td>Alice Superiore</td><td>NA</td><td>0</td><td>18083.46</td><td> 7508489</td><td>18083.46</td></tr>\n",
       "\t<tr><th scope=row>2</th><td>16077.366</td><td>1</td><td>1</td><td>1</td><td>201</td><td>201</td><td>1006</td><td>001006</td><td>Almese         </td><td>NA</td><td>0</td><td>16077.25</td><td>17717104</td><td>16077.25</td></tr>\n",
       "\t<tr><th scope=row>3</th><td> 8909.466</td><td>1</td><td>1</td><td>1</td><td>201</td><td>201</td><td>1007</td><td>001007</td><td>Alpette        </td><td>NA</td><td>0</td><td> 8909.40</td><td> 5321039</td><td> 8909.40</td></tr>\n",
       "\t<tr><th scope=row>4</th><td>15511.692</td><td>1</td><td>1</td><td>1</td><td>201</td><td>201</td><td>1008</td><td>001008</td><td>Alpignano      </td><td>NA</td><td>0</td><td>15511.57</td><td>11982594</td><td>15511.57</td></tr>\n",
       "\t<tr><th scope=row>5</th><td>11559.538</td><td>1</td><td>1</td><td>1</td><td>201</td><td>201</td><td>1009</td><td>001009</td><td>Andezeno       </td><td>NA</td><td>0</td><td>11559.45</td><td> 7495051</td><td>11559.45</td></tr>\n",
       "</tbody>\n",
       "</table>\n"
      ],
      "text/latex": [
       "A data.frame: 6 × 14\n",
       "\\begin{tabular}{r|llllllllllllll}\n",
       "  & SHAPE\\_LENG & COD\\_RIP & COD\\_REG & COD\\_PROV & COD\\_CM & COD\\_PCM & PRO\\_COM & PRO\\_COM\\_T & COMUNE & COMUNE\\_A & CC\\_P\\_CM & SHAPE\\_LE\\_1 & SHAPE\\_AREA & SHAPE\\_LEN\\\\\n",
       "  & <dbl> & <chr> & <dbl> & <dbl> & <chr> & <chr> & <dbl> & <chr> & <chr> & <chr> & <chr> & <dbl> & <dbl> & <dbl>\\\\\n",
       "\\hline\n",
       "\t0 & 16192.777 & 1 & 1 & 1 & 201 & 201 & 1004 & 001004 & Albiano d'Ivrea & NA & 0 & 16192.66 & 11033556 & 16192.66\\\\\n",
       "\t1 & 18083.594 & 1 & 1 & 1 & 201 & 201 & 1005 & 001005 & Alice Superiore & NA & 0 & 18083.46 &  7508489 & 18083.46\\\\\n",
       "\t2 & 16077.366 & 1 & 1 & 1 & 201 & 201 & 1006 & 001006 & Almese          & NA & 0 & 16077.25 & 17717104 & 16077.25\\\\\n",
       "\t3 &  8909.466 & 1 & 1 & 1 & 201 & 201 & 1007 & 001007 & Alpette         & NA & 0 &  8909.40 &  5321039 &  8909.40\\\\\n",
       "\t4 & 15511.692 & 1 & 1 & 1 & 201 & 201 & 1008 & 001008 & Alpignano       & NA & 0 & 15511.57 & 11982594 & 15511.57\\\\\n",
       "\t5 & 11559.538 & 1 & 1 & 1 & 201 & 201 & 1009 & 001009 & Andezeno        & NA & 0 & 11559.45 &  7495051 & 11559.45\\\\\n",
       "\\end{tabular}\n"
      ],
      "text/markdown": [
       "\n",
       "A data.frame: 6 × 14\n",
       "\n",
       "| <!--/--> | SHAPE_LENG &lt;dbl&gt; | COD_RIP &lt;chr&gt; | COD_REG &lt;dbl&gt; | COD_PROV &lt;dbl&gt; | COD_CM &lt;chr&gt; | COD_PCM &lt;chr&gt; | PRO_COM &lt;dbl&gt; | PRO_COM_T &lt;chr&gt; | COMUNE &lt;chr&gt; | COMUNE_A &lt;chr&gt; | CC_P_CM &lt;chr&gt; | SHAPE_LE_1 &lt;dbl&gt; | SHAPE_AREA &lt;dbl&gt; | SHAPE_LEN &lt;dbl&gt; |\n",
       "|---|---|---|---|---|---|---|---|---|---|---|---|---|---|---|\n",
       "| 0 | 16192.777 | 1 | 1 | 1 | 201 | 201 | 1004 | 001004 | Albiano d'Ivrea | NA | 0 | 16192.66 | 11033556 | 16192.66 |\n",
       "| 1 | 18083.594 | 1 | 1 | 1 | 201 | 201 | 1005 | 001005 | Alice Superiore | NA | 0 | 18083.46 |  7508489 | 18083.46 |\n",
       "| 2 | 16077.366 | 1 | 1 | 1 | 201 | 201 | 1006 | 001006 | Almese          | NA | 0 | 16077.25 | 17717104 | 16077.25 |\n",
       "| 3 |  8909.466 | 1 | 1 | 1 | 201 | 201 | 1007 | 001007 | Alpette         | NA | 0 |  8909.40 |  5321039 |  8909.40 |\n",
       "| 4 | 15511.692 | 1 | 1 | 1 | 201 | 201 | 1008 | 001008 | Alpignano       | NA | 0 | 15511.57 | 11982594 | 15511.57 |\n",
       "| 5 | 11559.538 | 1 | 1 | 1 | 201 | 201 | 1009 | 001009 | Andezeno        | NA | 0 | 11559.45 |  7495051 | 11559.45 |\n",
       "\n"
      ],
      "text/plain": [
       "  SHAPE_LENG COD_RIP COD_REG COD_PROV COD_CM COD_PCM PRO_COM PRO_COM_T\n",
       "0 16192.777  1       1       1        201    201     1004    001004   \n",
       "1 18083.594  1       1       1        201    201     1005    001005   \n",
       "2 16077.366  1       1       1        201    201     1006    001006   \n",
       "3  8909.466  1       1       1        201    201     1007    001007   \n",
       "4 15511.692  1       1       1        201    201     1008    001008   \n",
       "5 11559.538  1       1       1        201    201     1009    001009   \n",
       "  COMUNE          COMUNE_A CC_P_CM SHAPE_LE_1 SHAPE_AREA SHAPE_LEN\n",
       "0 Albiano d'Ivrea NA       0       16192.66   11033556   16192.66 \n",
       "1 Alice Superiore NA       0       18083.46    7508489   18083.46 \n",
       "2 Almese          NA       0       16077.25   17717104   16077.25 \n",
       "3 Alpette         NA       0        8909.40    5321039    8909.40 \n",
       "4 Alpignano       NA       0       15511.57   11982594   15511.57 \n",
       "5 Andezeno        NA       0       11559.45    7495051   11559.45 "
      ]
     },
     "metadata": {},
     "output_type": "display_data"
    }
   ],
   "source": [
    "ita_com = readOGR(\"external_shp/Com01012018_g/Com01012018_g_WGS84.shp\")\n",
    "ita_com$COD_PROV = as.numeric(ita_com$COD_PROV)\n",
    "ita_com$COD_REG = as.numeric(ita_com$COD_REG)\n",
    "ita_com$PRO_COM = as.numeric(ita_com$PRO_COM)\n",
    "head(as.data.frame(ita_com))"
   ]
  },
  {
   "cell_type": "markdown",
   "id": "sustained-hampton",
   "metadata": {},
   "source": [
    "## Speigare perchè i punti rossi"
   ]
  },
  {
   "cell_type": "code",
   "execution_count": 4,
   "id": "remarkable-america",
   "metadata": {},
   "outputs": [
    {
     "name": "stderr",
     "output_type": "stream",
     "text": [
      "Warning message in plot.xy(xy.coords(x, y), type = type, ...):\n",
      "\"\"add\" is not a graphical parameter\"\n",
      "Warning message in plot.xy(xy.coords(x, y), type = type, ...):\n",
      "\"\"add\" is not a graphical parameter\"\n"
     ]
    },
    {
     "data": {
      "image/png": "[encoded data removed]",
      "text/plain": [
       "plot without title"
      ]
     },
     "metadata": {
      "image/png": {
       "height": 840,
       "width": 840
      }
     },
     "output_type": "display_data"
    }
   ],
   "source": [
    "options(jupyter.plot_scale=1)\n",
    "regione_toscana = subset(ita_com, COD_REG==9) # seleziono solo la toscana\n",
    "regione_toscana = ita_com[(ita_com$COD_REG==9) & (ita_com$COD_PROV!=53),]\n",
    "tosc_boundary = unionSpatialPolygons(regione_toscana,IDs = rep(1,nrow(regione_toscana))) # seleziono solo la toscana\n",
    "plot(tosc_boundary,axes=T) # Plot della toscana\n",
    "points(data_garmin[,c('long','lat')],pch=20, add=TRUE) # points(data_garmin_shp,pch=20, add=TRUE) -  plot dei punti\n",
    "points(data_garmin[data_garmin$heart_rate>170,c('long','lat')], pch=20,col = 'red', add=TRUE) # plot dei punti sopra 170 hrm"
   ]
  },
  {
   "cell_type": "markdown",
   "id": "valuable-greensboro",
   "metadata": {},
   "source": [
    "## Spiega che hai voluto far vedere le direzioni principali di uscita da firenze"
   ]
  },
  {
   "cell_type": "code",
   "execution_count": 5,
   "id": "laughing-cancellation",
   "metadata": {},
   "outputs": [
    {
     "name": "stderr",
     "output_type": "stream",
     "text": [
      "Warning message in plot.xy(xy.coords(x, y), type = type, ...):\n",
      "\"\"add\" is not a graphical parameter\"\n"
     ]
    },
    {
     "data": {
      "image/png": "[encoded data removed]",
      "text/plain": [
       "plot without title"
      ]
     },
     "metadata": {
      "image/png": {
       "height": 840,
       "width": 840
      }
     },
     "output_type": "display_data"
    }
   ],
   "source": [
    "plot(subset(ita_com, COMUNE=='Firenze'),c='red')\n",
    "points(data_garmin_shp, add=TRUE)"
   ]
  },
  {
   "cell_type": "markdown",
   "id": "answering-asbestos",
   "metadata": {},
   "source": [
    "## Spiega che sotto volevo vedere la distribuzione di dove vai maggiormente e dove ti alleni maggiormente"
   ]
  },
  {
   "cell_type": "code",
   "execution_count": 10,
   "id": "hispanic-thomson",
   "metadata": {
    "scrolled": false
   },
   "outputs": [
    {
     "data": {
      "image/png": "[encoded data removed]",
      "text/plain": [
       "plot without title"
      ]
     },
     "metadata": {
      "image/png": {
       "height": 840,
       "width": 840
      }
     },
     "output_type": "display_data"
    },
    {
     "data": {
      "image/png": "[encoded data removed]",
      "text/plain": [
       "plot without title"
      ]
     },
     "metadata": {
      "image/png": {
       "height": 840,
       "width": 840
      }
     },
     "output_type": "display_data"
    }
   ],
   "source": [
    "agg_over = table(over_170$PRO_COM,over_170$over_170)\n",
    "agg_over = as.data.frame(cbind(as.numeric(rownames(agg_over)),agg_over))\n",
    "names(agg_over) <- c(\"PRO_COM\",\"facile\",\"difficile\")\n",
    "\n",
    "agg_over$perc_facile <- agg_over$facile/sum(agg_over$facile) * 100\n",
    "agg_over$perc_difficile <- agg_over$difficile/sum(agg_over$difficile) * 100\n",
    "\n",
    "uniti <- merge(regione_toscana,agg_over,by=\"PRO_COM\")\n",
    "uniti$osservazioni <- uniti$difficile + uniti$facile\n",
    "\n",
    "spplot(uniti,\"osservazioni\",\n",
    "       at=c(0,12,2*12,3*12,5*12,12*12,24*12,72*12,96*12,120*12,144*12,168*12,216*12,144*2*12),\n",
    "       main = \"osservazioni per comune\")\n",
    "\n",
    "spplot(uniti,c(\"perc_facile\",\"perc_difficile\"),\n",
    "       at=c(0,0.2,0.5,1,1.5,2,3,4,5,6,8,15,20),\n",
    "      names.attr=c(\"distribuzione percentuale dei \\'facili'\",\"distribuzione percentuale dei \\'difficili'\"))"
   ]
  },
  {
   "cell_type": "markdown",
   "id": "mounted-click",
   "metadata": {},
   "source": [
    "## stima di intensità"
   ]
  },
  {
   "cell_type": "code",
   "execution_count": 12,
   "id": "political-mathematics",
   "metadata": {
    "scrolled": true
   },
   "outputs": [
    {
     "name": "stderr",
     "output_type": "stream",
     "text": [
      "Warning message:\n",
      "\"358 points were rejected as lying outside the specified window\"\n"
     ]
    },
    {
     "data": {
      "text/plain": [
       "Planar point pattern:  19875 points\n",
       "Average intensity 1.075476e-06 points per square unit\n",
       "\n",
       "Coordinates are given to 1 decimal place\n",
       "i.e. rounded to the nearest multiple of 0.1 units\n",
       "\n",
       "Window: polygonal boundary\n",
       "28 separate polygons (1 hole)\n",
       "                  vertices         area relative.area\n",
       "polygon 1               45  1.18257e+07      6.40e-04\n",
       "polygon 2               12  4.75229e+03      2.57e-07\n",
       "polygon 3               17  1.83118e+04      9.91e-07\n",
       "polygon 4               71  1.04789e+07      5.67e-04\n",
       "polygon 5               13  3.42672e+03      1.85e-07\n",
       "polygon 6               15  5.45094e+03      2.95e-07\n",
       "polygon 7               12  1.70147e+04      9.21e-07\n",
       "polygon 8                8  5.07992e+02      2.75e-08\n",
       "polygon 9               17  1.93844e+04      1.05e-06\n",
       "polygon 10               6  1.31773e+03      7.13e-08\n",
       "polygon 11              11  6.76488e+02      3.66e-08\n",
       "polygon 12              13  1.83697e+03      9.94e-08\n",
       "polygon 13               6  9.43111e+02      5.10e-08\n",
       "polygon 14             595  2.21539e+08      1.20e-02\n",
       "polygon 15            3935  1.81994e+10      9.85e-01\n",
       "polygon 16 (hole)       15 -9.17437e+03     -4.96e-07\n",
       "polygon 17              14  1.00602e+05      5.44e-06\n",
       "polygon 18              13  7.85662e+04      4.25e-06\n",
       "polygon 19               9  4.47337e+03      2.42e-07\n",
       "polygon 20               8  3.81268e+03      2.06e-07\n",
       "polygon 21              14  1.13516e+04      6.14e-07\n",
       "polygon 22               6  2.03744e+02      1.10e-08\n",
       "polygon 23              20  1.20513e+04      6.52e-07\n",
       "polygon 24              68  1.94612e+07      1.05e-03\n",
       "polygon 25              40  2.37813e+06      1.29e-04\n",
       "polygon 26               6  3.04695e+03      1.65e-07\n",
       "polygon 27               3  1.30651e+02      7.07e-09\n",
       "polygon 28              69  1.48518e+07      8.04e-04\n",
       "enclosing rectangle: [554716.1, 771618.3] x [4685470, 4924771] units\n",
       "                     (216900 x 239300 units)\n",
       "Window area = 18480200000 square units\n",
       "Fraction of frame area: 0.356\n",
       "\n",
       "*** 358 illegal points stored in attr(,\"rejects\") ***"
      ]
     },
     "metadata": {},
     "output_type": "display_data"
    },
    {
     "data": {
      "text/plain": [
       "Planar point pattern:  782 points\n",
       "Average intensity 4.231558e-08 points per square unit\n",
       "\n",
       "Coordinates are given to 1 decimal place\n",
       "i.e. rounded to the nearest multiple of 0.1 units\n",
       "\n",
       "Window: polygonal boundary\n",
       "28 separate polygons (1 hole)\n",
       "                  vertices         area relative.area\n",
       "polygon 1               45  1.18257e+07      6.40e-04\n",
       "polygon 2               12  4.75229e+03      2.57e-07\n",
       "polygon 3               17  1.83118e+04      9.91e-07\n",
       "polygon 4               71  1.04789e+07      5.67e-04\n",
       "polygon 5               13  3.42672e+03      1.85e-07\n",
       "polygon 6               15  5.45094e+03      2.95e-07\n",
       "polygon 7               12  1.70147e+04      9.21e-07\n",
       "polygon 8                8  5.07992e+02      2.75e-08\n",
       "polygon 9               17  1.93844e+04      1.05e-06\n",
       "polygon 10               6  1.31773e+03      7.13e-08\n",
       "polygon 11              11  6.76488e+02      3.66e-08\n",
       "polygon 12              13  1.83697e+03      9.94e-08\n",
       "polygon 13               6  9.43111e+02      5.10e-08\n",
       "polygon 14             595  2.21539e+08      1.20e-02\n",
       "polygon 15            3935  1.81994e+10      9.85e-01\n",
       "polygon 16 (hole)       15 -9.17437e+03     -4.96e-07\n",
       "polygon 17              14  1.00602e+05      5.44e-06\n",
       "polygon 18              13  7.85662e+04      4.25e-06\n",
       "polygon 19               9  4.47337e+03      2.42e-07\n",
       "polygon 20               8  3.81268e+03      2.06e-07\n",
       "polygon 21              14  1.13516e+04      6.14e-07\n",
       "polygon 22               6  2.03744e+02      1.10e-08\n",
       "polygon 23              20  1.20513e+04      6.52e-07\n",
       "polygon 24              68  1.94612e+07      1.05e-03\n",
       "polygon 25              40  2.37813e+06      1.29e-04\n",
       "polygon 26               6  3.04695e+03      1.65e-07\n",
       "polygon 27               3  1.30651e+02      7.07e-09\n",
       "polygon 28              69  1.48518e+07      8.04e-04\n",
       "enclosing rectangle: [554716.1, 771618.3] x [4685470, 4924771] units\n",
       "                     (216900 x 239300 units)\n",
       "Window area = 18480200000 square units\n",
       "Fraction of frame area: 0.356"
      ]
     },
     "metadata": {},
     "output_type": "display_data"
    }
   ],
   "source": [
    "facili = subset(data_garmin, heart_rate<170)\n",
    "facili_ppp <- ppp(facili$long,facili$lat, window = as.owin(tosc_boundary))\n",
    "summary(facili_ppp) # già vedi l'intensità media\n",
    "\n",
    "difficili = subset(data_garmin, heart_rate>170)\n",
    "difficili_ppp <- ppp(difficili$long,difficili$lat, window = as.owin(tosc_boundary))\n",
    "summary(difficili_ppp) # già vedi l'intensità media"
   ]
  },
  {
   "cell_type": "code",
   "execution_count": 16,
   "id": "crude-progressive",
   "metadata": {},
   "outputs": [
    {
     "data": {
      "text/html": [
       "0"
      ],
      "text/latex": [
       "0"
      ],
      "text/markdown": [
       "0"
      ],
      "text/plain": [
       "[1] 0"
      ]
     },
     "metadata": {},
     "output_type": "display_data"
    },
    {
     "data": {
      "text/html": [
       "0"
      ],
      "text/latex": [
       "0"
      ],
      "text/markdown": [
       "0"
      ],
      "text/plain": [
       "[1] 0"
      ]
     },
     "metadata": {},
     "output_type": "display_data"
    }
   ],
   "source": [
    "sum(duplicated(facili_ppp)) # non ci sono duplicati\n",
    "sum(duplicated(difficili_ppp)) # non ci sono duplicati"
   ]
  },
  {
   "cell_type": "code",
   "execution_count": 26,
   "id": "differential-dietary",
   "metadata": {},
   "outputs": [
    {
     "data": {
      "text/plain": [
       "real-valued pixel image\n",
       "1500 x 1500 pixel array (ny, nx)\n",
       "enclosing rectangle: [554720, 771620] x [4685500, 4924800] units"
      ]
     },
     "metadata": {},
     "output_type": "display_data"
    }
   ],
   "source": [
    "# possiamo definire prima la griglia su cui calcolare la kernel density, oppure \n",
    "griglia <- as.mask(as.owin(tosc_boundary), dimyx = 1500) #500 pixel per lato\n",
    "#kernel density (kernel gaussiano, per vari valori di sigma (che determina la bandwidth))\n",
    "difficili_k1000 <- density(difficili_ppp, sigma = 2000, xy=griglia)\n",
    "plot(difficili_k1000)"
   ]
  },
  {
   "cell_type": "code",
   "execution_count": 28,
   "id": "technical-watch",
   "metadata": {},
   "outputs": [
    {
     "data": {
      "image/png": "[encoded data removed]",
      "text/plain": [
       "Plot with title \"facili_k1000\""
      ]
     },
     "metadata": {
      "image/png": {
       "height": 840,
       "width": 840
      }
     },
     "output_type": "display_data"
    }
   ],
   "source": [
    "facili_k1000 <- density(facili_ppp, sigma = 2000, xy=griglia) \n",
    "plot(facili_k1000)"
   ]
  },
  {
   "cell_type": "code",
   "execution_count": null,
   "id": "offshore-guard",
   "metadata": {},
   "outputs": [],
   "source": []
  },
  {
   "cell_type": "code",
   "execution_count": null,
   "id": "residential-things",
   "metadata": {},
   "outputs": [],
   "source": []
  },
  {
   "cell_type": "markdown",
   "id": "parliamentary-diving",
   "metadata": {},
   "source": [
    "## Spiega cosa volevi far vedere sotto"
   ]
  },
  {
   "cell_type": "code",
   "execution_count": null,
   "id": "fallen-grammar",
   "metadata": {},
   "outputs": [],
   "source": [
    "# Numero di casi per ogni comune (non si capisce, mettilo in fondo)\n",
    "over_170 = over(data_garmin_shp, ita_com)\n",
    "over_170 = cbind(data_garmin_shp$heart_rate>170,over_170)\n",
    "over_170 = over_170[over_170$PRO_COM!=48017,] # Firenze is excluded because it is a sort of outlier\n",
    "names(over_170)[1] <- \"over_170\"\n",
    "\n",
    "# numero di casi e controlli per comune\n",
    "barplot(table(over_170$COMUNE),main='Numero di \"over_170\" per comune')"
   ]
  },
  {
   "cell_type": "markdown",
   "id": "chief-illinois",
   "metadata": {},
   "source": [
    "# Backup"
   ]
  },
  {
   "cell_type": "code",
   "execution_count": null,
   "id": "suburban-mainstream",
   "metadata": {},
   "outputs": [],
   "source": [
    "conta[conta$PRO_COM==51023,]"
   ]
  },
  {
   "cell_type": "code",
   "execution_count": null,
   "id": "economic-radar",
   "metadata": {},
   "outputs": [],
   "source": []
  },
  {
   "cell_type": "code",
   "execution_count": null,
   "id": "dangerous-rates",
   "metadata": {},
   "outputs": [],
   "source": []
  },
  {
   "cell_type": "code",
   "execution_count": null,
   "id": "atomic-diesel",
   "metadata": {},
   "outputs": [],
   "source": [
    "\n"
   ]
  },
  {
   "cell_type": "code",
   "execution_count": null,
   "id": "racial-fitness",
   "metadata": {},
   "outputs": [],
   "source": [
    "ita_com"
   ]
  },
  {
   "cell_type": "code",
   "execution_count": null,
   "id": "suspected-regulation",
   "metadata": {},
   "outputs": [],
   "source": [
    "project(data_garmin[1,c('long','lat')], \"+proj=utm +zone=32 +datum=WGS84 +units=m +no_defs +ellps=WGS84 +towgs84=0,0,0\") "
   ]
  },
  {
   "cell_type": "code",
   "execution_count": null,
   "id": "about-hazard",
   "metadata": {},
   "outputs": [],
   "source": [
    "filter(ita_com, COMUNE %in% c('Firenze'))"
   ]
  },
  {
   "cell_type": "code",
   "execution_count": null,
   "id": "likely-tucson",
   "metadata": {
    "scrolled": true
   },
   "outputs": [],
   "source": [
    "project(cbind(c(11.24015, 43.79671), c(41.07388, 14.84971)) , \"+proj=utm +zone=32 +datum=WGS84 +units=m +no_defs +ellps=WGS84 +towgs84=0,0,0\") \n"
   ]
  },
  {
   "cell_type": "code",
   "execution_count": null,
   "id": "juvenile-catalyst",
   "metadata": {},
   "outputs": [],
   "source": [
    "# writeOGR(points_shp, \"output_pp/garmin_data.shp\", \"\", driver=\"ESRI Shapefile\")\n",
    "project(cbind(c(14.84971, 41.07388), c(41.07388, 14.84971)) , \"+proj=utm +zone=33 +datum=WGS84 +units=m +no_defs +ellps=WGS84 +towgs84=0,0,0\") \n",
    "# cbind(c(1, 1), c(10, 50)) "
   ]
  },
  {
   "cell_type": "code",
   "execution_count": null,
   "id": "naval-musician",
   "metadata": {},
   "outputs": [],
   "source": [
    "xy <- data_garmin\n",
    "coordinates(xy) <- c(\"long\", \"lat\")\n",
    "proj4string(xy) <- CRS(\"+proj=longlat +zone=32 +datum=WGS84 +units=m +no_defs +ellps=WGS84 +towgs84=0,0,0\")\n",
    "new_coord = spTransform(xy, CRS(\"+proj=utm +zone=32 +datum=WGS84 +units=m +no_defs +ellps=WGS84 +towgs84=0,0,0\"))"
   ]
  },
  {
   "cell_type": "code",
   "execution_count": null,
   "id": "double-naples",
   "metadata": {},
   "outputs": [],
   "source": []
  },
  {
   "cell_type": "code",
   "execution_count": null,
   "id": "narrow-trademark",
   "metadata": {},
   "outputs": [],
   "source": [
    "plot(subset(ita_com, COMUNE=='Firenze'),c='red')\n",
    "points(data_garmin_shp, add=TRUE)\n"
   ]
  },
  {
   "cell_type": "code",
   "execution_count": null,
   "id": "still-legend",
   "metadata": {
    "scrolled": true
   },
   "outputs": [],
   "source": [
    "a$long"
   ]
  },
  {
   "cell_type": "code",
   "execution_count": null,
   "id": "administrative-summary",
   "metadata": {
    "scrolled": true
   },
   "outputs": [],
   "source": [
    "as.data.frame(a)"
   ]
  },
  {
   "cell_type": "code",
   "execution_count": null,
   "id": "protecting-group",
   "metadata": {},
   "outputs": [],
   "source": [
    "as.data.frame(subset(ita_com, COMUNE=='Firenze'))"
   ]
  },
  {
   "cell_type": "code",
   "execution_count": null,
   "id": "wireless-making",
   "metadata": {
    "scrolled": true
   },
   "outputs": [],
   "source": [
    "FI_PO_com = readOGR(\"C:/Users/peppu/Google Drive/Peppus/Università/Master/Lessons/Block2/GeoSpatialNetwork/GeoSpatial/R/shapes/FI_PO.shp\")\n",
    "as.data.frame(FI_PO_com)"
   ]
  },
  {
   "cell_type": "code",
   "execution_count": null,
   "id": "charming-accessory",
   "metadata": {
    "scrolled": false
   },
   "outputs": [],
   "source": [
    "write.csv(as.data.frame(conta),'trash/aaaa.csv')"
   ]
  },
  {
   "cell_type": "code",
   "execution_count": null,
   "id": "compatible-kitty",
   "metadata": {},
   "outputs": [],
   "source": [
    "unique(ita_com$PRO_COM!=48017)"
   ]
  },
  {
   "cell_type": "code",
   "execution_count": null,
   "id": "collected-ceremony",
   "metadata": {},
   "outputs": [],
   "source": []
  },
  {
   "cell_type": "code",
   "execution_count": null,
   "id": "friendly-cannon",
   "metadata": {},
   "outputs": [],
   "source": [
    "plot(altimetria)"
   ]
  },
  {
   "cell_type": "code",
   "execution_count": null,
   "id": "decimal-directory",
   "metadata": {},
   "outputs": [],
   "source": [
    "terrain"
   ]
  },
  {
   "cell_type": "code",
   "execution_count": null,
   "id": "labeled-locking",
   "metadata": {},
   "outputs": [],
   "source": [
    "a = readGDAL(\"external_shp/altitude100m.tif\")\n",
    "summary(a)\n",
    "# summary(altimetria)\n",
    "image(a, axes = T,col=terrain.colors(10))\n",
    "plot(altimetria,col=terrain.colors(10))"
   ]
  },
  {
   "cell_type": "code",
   "execution_count": null,
   "id": "posted-consumption",
   "metadata": {},
   "outputs": [],
   "source": [
    "altimetria = readGDAL(\"external_shp/altitude100m.tif\")\n",
    "altimetria = spTransform(altimetria, CRS(\"+proj=utm +zone=32 +datum=WGS84 +k=0.9996 +x_0=1500000 +y_0=0 +ellps=intl\"))\n",
    "summary(altimetria)"
   ]
  },
  {
   "cell_type": "code",
   "execution_count": null,
   "id": "heated-strengthening",
   "metadata": {},
   "outputs": [],
   "source": [
    "ppp"
   ]
  },
  {
   "cell_type": "code",
   "execution_count": null,
   "id": "aquatic-circuit",
   "metadata": {},
   "outputs": [],
   "source": []
  }
 ],
 "metadata": {
  "kernelspec": {
   "display_name": "R",
   "language": "R",
   "name": "ir"
  },
  "language_info": {
   "codemirror_mode": "r",
   "file_extension": ".r",
   "mimetype": "text/x-r-source",
   "name": "R",
   "pygments_lexer": "r",
   "version": "4.0.4"
  }
 },
 "nbformat": 4,
 "nbformat_minor": 5
}
